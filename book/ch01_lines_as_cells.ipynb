{
  "cells": [
    {
      "cell_type": "markdown",
      "metadata": {
        "id": "view-in-github",
        "colab_type": "text"
      },
      "source": [
        "<a href=\"https://colab.research.google.com/github/kooll/25t2/blob/main/book/ch01_lines_as_cells.ipynb\" target=\"_parent\"><img src=\"https://colab.research.google.com/assets/colab-badge.svg\" alt=\"Open In Colab\"/></a>"
      ]
    },
    {
      "cell_type": "markdown",
      "id": "a6c10710",
      "metadata": {
        "id": "a6c10710"
      },
      "source": [
        "# 第1章 良いコードとは何か？"
      ]
    },
    {
      "cell_type": "markdown",
      "id": "fb4c3ba5",
      "metadata": {
        "id": "fb4c3ba5"
      },
      "source": [
        "この本は、より良いコードを書く手助けをすることを目的としています。しかしまず、コードを「良い」とするものは何でしょうか？これにはさまざまな考え方があります。最高のコードとは、最も速く動作するコードかもしれません。または、最も読みやすいコードかもしれません。もう一つの可能な定義は、良いコードはメンテナンスがしやすいものだということです。つまり、プロジェクトが変更された場合、新しい要件に合わせてコードを見直し、変更するのが容易であるべきです。ビジネス上の問題の更新、新しい研究の方向性、コードベースの他の部分の更新などにより、コードに対する要件は頻繁に変わるでしょう。"
      ]
    },
    {
      "cell_type": "markdown",
      "id": "eae685e6",
      "metadata": {
        "id": "eae685e6"
      },
      "source": [
        "さらに、コードは複雑であってはならず、予期しない入力があっても壊れるべきではありません。コードに新しいシンプルな機能を追加するのが簡単であるべきです。これが困難である場合、コードがうまく書かれていないことを示唆しています。この章では、良いコードの側面を紹介し、それぞれの例を示します。これらをシンプルさ、モジュール性、可読性、性能、堅牢性の5つのカテゴリに分けます。"
      ]
    },
    {
      "cell_type": "markdown",
      "id": "b09fbcf2",
      "metadata": {
        "id": "b09fbcf2"
      },
      "source": [
        "## なぜ良いコードが重要か"
      ]
    },
    {
      "cell_type": "markdown",
      "id": "37a85402",
      "metadata": {
        "id": "37a85402"
      },
      "source": [
        "データサイエンスのコードが大規模なシステムと統合される場合、特に良いコードが重要です。これには、機械学習モデルを本番環境に投入すること、広範な配布のためのパッケージを作成すること、他のデータサイエンティスト向けのツールを構築することなどが含まれます。大規模なコードベースで繰り返し実行されるものには、特に有用です。プロジェクトが規模や複雑さを増すにつれて、良いコードの価値はますます高まります。"
      ]
    },
    {
      "cell_type": "markdown",
      "id": "aa0c3f29",
      "metadata": {
        "id": "aa0c3f29"
      },
      "source": [
        "時には、あなたが書くコードは一度きりのもの、つまり、明日のデモ用に今日中に急いで作り上げなければならない試作品であることがあります。そして、もしそのコードを本当に一度しか実行しないのであれば、美しくするために時間を費やす必要はなく、必要な機能を果たすコードを書くだけで十分です。しかし、私の経験では、一度きりのデモ用に書いたコードでも、ほぼ確実に再度実行されたり、他の目的で再利用されたりします。緊急性が過ぎ去った後であっても、将来の使用に備えてコードを整理する時間を取ることをお勧めします。"
      ]
    },
    {
      "cell_type": "markdown",
      "id": "4cef9ead",
      "metadata": {
        "id": "4cef9ead"
      },
      "source": [
        "## コード・アズ・クラフト"
      ]
    },
    {
      "cell_type": "markdown",
      "id": "865a629f",
      "metadata": {
        "id": "865a629f"
      },
      "source": [
        "多くのソフトウェアエンジニアは、コードをそれ自体のために上手に書くべき価値のあるものと見なしています。効率的でエレガントなコードには本質的な価値があります。彼らは、扉がスムーズに開き、引き出しがぴったりと合う美しい木製キャビネットに誇りを持つ大工と同様に、うまくできたものに誇りを持っています。彼らは、長持ちするものを作ることから仕事の満足感を得ています。"
      ]
    },
    {
      "cell_type": "markdown",
      "id": "2f526e47",
      "metadata": {
        "id": "2f526e47"
      },
      "source": [
        "これは、コードの詳細を延々と磨くべきだという意味ではありませんが、キーボードの前に座るたびに多くの小さな決定を下すことになります。何を探すべきかがわかれば、より良いコードを書くことを選ぶことができます。ソフトウェアを書く技術を磨き、自分が誇れるものを作るのは良い気持ちです。"
      ]
    },
    {
      "cell_type": "markdown",
      "id": "f483352a",
      "metadata": {
        "id": "f483352a"
      },
      "source": [
        "良いコードは、メンテナンスが容易でもあります。「ビットロット」という現象があります。これは、しばらく使用されていないコードを更新する必要が出てくることを指します。これは、コードが依存しているもの（例えば、サードパーティのライブラリや使用しているオペレーティングシステム）が変化するために起こります。しばらく使っていなかったコードに戻ってきた場合、それを最新化するための作業が必要になるかもしれません。コードがよく構造化され、よく文書化されていれば、これをするのは遥かに簡単です。"
      ]
    },
    {
      "cell_type": "markdown",
      "id": "2f90adcc",
      "metadata": {
        "id": "2f90adcc"
      },
      "source": [
        "テクニカルデット（しばしば「技術的負債」と略される）は、正しく書くのではなく、迅速にコードを書いた結果として生じる未完了の作業を指す一般的な用語です。技術的負債は、不足しているドキュメント、構造が不十分なコード、適切でない変数名、その他の手抜きといった形で現れることがあります。これらはコードを保守したりリファクタリングしたりするのを困難にし、将来的にバグを修正するために多くの時間を費やすことが予想されます。最初からコードをきちんと書いていた場合よりも多くの時間がかかるでしょう。とはいえ、技術的負債はビジネス上の締め切りや予算のためにしばしば避けられないものです。コードを完璧に仕上げる時間が常にあるわけではありません。"
      ]
    },
    {
      "cell_type": "markdown",
      "id": "10438893",
      "metadata": {
        "id": "10438893"
      },
      "source": [
        "要件の変化に適応すること"
      ]
    },
    {
      "cell_type": "markdown",
      "id": "4d0d83df",
      "metadata": {
        "id": "4d0d83df"
      },
      "source": [
        "コードを書くことは橋を建設することとは異なります。橋の設計は完全に練り上げられ、計画が固定され、その後に建設が始まりますが、コードを書く場合はそうではありません。データサイエンスのプロジェクトであれ、その他のプロジェクトであれ、コードを書く上で唯一の一定の要素は、変更が避けられないということです。"
      ]
    },
    {
      "cell_type": "markdown",
      "id": "c07af86d",
      "metadata": {
        "id": "c07af86d"
      },
      "source": [
        "あなたがプロジェクトに取り組む際に、物事が変わることを予期すべきであること。これらの変化は、リサーチプロセスを通じた発見や、ビジネス要件の変化、プロジェクトに組み込みたいイノベーションの結果である場合があります。優れたコードは、これらの変化に容易に適応して、うまく機能することができます。"
      ]
    },
    {
      "cell_type": "markdown",
      "id": "1ab8e5e9",
      "metadata": {
        "id": "1ab8e5e9"
      },
      "source": [
        "コードベースが成長するにつれて、この適応性はますます重要になります。単一の小さなスクリプトであれば、変更を加えるのは簡単です。しかし、プロジェクトが成長し、相互に依存する複数のスクリプトやノートブックに分割されると、複雑になり、変更が難しくなることがあります。"
      ]
    },
    {
      "cell_type": "markdown",
      "id": "13f7a341",
      "metadata": {
        "id": "13f7a341"
      },
      "source": [
        "最初から良いプラクティスを取り入れることで、大規模なプロジェクトでコードを修正するのが容易になります。"
      ]
    },
    {
      "cell_type": "markdown",
      "id": "2a773a08",
      "metadata": {
        "id": "2a773a08"
      },
      "source": [
        "データサイエンスはまだ比較的新しい分野ですが、データサイエンスチームは同じコードベースで複数年にわたって作業し、そのコードが多くの人によって開発されている状況に直面し始めています。その中には、既に会社を去った人もいるかもしれません。このような状況で、プロジェクトがある人から別の人へ引き継がれる場合、コードの品質はさらに重要になります。ドキュメントがしっかりしていて読みやすいコードであれば、他の人の作業を引き継ぐのがはるかに簡単になります。"
      ]
    },
    {
      "cell_type": "markdown",
      "id": "9cf6ea15",
      "metadata": {
        "id": "9cf6ea15"
      },
      "source": [
        "ソフトウェア工学という分野は、何十年もの間、変化する要件や複雑性の増大に対応してきました。この過程で、多くの有用な戦略が開発されており、データサイエンティストとしてそれらを借用し活用することができます。このテーマを調べ始めると、ロバート・C・マーティンの同名の本に記された「クリーンコード」や、頭字語などの言及を見ることがあるかもしれません。"
      ]
    },
    {
      "cell_type": "markdown",
      "id": "2f2c02c3",
      "metadata": {
        "id": "2f2c02c3"
      },
      "source": [
        "前述の通り、この章ではこれらの原則を良いコードの5つの特徴として分けることにしました。それは、シンプルさ、モジュール性、可読性、パフォーマンス、堅牢性です。この章の残りでは、それぞれを詳細に説明します。"
      ]
    },
    {
      "cell_type": "markdown",
      "id": "86e5715c",
      "metadata": {
        "id": "86e5715c"
      },
      "source": [
        "シンプルさ"
      ]
    },
    {
      "cell_type": "markdown",
      "id": "7ff2dfde",
      "metadata": {
        "id": "7ff2dfde"
      },
      "source": [
        "シンプルは複雑よりも良い。"
      ]
    },
    {
      "cell_type": "markdown",
      "id": "1c56fb08",
      "metadata": {
        "id": "1c56fb08"
      },
      "source": [
        "—ティム・ピーターズ、『The Zen of Python（Pythonの禅）』"
      ]
    },
    {
      "cell_type": "markdown",
      "id": "f95a1368",
      "metadata": {
        "id": "f95a1368"
      },
      "source": [
        "小さなプロジェクト、例えばデータビジュアライゼーションのノートブックや短いデータ整形スクリプトを作業している場合、一度にすべての詳細を頭の中で把握することができます。しかし、プロジェクトが成長し、より複雑になるにつれて、それは現実的ではなくなります。機械学習モデルのトレーニングステップは頭の中に保っておくことができるかもしれませんが、入力データのパイプラインやモデルのデプロイメントプロセスまでは把握できません。"
      ]
    },
    {
      "cell_type": "markdown",
      "id": "c344d0f5",
      "metadata": {
        "id": "c344d0f5"
      },
      "source": [
        "複雑性は、要件が変更された際にコードを修正するのを難しくしますが、以下のように定義することができます。"
      ]
    },
    {
      "cell_type": "markdown",
      "id": "0fa684c9",
      "metadata": {
        "id": "0fa684c9"
      },
      "source": [
        "複雑性とは、システムの構造に関連するものであり、システムの理解や変更を困難にする要因を指します。"
      ]
    },
    {
      "cell_type": "markdown",
      "id": "0c5c2d4f",
      "metadata": {
        "id": "0c5c2d4f"
      },
      "source": [
        "—ジョン・K・オースターハウト、『ソフトウェアデザインの哲学』"
      ]
    },
    {
      "cell_type": "markdown",
      "id": "f9147a44",
      "metadata": {
        "id": "f9147a44"
      },
      "source": [
        "これは正確な定義ではありませんが、経験を積むことでシステムがより複雑になる時期を感覚的に捉えられるようになります。その一つの考え方として、何か変更を加えたときに、予想外の形で無関係な部分が壊れることがあります。例えば、顧客レビューのデータに基づいて機械学習モデルを訓練し、自然言語処理（NLP）技術を使用して顧客が購入したアイテムを抽出しようとする場合です。レビューを512文字に切り詰める前処理ステップが別にあります。しかし、モデルをデプロイする際に、その前処理ステップを推論コードに追加し忘れてしまいます。突然、入力データが512文字を超えているため、モデルがエラーを出すようになります。このように、システムが複雑になり始めて、考えることが難しくなっているのです。"
      ]
    },
    {
      "cell_type": "markdown",
      "id": "f9fce06d",
      "metadata": {
        "id": "f9fce06d"
      },
      "source": [
        "コードにおける複雑性について話すとき、それは一般的に偶発的なものであり、プロジェクトの本質的な複雑性とは異なります。たとえば、機械学習プロジェクトが複雑であるのは、さまざまなタイプのモデルや特徴の組み合わせを多数試して、どれが最適かを確認したいからかもしれません。データ分析が複雑なのは、使用しているデータが多くの異なる相互依存パラメータを持っているからかもしれません。これらの複雑性は簡単にすることができず、プロジェクトの一部として存在します。対照的に、偶発的な複雑性とは、ある処理を実現するためにコード内のどの関数を変更すべきかが分からない場合を指します。"
      ]
    },
    {
      "cell_type": "markdown",
      "id": "351cc91a",
      "metadata": {
        "id": "351cc91a"
      },
      "source": [
        "しかし、コードの複雑さを減らすのに役立つツールがあります。プロジェクトが大規模になるにつれて、途中で少しずつ単純化することは大きな利点をもたらします。次のセクションでは、繰り返しを避けることでコードをシンプルに保つ方法について説明します。その後、どのようにして"
      ]
    },
    {
      "cell_type": "markdown",
      "id": "f81d3066",
      "metadata": {
        "id": "f81d3066"
      },
      "source": [
        "コードを簡潔に保つようにしましょう。また、「モジュール性」で説明するように、再利用可能な部分に分けることで、コードが複雑になるのを防ぐこともできます。"
      ]
    },
    {
      "cell_type": "markdown",
      "id": "414848b7",
      "metadata": {
        "id": "414848b7"
      },
      "source": [
        "## DRY（Don’t Repeat Yourself、繰り返しを避ける）"
      ]
    },
    {
      "cell_type": "markdown",
      "id": "68569f2b",
      "metadata": {
        "id": "68569f2b"
      },
      "source": [
        "良いコードを書く上で最も重要な原則の一つは、情報を繰り返さないことです。すべての知識はコード内で一つの表現でなければなりません。もし情報が複数の場所で繰り返されている場合、要件の変更によりその情報を更新する必要が生じたとき、たった一つの変更が多くの更新を意味します。情報を更新する必要があるすべての場所を覚えておく必要があるでしょう。これは難しく、コードの複雑さを増大させます。さらに、重複はバグの発生の可能性を高め、コードが長くなると、それを読むのに多くの時間がかかります。"
      ]
    },
    {
      "cell_type": "markdown",
      "id": "18fc1ae6",
      "metadata": {
        "id": "18fc1ae6"
      },
      "source": [
        "非常に似ているが完全に同じではない2つのコードを見るとき、精神的な努力も増加します。2つのコードが同じことをしているのか、それとも異なることをしているのかを判断するのは難しいです。"
      ]
    },
    {
      "cell_type": "markdown",
      "id": "574da085",
      "metadata": {
        "id": "574da085"
      },
      "source": [
        "こちらは簡単な例です。3つのCSVファイルを開いてpandasのDataFrameに読み込み、いくつかの処理を行い、それぞれのDataFrameを返したいとします。"
      ]
    },
    {
      "cell_type": "markdown",
      "id": "904566d7",
      "metadata": {
        "id": "904566d7"
      },
      "source": [
        "この例のデータは（SDGs）からのものであり、本全体を通じてこのサイトのデータを使用します。このデータの詳細は「本書のデータ」で確認できます。コードとCSVファイルは にあります。"
      ]
    },
    {
      "cell_type": "markdown",
      "id": "8495adfe",
      "metadata": {
        "id": "8495adfe"
      },
      "source": [
        "最初の段階として、次のようなことを行うことができます。"
      ]
    },
    {
      "cell_type": "code",
      "execution_count": null,
      "metadata": {
        "tags": [],
        "id": "213f9d96"
      },
      "outputs": [],
      "source": [
        "from os.path import basename, exists\n",
        "\n",
        "def download(url):\n",
        "    filename = basename(url)\n",
        "    if not exists(filename):\n",
        "        from urllib.request import urlretrieve\n",
        "\n",
        "        local, _ = urlretrieve(url, filename)\n",
        "        print(\"Downloaded \" + str(local))\n",
        "    return filename\n",
        "\n",
        "#download('https://github.com/AllenDowney/ThinkPython/raw/v3/thinkpython.py');\n",
        "#import thinkpython"
      ],
      "id": "213f9d96"
    },
    {
      "cell_type": "code",
      "source": [
        "data_dir = \"https://raw.githubusercontent.com/catherinenelson1/SEforDS/refs/heads/main/data/\"\n",
        "download(data_dir+'sdg_electricity_data.csv');\n",
        "download(data_dir+'sdg_literacy_rate.csv');\n",
        "download(data_dir+'sdg_urban_population.csv');\n",
        "!mkdir data\n",
        "!mv *.csv data/\n"
      ],
      "metadata": {
        "colab": {
          "base_uri": "https://localhost:8080/"
        },
        "id": "8mtXYMQY75B0",
        "outputId": "1bc3388f-8eb5-4ba7-8e76-4fc0d3c3f2ef"
      },
      "id": "8mtXYMQY75B0",
      "execution_count": null,
      "outputs": [
        {
          "output_type": "stream",
          "name": "stdout",
          "text": [
            "Downloaded sdg_electricity_data.csv\n",
            "Downloaded sdg_literacy_rate.csv\n",
            "Downloaded sdg_urban_population.csv\n",
            "mkdir: cannot create directory ‘data’: File exists\n"
          ]
        }
      ]
    },
    {
      "cell_type": "code",
      "execution_count": null,
      "metadata": {
        "id": "5V3Ox2Idmm_G"
      },
      "outputs": [],
      "source": [
        "import pandas as pd"
      ],
      "id": "5V3Ox2Idmm_G"
    },
    {
      "cell_type": "code",
      "execution_count": null,
      "metadata": {
        "id": "v30DtqxNmm_G"
      },
      "outputs": [],
      "source": [
        "\n",
        "#df = pd.read_csv(\"../data/sdg_literacy_rate.csv\")\n",
        "df = pd.read_csv(\"data/sdg_literacy_rate.csv\")\n",
        "df = df.drop([\"Series Name\", \"Series Code\", \"Country Code\"], axis=1)\n",
        "df = df.set_index(\"Country Name\").transpose()"
      ],
      "id": "v30DtqxNmm_G"
    },
    {
      "cell_type": "code",
      "execution_count": null,
      "metadata": {
        "id": "nrhLoDrTmm_H"
      },
      "outputs": [],
      "source": [
        "#df2 = pd.read_csv(\"../data/sdg_electricity_data.csv\")\n",
        "df2 = pd.read_csv(\"data/sdg_electricity_data.csv\")\n",
        "df2 = df2.drop([\"Series Name\", \"Series Code\", \"Country Code\"], axis=1)\n",
        "df2 = df2.set_index(\"Country Name\").transpose()"
      ],
      "id": "nrhLoDrTmm_H"
    },
    {
      "cell_type": "code",
      "execution_count": null,
      "metadata": {
        "id": "CN9OyHYImm_H"
      },
      "outputs": [],
      "source": [
        "#df3 = pd.read_csv(\"../data/sdg_urban_population.csv\")\n",
        "df3 = pd.read_csv(\"data/sdg_urban_population.csv\")\n",
        "df3 = df3.drop([\"Series Name\", \"Series Code\", \"Country Code\"], axis=1)\n",
        "df3 = df3.set_index(\"Country Name\").transpose()"
      ],
      "id": "CN9OyHYImm_H"
    },
    {
      "cell_type": "markdown",
      "id": "ebfdab5a",
      "metadata": {
        "id": "ebfdab5a"
      },
      "source": [
        "しかし、これは不必要に冗長で反復的です。同じ結果を達成するより良い方法は、繰り返されるコードを内に置くことです。"
      ]
    },
    {
      "cell_type": "markdown",
      "id": "d2c21b70",
      "metadata": {
        "id": "d2c21b70"
      },
      "source": [
        "ループ。このコードを繰り返し使用する場合は、次のようにコードを関数内に入れることができます。"
      ]
    },
    {
      "cell_type": "code",
      "execution_count": null,
      "metadata": {
        "id": "keV_wlkDmm_H"
      },
      "outputs": [],
      "source": [
        "def process_sdg_data(csv_file, columns_to_drop):\n",
        "    df = pd.read_csv(csv_file)\n",
        "    df = df.drop(columns_to_drop, axis=1)\n",
        "    df = df.set_index(\"Country Name\").transpose()\n",
        "    return df\n"
      ],
      "id": "keV_wlkDmm_H"
    },
    {
      "cell_type": "code",
      "execution_count": null,
      "metadata": {
        "id": "e7BloDaEmm_H"
      },
      "outputs": [],
      "source": [
        "df = process_sdg_data(\"data/sdg_literacy_rate.csv\", [\"Series Name\", \"Series Code\", \"Country Code\"])"
      ],
      "id": "e7BloDaEmm_H"
    },
    {
      "cell_type": "code",
      "source": [
        "df.head()"
      ],
      "metadata": {
        "id": "-8L2Ed07n5x7",
        "colab": {
          "base_uri": "https://localhost:8080/",
          "height": 412
        },
        "outputId": "7a228f66-747a-4031-ea22-2b846f508595"
      },
      "id": "-8L2Ed07n5x7",
      "execution_count": null,
      "outputs": [
        {
          "output_type": "execute_result",
          "data": {
            "text/plain": [
              "Country Name              World Afghanistan Albania Algeria American Samoa  \\\n",
              "1990 [YR1990]  83.1576919555664          ..      ..      ..             ..   \n",
              "1991 [YR1991]  83.3608779907227          ..      ..      ..             ..   \n",
              "1992 [YR1992]  83.6726989746094          ..      ..      ..             ..   \n",
              "1993 [YR1993]  83.9159317016602          ..      ..      ..             ..   \n",
              "1994 [YR1994]  84.1862030029297          ..      ..      ..             ..   \n",
              "\n",
              "Country Name  Andorra Angola Antigua and Barbuda        Arab World  \\\n",
              "1990 [YR1990]      ..     ..                  ..  72.4959869384766   \n",
              "1991 [YR1991]      ..     ..                  ..  73.9646987915039   \n",
              "1992 [YR1992]      ..     ..                  ..  74.9201431274414   \n",
              "1993 [YR1993]      ..     ..                  ..  74.6631469726563   \n",
              "1994 [YR1994]      ..     ..                  ..  75.5125732421875   \n",
              "\n",
              "Country Name          Argentina  ... Virgin Islands (U.S.) West Bank and Gaza  \\\n",
              "1990 [YR1990]                ..  ...                    ..                 ..   \n",
              "1991 [YR1991]  98.3046417236328  ...                    ..                 ..   \n",
              "1992 [YR1992]                ..  ...                    ..                 ..   \n",
              "1993 [YR1993]                ..  ...                    ..                 ..   \n",
              "1994 [YR1994]                ..  ...                    ..                 ..   \n",
              "\n",
              "Country Name        Yemen, Rep.            Zambia          Zimbabwe  NaN  NaN  \\\n",
              "1990 [YR1990]                ..  66.3811569213867                ..  NaN  NaN   \n",
              "1991 [YR1991]                ..                ..                ..  NaN  NaN   \n",
              "1992 [YR1992]                ..                ..  95.4113616943359  NaN  NaN   \n",
              "1993 [YR1993]                ..                ..                ..  NaN  NaN   \n",
              "1994 [YR1994]  60.2221412658691                ..                ..  NaN  NaN   \n",
              "\n",
              "Country Name   NaN Data from database: Sustainable Development Goals (SDGs)  \\\n",
              "1990 [YR1990]  NaN                                                NaN         \n",
              "1991 [YR1991]  NaN                                                NaN         \n",
              "1992 [YR1992]  NaN                                                NaN         \n",
              "1993 [YR1993]  NaN                                                NaN         \n",
              "1994 [YR1994]  NaN                                                NaN         \n",
              "\n",
              "Country Name  Last Updated: 07/22/2022  \n",
              "1990 [YR1990]                      NaN  \n",
              "1991 [YR1991]                      NaN  \n",
              "1992 [YR1992]                      NaN  \n",
              "1993 [YR1993]                      NaN  \n",
              "1994 [YR1994]                      NaN  \n",
              "\n",
              "[5 rows x 266 columns]"
            ],
            "text/html": [
              "\n",
              "  <div id=\"df-7fa31233-7e92-4242-b38d-39a4d6a11e7e\" class=\"colab-df-container\">\n",
              "    <div>\n",
              "<style scoped>\n",
              "    .dataframe tbody tr th:only-of-type {\n",
              "        vertical-align: middle;\n",
              "    }\n",
              "\n",
              "    .dataframe tbody tr th {\n",
              "        vertical-align: top;\n",
              "    }\n",
              "\n",
              "    .dataframe thead th {\n",
              "        text-align: right;\n",
              "    }\n",
              "</style>\n",
              "<table border=\"1\" class=\"dataframe\">\n",
              "  <thead>\n",
              "    <tr style=\"text-align: right;\">\n",
              "      <th>Country Name</th>\n",
              "      <th>World</th>\n",
              "      <th>Afghanistan</th>\n",
              "      <th>Albania</th>\n",
              "      <th>Algeria</th>\n",
              "      <th>American Samoa</th>\n",
              "      <th>Andorra</th>\n",
              "      <th>Angola</th>\n",
              "      <th>Antigua and Barbuda</th>\n",
              "      <th>Arab World</th>\n",
              "      <th>Argentina</th>\n",
              "      <th>...</th>\n",
              "      <th>Virgin Islands (U.S.)</th>\n",
              "      <th>West Bank and Gaza</th>\n",
              "      <th>Yemen, Rep.</th>\n",
              "      <th>Zambia</th>\n",
              "      <th>Zimbabwe</th>\n",
              "      <th>NaN</th>\n",
              "      <th>NaN</th>\n",
              "      <th>NaN</th>\n",
              "      <th>Data from database: Sustainable Development Goals (SDGs)</th>\n",
              "      <th>Last Updated: 07/22/2022</th>\n",
              "    </tr>\n",
              "  </thead>\n",
              "  <tbody>\n",
              "    <tr>\n",
              "      <th>1990 [YR1990]</th>\n",
              "      <td>83.1576919555664</td>\n",
              "      <td>..</td>\n",
              "      <td>..</td>\n",
              "      <td>..</td>\n",
              "      <td>..</td>\n",
              "      <td>..</td>\n",
              "      <td>..</td>\n",
              "      <td>..</td>\n",
              "      <td>72.4959869384766</td>\n",
              "      <td>..</td>\n",
              "      <td>...</td>\n",
              "      <td>..</td>\n",
              "      <td>..</td>\n",
              "      <td>..</td>\n",
              "      <td>66.3811569213867</td>\n",
              "      <td>..</td>\n",
              "      <td>NaN</td>\n",
              "      <td>NaN</td>\n",
              "      <td>NaN</td>\n",
              "      <td>NaN</td>\n",
              "      <td>NaN</td>\n",
              "    </tr>\n",
              "    <tr>\n",
              "      <th>1991 [YR1991]</th>\n",
              "      <td>83.3608779907227</td>\n",
              "      <td>..</td>\n",
              "      <td>..</td>\n",
              "      <td>..</td>\n",
              "      <td>..</td>\n",
              "      <td>..</td>\n",
              "      <td>..</td>\n",
              "      <td>..</td>\n",
              "      <td>73.9646987915039</td>\n",
              "      <td>98.3046417236328</td>\n",
              "      <td>...</td>\n",
              "      <td>..</td>\n",
              "      <td>..</td>\n",
              "      <td>..</td>\n",
              "      <td>..</td>\n",
              "      <td>..</td>\n",
              "      <td>NaN</td>\n",
              "      <td>NaN</td>\n",
              "      <td>NaN</td>\n",
              "      <td>NaN</td>\n",
              "      <td>NaN</td>\n",
              "    </tr>\n",
              "    <tr>\n",
              "      <th>1992 [YR1992]</th>\n",
              "      <td>83.6726989746094</td>\n",
              "      <td>..</td>\n",
              "      <td>..</td>\n",
              "      <td>..</td>\n",
              "      <td>..</td>\n",
              "      <td>..</td>\n",
              "      <td>..</td>\n",
              "      <td>..</td>\n",
              "      <td>74.9201431274414</td>\n",
              "      <td>..</td>\n",
              "      <td>...</td>\n",
              "      <td>..</td>\n",
              "      <td>..</td>\n",
              "      <td>..</td>\n",
              "      <td>..</td>\n",
              "      <td>95.4113616943359</td>\n",
              "      <td>NaN</td>\n",
              "      <td>NaN</td>\n",
              "      <td>NaN</td>\n",
              "      <td>NaN</td>\n",
              "      <td>NaN</td>\n",
              "    </tr>\n",
              "    <tr>\n",
              "      <th>1993 [YR1993]</th>\n",
              "      <td>83.9159317016602</td>\n",
              "      <td>..</td>\n",
              "      <td>..</td>\n",
              "      <td>..</td>\n",
              "      <td>..</td>\n",
              "      <td>..</td>\n",
              "      <td>..</td>\n",
              "      <td>..</td>\n",
              "      <td>74.6631469726563</td>\n",
              "      <td>..</td>\n",
              "      <td>...</td>\n",
              "      <td>..</td>\n",
              "      <td>..</td>\n",
              "      <td>..</td>\n",
              "      <td>..</td>\n",
              "      <td>..</td>\n",
              "      <td>NaN</td>\n",
              "      <td>NaN</td>\n",
              "      <td>NaN</td>\n",
              "      <td>NaN</td>\n",
              "      <td>NaN</td>\n",
              "    </tr>\n",
              "    <tr>\n",
              "      <th>1994 [YR1994]</th>\n",
              "      <td>84.1862030029297</td>\n",
              "      <td>..</td>\n",
              "      <td>..</td>\n",
              "      <td>..</td>\n",
              "      <td>..</td>\n",
              "      <td>..</td>\n",
              "      <td>..</td>\n",
              "      <td>..</td>\n",
              "      <td>75.5125732421875</td>\n",
              "      <td>..</td>\n",
              "      <td>...</td>\n",
              "      <td>..</td>\n",
              "      <td>..</td>\n",
              "      <td>60.2221412658691</td>\n",
              "      <td>..</td>\n",
              "      <td>..</td>\n",
              "      <td>NaN</td>\n",
              "      <td>NaN</td>\n",
              "      <td>NaN</td>\n",
              "      <td>NaN</td>\n",
              "      <td>NaN</td>\n",
              "    </tr>\n",
              "  </tbody>\n",
              "</table>\n",
              "<p>5 rows × 266 columns</p>\n",
              "</div>\n",
              "    <div class=\"colab-df-buttons\">\n",
              "\n",
              "  <div class=\"colab-df-container\">\n",
              "    <button class=\"colab-df-convert\" onclick=\"convertToInteractive('df-7fa31233-7e92-4242-b38d-39a4d6a11e7e')\"\n",
              "            title=\"Convert this dataframe to an interactive table.\"\n",
              "            style=\"display:none;\">\n",
              "\n",
              "  <svg xmlns=\"http://www.w3.org/2000/svg\" height=\"24px\" viewBox=\"0 -960 960 960\">\n",
              "    <path d=\"M120-120v-720h720v720H120Zm60-500h600v-160H180v160Zm220 220h160v-160H400v160Zm0 220h160v-160H400v160ZM180-400h160v-160H180v160Zm440 0h160v-160H620v160ZM180-180h160v-160H180v160Zm440 0h160v-160H620v160Z\"/>\n",
              "  </svg>\n",
              "    </button>\n",
              "\n",
              "  <style>\n",
              "    .colab-df-container {\n",
              "      display:flex;\n",
              "      gap: 12px;\n",
              "    }\n",
              "\n",
              "    .colab-df-convert {\n",
              "      background-color: #E8F0FE;\n",
              "      border: none;\n",
              "      border-radius: 50%;\n",
              "      cursor: pointer;\n",
              "      display: none;\n",
              "      fill: #1967D2;\n",
              "      height: 32px;\n",
              "      padding: 0 0 0 0;\n",
              "      width: 32px;\n",
              "    }\n",
              "\n",
              "    .colab-df-convert:hover {\n",
              "      background-color: #E2EBFA;\n",
              "      box-shadow: 0px 1px 2px rgba(60, 64, 67, 0.3), 0px 1px 3px 1px rgba(60, 64, 67, 0.15);\n",
              "      fill: #174EA6;\n",
              "    }\n",
              "\n",
              "    .colab-df-buttons div {\n",
              "      margin-bottom: 4px;\n",
              "    }\n",
              "\n",
              "    [theme=dark] .colab-df-convert {\n",
              "      background-color: #3B4455;\n",
              "      fill: #D2E3FC;\n",
              "    }\n",
              "\n",
              "    [theme=dark] .colab-df-convert:hover {\n",
              "      background-color: #434B5C;\n",
              "      box-shadow: 0px 1px 3px 1px rgba(0, 0, 0, 0.15);\n",
              "      filter: drop-shadow(0px 1px 2px rgba(0, 0, 0, 0.3));\n",
              "      fill: #FFFFFF;\n",
              "    }\n",
              "  </style>\n",
              "\n",
              "    <script>\n",
              "      const buttonEl =\n",
              "        document.querySelector('#df-7fa31233-7e92-4242-b38d-39a4d6a11e7e button.colab-df-convert');\n",
              "      buttonEl.style.display =\n",
              "        google.colab.kernel.accessAllowed ? 'block' : 'none';\n",
              "\n",
              "      async function convertToInteractive(key) {\n",
              "        const element = document.querySelector('#df-7fa31233-7e92-4242-b38d-39a4d6a11e7e');\n",
              "        const dataTable =\n",
              "          await google.colab.kernel.invokeFunction('convertToInteractive',\n",
              "                                                    [key], {});\n",
              "        if (!dataTable) return;\n",
              "\n",
              "        const docLinkHtml = 'Like what you see? Visit the ' +\n",
              "          '<a target=\"_blank\" href=https://colab.research.google.com/notebooks/data_table.ipynb>data table notebook</a>'\n",
              "          + ' to learn more about interactive tables.';\n",
              "        element.innerHTML = '';\n",
              "        dataTable['output_type'] = 'display_data';\n",
              "        await google.colab.output.renderOutput(dataTable, element);\n",
              "        const docLink = document.createElement('div');\n",
              "        docLink.innerHTML = docLinkHtml;\n",
              "        element.appendChild(docLink);\n",
              "      }\n",
              "    </script>\n",
              "  </div>\n",
              "\n",
              "\n",
              "    <div id=\"df-9bcde5b9-c8f2-4560-b7ba-f53df20f4282\">\n",
              "      <button class=\"colab-df-quickchart\" onclick=\"quickchart('df-9bcde5b9-c8f2-4560-b7ba-f53df20f4282')\"\n",
              "                title=\"Suggest charts\"\n",
              "                style=\"display:none;\">\n",
              "\n",
              "<svg xmlns=\"http://www.w3.org/2000/svg\" height=\"24px\"viewBox=\"0 0 24 24\"\n",
              "     width=\"24px\">\n",
              "    <g>\n",
              "        <path d=\"M19 3H5c-1.1 0-2 .9-2 2v14c0 1.1.9 2 2 2h14c1.1 0 2-.9 2-2V5c0-1.1-.9-2-2-2zM9 17H7v-7h2v7zm4 0h-2V7h2v10zm4 0h-2v-4h2v4z\"/>\n",
              "    </g>\n",
              "</svg>\n",
              "      </button>\n",
              "\n",
              "<style>\n",
              "  .colab-df-quickchart {\n",
              "      --bg-color: #E8F0FE;\n",
              "      --fill-color: #1967D2;\n",
              "      --hover-bg-color: #E2EBFA;\n",
              "      --hover-fill-color: #174EA6;\n",
              "      --disabled-fill-color: #AAA;\n",
              "      --disabled-bg-color: #DDD;\n",
              "  }\n",
              "\n",
              "  [theme=dark] .colab-df-quickchart {\n",
              "      --bg-color: #3B4455;\n",
              "      --fill-color: #D2E3FC;\n",
              "      --hover-bg-color: #434B5C;\n",
              "      --hover-fill-color: #FFFFFF;\n",
              "      --disabled-bg-color: #3B4455;\n",
              "      --disabled-fill-color: #666;\n",
              "  }\n",
              "\n",
              "  .colab-df-quickchart {\n",
              "    background-color: var(--bg-color);\n",
              "    border: none;\n",
              "    border-radius: 50%;\n",
              "    cursor: pointer;\n",
              "    display: none;\n",
              "    fill: var(--fill-color);\n",
              "    height: 32px;\n",
              "    padding: 0;\n",
              "    width: 32px;\n",
              "  }\n",
              "\n",
              "  .colab-df-quickchart:hover {\n",
              "    background-color: var(--hover-bg-color);\n",
              "    box-shadow: 0 1px 2px rgba(60, 64, 67, 0.3), 0 1px 3px 1px rgba(60, 64, 67, 0.15);\n",
              "    fill: var(--button-hover-fill-color);\n",
              "  }\n",
              "\n",
              "  .colab-df-quickchart-complete:disabled,\n",
              "  .colab-df-quickchart-complete:disabled:hover {\n",
              "    background-color: var(--disabled-bg-color);\n",
              "    fill: var(--disabled-fill-color);\n",
              "    box-shadow: none;\n",
              "  }\n",
              "\n",
              "  .colab-df-spinner {\n",
              "    border: 2px solid var(--fill-color);\n",
              "    border-color: transparent;\n",
              "    border-bottom-color: var(--fill-color);\n",
              "    animation:\n",
              "      spin 1s steps(1) infinite;\n",
              "  }\n",
              "\n",
              "  @keyframes spin {\n",
              "    0% {\n",
              "      border-color: transparent;\n",
              "      border-bottom-color: var(--fill-color);\n",
              "      border-left-color: var(--fill-color);\n",
              "    }\n",
              "    20% {\n",
              "      border-color: transparent;\n",
              "      border-left-color: var(--fill-color);\n",
              "      border-top-color: var(--fill-color);\n",
              "    }\n",
              "    30% {\n",
              "      border-color: transparent;\n",
              "      border-left-color: var(--fill-color);\n",
              "      border-top-color: var(--fill-color);\n",
              "      border-right-color: var(--fill-color);\n",
              "    }\n",
              "    40% {\n",
              "      border-color: transparent;\n",
              "      border-right-color: var(--fill-color);\n",
              "      border-top-color: var(--fill-color);\n",
              "    }\n",
              "    60% {\n",
              "      border-color: transparent;\n",
              "      border-right-color: var(--fill-color);\n",
              "    }\n",
              "    80% {\n",
              "      border-color: transparent;\n",
              "      border-right-color: var(--fill-color);\n",
              "      border-bottom-color: var(--fill-color);\n",
              "    }\n",
              "    90% {\n",
              "      border-color: transparent;\n",
              "      border-bottom-color: var(--fill-color);\n",
              "    }\n",
              "  }\n",
              "</style>\n",
              "\n",
              "      <script>\n",
              "        async function quickchart(key) {\n",
              "          const quickchartButtonEl =\n",
              "            document.querySelector('#' + key + ' button');\n",
              "          quickchartButtonEl.disabled = true;  // To prevent multiple clicks.\n",
              "          quickchartButtonEl.classList.add('colab-df-spinner');\n",
              "          try {\n",
              "            const charts = await google.colab.kernel.invokeFunction(\n",
              "                'suggestCharts', [key], {});\n",
              "          } catch (error) {\n",
              "            console.error('Error during call to suggestCharts:', error);\n",
              "          }\n",
              "          quickchartButtonEl.classList.remove('colab-df-spinner');\n",
              "          quickchartButtonEl.classList.add('colab-df-quickchart-complete');\n",
              "        }\n",
              "        (() => {\n",
              "          let quickchartButtonEl =\n",
              "            document.querySelector('#df-9bcde5b9-c8f2-4560-b7ba-f53df20f4282 button');\n",
              "          quickchartButtonEl.style.display =\n",
              "            google.colab.kernel.accessAllowed ? 'block' : 'none';\n",
              "        })();\n",
              "      </script>\n",
              "    </div>\n",
              "\n",
              "    </div>\n",
              "  </div>\n"
            ],
            "application/vnd.google.colaboratory.intrinsic+json": {
              "type": "dataframe",
              "variable_name": "df"
            }
          },
          "metadata": {},
          "execution_count": 32
        }
      ]
    },
    {
      "cell_type": "markdown",
      "id": "86ffbdfb",
      "metadata": {
        "id": "86ffbdfb"
      },
      "source": [
        "複数のプロジェクトで非常に似たコードを知らず知らずのうちに使用していることがあるかもしれません。たとえば、データ処理コードなどです。処理コードを独立させて、少し異なるデータを受け取れるようにすることで、特定の１種類のデータのみを堅苦しく受け付けるのではなく、重複を避けることができるかもしれません。"
      ]
    },
    {
      "cell_type": "markdown",
      "id": "4fa24966",
      "metadata": {
        "id": "4fa24966"
      },
      "source": [
        "複数の人が似たプロジェクトに取り組んでいると、特にそれについてコミュニケーションを取らない場合、似たようなコードを書くことがあり得ます。他の人が容易にコードを使用できるようにし、良いドキュメントを提供することは、この種の重複を減らすのに役立ちます。"
      ]
    },
    {
      "cell_type": "markdown",
      "id": "7a209452",
      "metadata": {
        "id": "7a209452"
      },
      "source": [
        "コメントとドキュメントも重複の一形態になり得ます。同じ知識がコードとそれを説明するドキュメントに表現されているということです。コードが何をしているのかを正確に説明するコメントを書くのではなく、知識を追加するためにコメントを使用してください。これについては、もう少し詳しく説明します。"
      ]
    },
    {
      "cell_type": "markdown",
      "id": "5e3d43af",
      "metadata": {
        "id": "5e3d43af"
      },
      "source": [
        "DRY原則は、良いコードを書くときに考慮すべき非常に重要なポイントです。これは些細なことのように聞こえるかもしれませんが、繰り返しを避けることで、コードをモジュール化し、読みやすくする必要があることを意味します。これらの概念については、章の後半で詳しく説明します。"
      ]
    },
    {
      "cell_type": "markdown",
      "id": "ad270c94",
      "metadata": {
        "id": "ad270c94"
      },
      "source": [
        "冗長なコードを避ける"
      ]
    },
    {
      "cell_type": "markdown",
      "id": "86a49425",
      "metadata": {
        "id": "86a49425"
      },
      "source": [
        "時々、コードの行数を減らすことで、コードをよりシンプルにすることができます。これにより、バグが発生する機会が減り、他の人が読み理解するべきコードも減ります。しかし、コードを短くすることと可読性を損なうことの間には、しばしばトレードオフがあります。コードの可読性を確保する方法については、「可読性」でお話しします。"
      ]
    },
    {
      "cell_type": "markdown",
      "id": "3c11193f",
      "metadata": {
        "id": "3c11193f"
      },
      "source": [
        "コードを簡潔にしつつ読みやすくすることをお勧めします。そのためには、組み込み関数を使わずに自分で関数を書くことや、不必要な一時変数を使用することなど、コードを不必要に冗長にすることを避けるべきです。また、前のセクションで述べたように、繰り返しを避けるようにしてください。"
      ]
    },
    {
      "cell_type": "markdown",
      "id": "0794d90c",
      "metadata": {
        "id": "0794d90c"
      },
      "source": [
        "こちらは不要な一時変数の例です。"
      ]
    },
    {
      "cell_type": "markdown",
      "source": [
        "```python\n",
        "i = float(i)\n",
        "image_vector.append(i/255.0)\n",
        "```"
      ],
      "metadata": {
        "id": "5_MyyNo6-AOW"
      },
      "id": "5_MyyNo6-AOW"
    },
    {
      "cell_type": "markdown",
      "id": "c3882c48",
      "metadata": {
        "id": "c3882c48"
      },
      "source": [
        "これは次のように簡略化できます:"
      ]
    },
    {
      "cell_type": "markdown",
      "source": [
        "```python\n",
        "image_vector.append(float(i)/255)\n",
        "```"
      ],
      "metadata": {
        "id": "SNHr3ySO-Iun"
      },
      "id": "SNHr3ySO-Iun"
    },
    {
      "cell_type": "markdown",
      "id": "7669348b",
      "metadata": {
        "id": "7669348b"
      },
      "source": [
        "もちろん、コードを少ない行に凝縮することには欠点もあります。1行で多くのことが行われていると、他の人が何が起こっているのかを理解するのが非常に難しくなります。これは、他の人があなたのコードを修正しづらくなり、バグが増える可能性にもつながります。もし迷った場合は、たとえ行数が少し増えても、コードを読みやすくすることをお勧めします。"
      ]
    },
    {
      "cell_type": "markdown",
      "id": "c1259796",
      "metadata": {
        "id": "c1259796"
      },
      "source": [
        "モジュラリティ"
      ]
    },
    {
      "cell_type": "markdown",
      "id": "82e39f1d",
      "metadata": {
        "id": "82e39f1d"
      },
      "source": [
        "モジュラーコードを書くことは、大きなシステムを小さなコンポーネントに分解する技術です。モジュラーコードにはいくつかの重要な利点があります。それは、コードを読みやすくし、問題の発生源を特定しやすくし、次のプロジェクトでコードを再利用しやすくします。また、小さなコンポーネントに分けられたコードはテストしやすくなりますが、これについては第７章で説明します。"
      ]
    },
    {
      "cell_type": "markdown",
      "id": "d6bb6b5d",
      "metadata": {
        "id": "d6bb6b5d"
      },
      "source": [
        "しかし、大きなタスクにどのように取り組みますか？小さなプロジェクトの開始時には、全体を実行するための大きなスクリプトを1つ書くだけで良いかもしれません。しかし、より大きなプロジェクトは小さな部分に分解する必要があります。これを行うためには、プロジェクトの将来的な展開をできるだけ見越して考え、全体のシステムが何をするのか、そしてどこで分割するのが適切かを予測する必要があります。この計画プロセスについては、後でさらに詳しく説明します。"
      ]
    },
    {
      "cell_type": "markdown",
      "id": "803eedb3",
      "metadata": {
        "id": "803eedb3"
      },
      "source": [
        "モジュール化されたコードを書くことは継続的なプロセスであり、たとえ最善の意図を持っていても、最初から完全に正しく書けるものではありません。プロジェクトが進化するにつれてコードを変更することを期待すべきです。これから、あなたのコードを改善するための技術について説明します。"
      ]
    },
    {
      "cell_type": "markdown",
      "id": "7a88a8c9",
      "metadata": {
        "id": "7a88a8c9"
      },
      "source": [
        "大規模なデータサイエンスプロジェクトを一連のステップに分割するには、フローチャートとして考えると理解しやすいです。図1-1に示されています。まずデータを抽出し、それを探索し、次にクリーンアップし、最後に視覚化します。"
      ]
    },
    {
      "cell_type": "markdown",
      "source": [
        "![fig1-1.png](data:image/png;base64,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)"
      ],
      "metadata": {
        "id": "503VDGzy-h7G"
      },
      "id": "503VDGzy-h7G"
    },
    {
      "cell_type": "markdown",
      "id": "d9d079b1",
      "metadata": {
        "id": "d9d079b1"
      },
      "source": [
        "図1-1. 大規模なデータサイエンスプロジェクトを個別のステップに分解する"
      ]
    },
    {
      "cell_type": "markdown",
      "id": "625c96e8",
      "metadata": {
        "id": "625c96e8"
      },
      "source": [
        "最初は、一連のJupyterノートブックとして始めることができます。それぞれのノートブックの最後に、データをファイルに保存し、次のノートブックに読み込むことができます。プロジェクトが成熟するにつれ、同様の分析を繰り返し行いたいと感じるかもしれません。そのときに、システムの骨組みをどのようにするか決めることができます。例えば、データを抽出する関数があり、それをデータをクリーンにする関数に渡すといった具合です。以下の例では、空の関数を作成するための文を使用しています。これにより、関数がまだ書かれていない状態で呼び出されたときにエラーが発生しないようにします。"
      ]
    },
    {
      "cell_type": "markdown",
      "id": "f1e9ebdf",
      "metadata": {
        "id": "f1e9ebdf"
      },
      "source": [
        "例えば、これはデータを読み込み、最大長にトリミングしてきれいにし、プロットパラメータを使用してプロットするシステムの骨組みとなるかもしれません。"
      ]
    },
    {
      "cell_type": "code",
      "source": [
        "def load_data(csv_file):\n",
        "    pass\n",
        "\n",
        "def clean_data(input_data, max_length):\n",
        "    pass\n",
        "\n",
        "def plot_data(clean_data, x_axis_limit, line_width):\n",
        "    pass"
      ],
      "metadata": {
        "id": "uvfzWL1d-wav"
      },
      "id": "uvfzWL1d-wav",
      "execution_count": null,
      "outputs": []
    },
    {
      "cell_type": "markdown",
      "id": "0090777f",
      "metadata": {
        "id": "0090777f"
      },
      "source": [
        "このフレームワークを作成することによって、システムを個々のコンポーネントに分解し、それぞれのコンポーネントが何を入力として受け入れるべきかを理解しました。同じことをPythonファイルのレベルで行うことが可能です。オブジェクト指向プログラミングのようなプログラミングパラダイムを使用することで、"
      ]
    },
    {
      "cell_type": "markdown",
      "id": "f6d37dc7",
      "metadata": {
        "id": "f6d37dc7"
      },
      "source": [
        "関数型プログラミングは、コードをどのように関数やクラスに分割するかを把握するのに役立ちます（これについては後述します）。システムをどのように分割しても、各コンポーネントは可能な限り独立して自己完結型であるべきです。そうすることで、あるコンポーネントを変更しても他のコンポーネントに影響を与えません。モジュール化コードについては、後ほど詳しく説明します。"
      ]
    },
    {
      "cell_type": "markdown",
      "id": "bfd74819",
      "metadata": {
        "id": "bfd74819"
      },
      "source": [
        "##  可読性"
      ]
    },
    {
      "cell_type": "markdown",
      "id": "a08d6f37",
      "metadata": {
        "id": "a08d6f37"
      },
      "source": [
        "…コードは書かれるよりもはるかに多く読まれる…"
      ]
    },
    {
      "cell_type": "markdown",
      "id": "ba14da4e",
      "metadata": {
        "id": "ba14da4e"
      },
      "source": [
        "コードを書くときは、他の人もそのコードを利用できるようにすることが重要です。別のプロジェクトや、あるいは別の職に移ることがあるかもしれません。プロジェクトをしばらく離れて、1か月後、6か月後、あるいは6年後に戻ってきたとき、当時何をしていたのかを理解できるでしょうか？そのコードを書いたのには理由があり、重要なタスクのためでした。コードを読みやすくすることで、そのコードの寿命を長くすることができます。"
      ]
    },
    {
      "cell_type": "markdown",
      "id": "8c858c19",
      "metadata": {
        "id": "8c858c19"
      },
      "source": [
        "コードをより読みやすくする方法には、プログラミング言語の標準と規約に従うこと、適切な名前を選ぶこと、未使用のコードを削除すること、そしてコードのドキュメントを書くことが含まれます。これらを後回しにしてコードの機能性に集中したくなりますが、コード記述の時点で読みやすさに注意を払うと、より複雑度が低く、保守しやすいコードを書くことができます。このセクションではこれらの方法を紹介し、さらに詳しい内容は第6章と第9章で説明します。"
      ]
    },
    {
      "cell_type": "markdown",
      "id": "86e12d95",
      "metadata": {
        "id": "86e12d95"
      },
      "source": [
        "## 標準と慣例"
      ]
    },
    {
      "cell_type": "markdown",
      "id": "b0fceb08",
      "metadata": {
        "id": "b0fceb08"
      },
      "source": [
        "コーディング標準とフォーマットについては、この本で取り上げる中で最も興味を引かないトピックに思えるかもしれませんが、実は非常に重要です。同じコードを表現する方法はいくつもあり、2つの整数を加える際の + 記号の周りのスペースのような細かい点に至るまで多様です。"
      ]
    },
    {
      "cell_type": "markdown",
      "id": "a4a71259",
      "metadata": {
        "id": "a4a71259"
      },
      "source": [
        "Pythonコードを書くすべての人に一貫性を持たせるために、いくつかの基準が開発されています。その目的は、他の人が書いたコードでも親しみやすく感じられるようにすることです。これにより、自分で書いていないコードを読むか修正するときにかかる労力が軽減されます。このトピックについては、後で詳しく説明します。"
      ]
    },
    {
      "cell_type": "markdown",
      "id": "104ab440",
      "metadata": {
        "id": "104ab440"
      },
      "source": [
        "Pythonは、多くのプログラミング言語と比較して本質的に非常に読みやすいですが、コーディング標準に従うことでさらに読みやすくなります。Pythonの主なコーディング標準は、2001年に制定されたPython Enhancement Proposal 8（PEP8）です。以下の例は、PEP8からの抜粋を示しており、コードの最も細かい部分に対してさえも規約があることがわかります。PEP8を補完するスタイルガイドなどは、追加の指針と情報を提供します。"
      ]
    },
    {
      "cell_type": "markdown",
      "id": "9bd7c82c",
      "metadata": {
        "id": "9bd7c82c"
      },
      "source": [
        "こちらは、PEP8が指定する詳細の例で、括弧内のスペースを正しく、または誤ってフォーマットする方法を示しています。"
      ]
    },
    {
      "cell_type": "code",
      "source": [
        "# Correct:\n",
        "spam(ham[1], {eggs: 2})\n",
        "\n",
        "# Wrong:\n",
        "spam( ham[ 1 ], { eggs: 2 } )"
      ],
      "metadata": {
        "id": "Rc7WXyDD_Ey3"
      },
      "id": "Rc7WXyDD_Ey3",
      "execution_count": null,
      "outputs": []
    },
    {
      "cell_type": "markdown",
      "id": "9db00c9c",
      "metadata": {
        "id": "9db00c9c"
      },
      "source": [
        "幸いなことに、コードがコーディング標準に準拠しているかを確認するための自動化された方法が多数存在しており、すべての＋記号の前後に1つのスペースがあることをチェックするようん、単調な作業からあなたを救ってくれます。"
      ]
    },
    {
      "cell_type": "markdown",
      "id": "a32c8733",
      "metadata": {
        "id": "a32c8733"
      },
      "source": [
        "それに関連するものとして、Flake8やPylintといったリンター(Linter)は、コードがPEP8に準拠していない箇所をハイライトし、Blackのような自動フォーマッターは、コーディング標準に準拠するようにコードを自動的に更新します。これらの使い方は、第６章で説明します。"
      ]
    },
    {
      "cell_type": "markdown",
      "id": "326fe6ea",
      "metadata": {
        "id": "326fe6ea"
      },
      "source": [
        "データサイエンスのためにコードを書く際には、関数、変数、プロジェクト、さらにはツール全体の名前を選ぶ必要があります。名前の選択は、コードをどれだけ容易に扱えるかに影響を与えます。説明的でない、または正確でない名前を選ぶと、その本当の意味を頭に留めておく必要が生じ、コードの認知的負荷が増加します。"
      ]
    },
    {
      "cell_type": "markdown",
      "id": "15830de4",
      "metadata": {
        "id": "15830de4"
      },
      "source": [
        "例えば、pandasライブラリをp としてインポートして、変数名をx, f を使うことができます。"
      ]
    },
    {
      "cell_type": "code",
      "source": [
        "import pandas as p\n",
        "\n",
        "x = p.read_csv(f, index_col=0)"
      ],
      "metadata": {
        "id": "d5OL1lYi_Xj4"
      },
      "id": "d5OL1lYi_Xj4",
      "execution_count": null,
      "outputs": []
    },
    {
      "cell_type": "markdown",
      "id": "5a89436b",
      "metadata": {
        "id": "5a89436b"
      },
      "source": [
        "このコードはエラーなしで正常に実行されます。しかし、変数名がより情報を提供し、標準的な命名規則に従っているため、こちらの例のコードの方が読みやすいです。"
      ]
    },
    {
      "cell_type": "code",
      "source": [
        "import pandas as pd\n",
        "\n",
        "df = pd.read_csv(input_file, index_col=0)"
      ],
      "metadata": {
        "id": "Zyr3yoxq_tEb"
      },
      "id": "Zyr3yoxq_tEb",
      "execution_count": null,
      "outputs": []
    },
    {
      "cell_type": "markdown",
      "id": "5be043d2",
      "metadata": {
        "id": "5be043d2"
      },
      "source": [
        "優れた名前をつけるための詳細については 第９章にあります。"
      ]
    },
    {
      "cell_type": "markdown",
      "id": "73861cb1",
      "metadata": {
        "id": "73861cb1"
      },
      "source": [
        "## 片付け (Cleaning Up)"
      ]
    },
    {
      "cell_type": "markdown",
      "id": "d614400a",
      "metadata": {
        "id": "d614400a"
      },
      "source": [
        "コードをより読みやすくするもう一つの方法は、関数を作成し終えた後にコードを整理することです。テストを行い、正常に動作していると確信できたら、コメントアウトされたコードを削除するべきです。"
      ]
    },
    {
      "cell_type": "markdown",
      "id": "600b8ea7",
      "metadata": {
        "id": "600b8ea7"
      },
      "source": [
        "そして、不要な関数呼び出しを削除してください。"
      ]
    },
    {
      "cell_type": "markdown",
      "id": "b18dfc3c",
      "metadata": {
        "id": "b18dfc3c"
      },
      "source": [
        "デバッグの簡単な方法として使ってきました。他人のコードにコメントアウトされた部分があると、とても混乱します。"
      ]
    },
    {
      "cell_type": "markdown",
      "id": "83dcddbc",
      "metadata": {
        "id": "83dcddbc"
      },
      "source": [
        "コードの乱雑な部分を見ると、プロジェクト内で低品質のコードが許容されるというメッセージが伝わります。つまり、他の貢献者が良いコードを書く動機が減ってしまいます。乱雑なコードはプロジェクトの他の部分にコピーされて適応されることもあります。これは「Broken Windows」理論として知られています。プロジェクトで高い基準を設定することは、携わっている全員が良いコードを書くことを促進します。"
      ]
    },
    {
      "cell_type": "markdown",
      "id": "71aad4c4",
      "metadata": {
        "id": "71aad4c4"
      },
      "source": [
        "ドキュメンテーション"
      ]
    },
    {
      "cell_type": "markdown",
      "id": "d1f5de2b",
      "metadata": {
        "id": "d1f5de2b"
      },
      "source": [
        "ドキュメントは他の人があなたのコードを読むのを助けます。コードは複数の詳細レベルでドキュメント化できます。まずは簡単なインラインコメントから始めます。"
      ]
    },
    {
      "cell_type": "markdown",
      "id": "c92cf200",
      "metadata": {
        "id": "c92cf200"
      },
      "source": [
        "GitHubリポジトリに表示されるページや、ユーザーにパッケージの使い方を教えるチュートリアルの作成を書きましょう。\n"
      ]
    },
    {
      "cell_type": "markdown",
      "id": "5d5e83e6",
      "metadata": {
        "id": "5d5e83e6"
      },
      "source": [
        "これらのドキュメンテーションは、他の人があなたのコードをどのように使うかを説明するのに役立ちます。将来的には、あなたに対してもコードを説明する可能性があります（あなたは非常に重要な読者です！）。他の人にあなたのコードを使ってもらいたい場合は、良いドキュメンテーションを書くことで他の人が使いやすいようにするべきです。"
      ]
    },
    {
      "cell_type": "markdown",
      "id": "04187b44",
      "metadata": {
        "id": "04187b44"
      },
      "source": [
        "素晴らしいドキュメントを書くことは重要ですが、それを維持し更新し続けることも必要です。コードの古いバージョンに言及しているドキュメントは、ない方がマシです。それは混乱を引き起こし、解決するのに余計な時間がかかります。第９章で、あらゆる形式のドキュメントについて、より詳細に議論します。"
      ]
    },
    {
      "cell_type": "markdown",
      "id": "f46c64e2",
      "metadata": {
        "id": "f46c64e2"
      },
      "source": [
        "パフォーマンス"
      ]
    },
    {
      "cell_type": "markdown",
      "id": "55dd0b80",
      "metadata": {
        "id": "55dd0b80"
      },
      "source": [
        "優れたコードはパフォーマンスが重要です。これはコードの実行時間とメモリ使用量の両方で測定されます。コードを書く際に決定を下すとき、どのデータ構造やアルゴリズムがより効率的であるかを知っておくと役立ちます。特に、手軽に利用できる代替手段があるときには、コードを著しく遅くする要因を把握しておくことは非常に重要です。また、コードのどの部分が時間を多く消費しているのかを把握しておくべきです。"
      ]
    },
    {
      "cell_type": "markdown",
      "id": "ad45ff64",
      "metadata": {
        "id": "ad45ff64"
      },
      "source": [
        "特定のアクションをユーザーが取るたびに呼び出される本番コードを書く際には、パフォーマンスが特に重要です。ユーザー基盤が拡大したり、プロジェクトが成功した場合、そのコードは毎日何百万回も呼ばれることがあります。このような場合、コードの小さな改善でもユーザーのために多くの時間を節約できます。大規模なアプリケーションでコードがボトルネックになることは避けたいところです。コードのパフォーマンスを測定する方法を第２章で、コードのパフォーマンスを最適化するための最適なデータ構造の選び方を第３章で説明します。"
      ]
    },
    {
      "cell_type": "markdown",
      "id": "97db678a",
      "metadata": {
        "id": "97db678a"
      },
      "source": [
        "ロバスト性"
      ]
    },
    {
      "cell_type": "markdown",
      "id": "ffc8f95d",
      "metadata": {
        "id": "ffc8f95d"
      },
      "source": [
        "良いコードはまた堅牢であるべきです。これは、再現可能であることを意味します。コードを最初から最後まで実行でき、それが失敗しないようにすべきです。また、システムの入力が予期せず変わった場合にも、コードはうまく対応できる必要があります。予期しないエラーを投げてシステム全体が失敗する原因となるのではなく、コードは適切に再設計されるべきです。"
      ]
    },
    {
      "cell_type": "markdown",
      "id": "9adf3b6c",
      "metadata": {
        "id": "9adf3b6c"
      },
      "source": [
        "変更に対応します。コードをより堅牢にするためには、エラーを適切に処理し、何が起こったかをログに記録し、良いテストを書くことが重要です。"
      ]
    },
    {
      "cell_type": "markdown",
      "id": "2feb8c18",
      "metadata": {
        "id": "2feb8c18"
      },
      "source": [
        "エラーとログ記録"
      ]
    },
    {
      "cell_type": "markdown",
      "id": "34f17821",
      "metadata": {
        "id": "34f17821"
      },
      "source": [
        "堅牢なコードは、不正な入力を受けたときに予期しない動作をするべきではありません。コードが予期しない入力でクラッシュするようにするか、そのエラーを処理して何らかの対策を講じるかを選択する必要があります。たとえば、CSVファイルが期待しているデータの半分しかない場合、エラーを返すようにしたいのか、それともその半分のデータだけを評価し続けるのかを決めるべきです。何かがあるべき姿でないことを警告する、エラーを処理する、または静かに失敗するという明示的な選択を行う必要があります。エラーについては第５章で詳しく説明します。"
      ]
    },
    {
      "cell_type": "markdown",
      "id": "8976db66",
      "metadata": {
        "id": "8976db66"
      },
      "source": [
        "エラーが処理されても、意図しないサイレント失敗を防ぐために、それが発生したことを記録することは重要です。これはログ記録の用途の一つです。他のログ記録の用途についてもだい5章で探っていきます。"
      ]
    },
    {
      "cell_type": "markdown",
      "id": "5aa68b5f",
      "metadata": {
        "id": "5aa68b5f"
      },
      "source": [
        "テストは堅牢なコードを書くための重要な要素です。ソフトウェアエンジニアリングでは主に2つのタイプがあります。ユーザーテストでは、人がソフトウェアを使用してそれが正しく動作することを確認します。一方、テストの自動化では、例となる入力をコードに送り込み、その出力が予想通りであることを確認する一般的な方法があります。この本では、自動化テストのみを取り上げます。"
      ]
    },
    {
      "cell_type": "markdown",
      "id": "e53982f5",
      "metadata": {
        "id": "e53982f5"
      },
      "source": [
        "テストが必要なのは、自分のマシンでコードが完璧に動作しても、それが他の人のマシンで動作するとは限らないからです。また、将来的に自分のマシンでも動作する保証はありません。データは変化し、ライブラリは更新され、異なるマシンでは異なるバージョンのPythonが実行されます。誰かが自分のコードを他のマシンで使いたい場合、テストを実行することで、それが正しく動作するか確認できます。"
      ]
    },
    {
      "cell_type": "markdown",
      "id": "18bb3fd0",
      "metadata": {
        "id": "18bb3fd0"
      },
      "source": [
        "テストにはいくつかの異なる種類があります。ユニットテストは単一の関数をテストし、エンドツーエンドテストはプロジェクト全体をテストし、統合テストは多くの関数を含むコードの一部をテストしますが、プロジェクト全体よりは小さいです。テスト戦略とライブラリについては第７章で説明します。しかし、あなたが大規模なコードベースを持っている場合の良い戦略は、何かが壊れたときにテストを書くことが、同じ問題が再発しないようにするための方法です。"
      ]
    },
    {
      "cell_type": "markdown",
      "id": "c34daaad",
      "metadata": {
        "id": "c34daaad"
      },
      "source": [
        "テストがない場合、何かが壊れたときにテストを書くことが、同じ問題が再発しないようにするための方法です。"
      ]
    },
    {
      "cell_type": "markdown",
      "id": "69a8b435",
      "metadata": {
        "id": "69a8b435"
      },
      "source": [
        "この本のデータ"
      ]
    },
    {
      "cell_type": "markdown",
      "id": "98ec4af0",
      "metadata": {
        "id": "98ec4af0"
      },
      "source": [
        "この本全体で、私は国連（SDGs）のデータを使用します。SDGsは、2015年に国連加盟国によって採択された持続可能な開発のための2030アジェンダの一部である17の目標のセットです。貧困の撲滅、飢餓の撲滅、教育へのアクセス、ジェンダー平等など多くの目標が含まれています。SDGsは副次的なターゲットに分かれており、200以上の統計指標セットを使用して追跡されています。これらの指標は、これらの目標に向けた進展を定量的に測定するものです。"
      ]
    },
    {
      "cell_type": "markdown",
      "id": "41f1e3f5",
      "metadata": {
        "id": "41f1e3f5"
      },
      "source": [
        "たとえば、目標1は「すべての場所で、あらゆる形態の貧困を終わらせる」です。ターゲット"
      ]
    },
    {
      "cell_type": "markdown",
      "id": "a7d4d144",
      "metadata": {
        "id": "a7d4d144"
      },
      "source": [
        "1.1は「2030年までに、現在1日1.25ドル未満で生活する人々として測定されている、あらゆる場所のすべての人々に対する極度の貧困を撲滅する。」を意味します。指標1.1.1は「性別、年齢、雇用状況、地理的位置（都市/農村）ごとの国際貧困ライン以下で生活する人口の割合」です。"
      ]
    },
    {
      "cell_type": "markdown",
      "id": "e67754b6",
      "metadata": {
        "id": "e67754b6"
      },
      "source": [
        "これらの指標のデータは、オンラインデータベースやAPIを通じて利用可能です。この本のサンプルコードでは、指標からのデータを使用します。"
      ]
    },
    {
      "cell_type": "markdown",
      "id": "58b2e2b1",
      "metadata": {
        "id": "58b2e2b1"
      },
      "source": [
        "## この章の重要ポイント"
      ]
    },
    {
      "cell_type": "markdown",
      "id": "12935fc4",
      "metadata": {
        "id": "12935fc4"
      },
      "source": [
        "良いコードを書くことは多くの面で役立ちます。他の人があなたのコードを使うのが簡単になり、6か月後に自分の作業に戻ったときに何をしていたのか理解しやすくなります。また、コードを拡張してより大きなシステムとインターフェースするのに役立ちます。"
      ]
    },
    {
      "cell_type": "markdown",
      "id": "4b34f1c5",
      "metadata": {
        "id": "4b34f1c5"
      },
      "source": [
        "良いコードは、元のプロジェクト計画になかった機能を追加する必要がある場合にも、あなたの生活をずっと楽にしてくれます。"
      ]
    },
    {
      "cell_type": "markdown",
      "id": "be0a92d5",
      "metadata": {
        "id": "be0a92d5"
      },
      "source": [
        "良いコードを書くための原則についてもっと読みたい場合は、次の本をお勧めします。"
      ]
    },
    {
      "cell_type": "markdown",
      "id": "1c8d7c7a",
      "metadata": {
        "id": "1c8d7c7a"
      },
      "source": [
        "「プリャグマティック・プログラマー」20周年記念版、デイビッド・トーマスとアンドリュー・ハント著（アディソン・ウェスリー・プロフェッショナル）"
      ]
    },
    {
      "cell_type": "markdown",
      "id": "1a4a2a91",
      "metadata": {
        "id": "1a4a2a91"
      },
      "source": [
        "ソフトウェアアーキテクチャの哲学 ジョン・アウスターアウト著（ヤクニヤムプレス）"
      ]
    },
    {
      "cell_type": "markdown",
      "id": "291a2555",
      "metadata": {
        "id": "291a2555"
      },
      "source": [
        "要約すると、良いコードを書くための考え方には以下のようなものがあります："
      ]
    },
    {
      "cell_type": "markdown",
      "id": "8ec52b3d",
      "metadata": {
        "id": "8ec52b3d"
      },
      "source": [
        "シンプルさ"
      ]
    },
    {
      "cell_type": "markdown",
      "id": "0f716cd0",
      "metadata": {
        "id": "0f716cd0"
      },
      "source": [
        "コードは繰り返し、不必要な複雑さ、及び不要な行を避けるべきです。"
      ]
    },
    {
      "cell_type": "markdown",
      "id": "a4ab15e3",
      "metadata": {
        "id": "a4ab15e3"
      },
      "source": [
        "モジュラリティ"
      ]
    },
    {
      "cell_type": "markdown",
      "id": "b7b7bfa3",
      "metadata": {
        "id": "b7b7bfa3"
      },
      "source": [
        "あなたのコードは、論理的な関数に分解され、明確に定義された入力と出力を持つべきです。"
      ]
    },
    {
      "cell_type": "markdown",
      "id": "4c681462",
      "metadata": {
        "id": "4c681462"
      },
      "source": [
        "可読性"
      ]
    },
    {
      "cell_type": "markdown",
      "id": "d8f15846",
      "metadata": {
        "id": "d8f15846"
      },
      "source": [
        "あなたのコードはPEP8のフォーマット標準に従い、適切な名前を持ち、よくドキュメント化されているべきです。"
      ]
    },
    {
      "cell_type": "markdown",
      "id": "da0cf175",
      "metadata": {
        "id": "da0cf175"
      },
      "source": [
        "パフォーマンス"
      ]
    },
    {
      "cell_type": "markdown",
      "id": "cee1500a",
      "metadata": {
        "id": "cee1500a"
      },
      "source": [
        "あなたのコードは、実行に不要な時間を費やしたり、利用可能なリソースを超えて使用したりしないようにするべきです。"
      ]
    },
    {
      "cell_type": "markdown",
      "id": "da5d03ea",
      "metadata": {
        "id": "da5d03ea"
      },
      "source": [
        "ロバストネス"
      ]
    },
    {
      "cell_type": "markdown",
      "id": "f28a4c3e",
      "metadata": {
        "id": "f28a4c3e"
      },
      "source": [
        "あなたのコードは再現可能であるべきであり、有用なエラーメッセージを出し、予期しない入力があっても失敗しないようにするべきです。"
      ]
    },
    {
      "cell_type": "markdown",
      "id": "109cbb16",
      "metadata": {
        "id": "109cbb16"
      },
      "source": [
        "次の章では、良いコードの一側面であるパフォーマンスについて、より詳しく見ていきます。"
      ]
    }
  ],
  "metadata": {
    "colab": {
      "provenance": [],
      "include_colab_link": true
    },
    "language_info": {
      "name": "python"
    },
    "kernelspec": {
      "name": "python3",
      "display_name": "Python 3"
    }
  },
  "nbformat": 4,
  "nbformat_minor": 5
}