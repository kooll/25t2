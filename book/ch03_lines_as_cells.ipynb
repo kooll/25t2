{
  "cells": [
    {
      "cell_type": "markdown",
      "metadata": {
        "id": "view-in-github",
        "colab_type": "text"
      },
      "source": [
        "<a href=\"https://colab.research.google.com/github/kooll/25t2/blob/main/book/ch03_lines_as_cells.ipynb\" target=\"_parent\"><img src=\"https://colab.research.google.com/assets/colab-badge.svg\" alt=\"Open In Colab\"/></a>"
      ]
    },
    {
      "cell_type": "markdown",
      "id": "e1272a03",
      "metadata": {
        "id": "e1272a03"
      },
      "source": [
        "# 第3章 データ構造を効果的に活用する"
      ]
    },
    {
      "cell_type": "markdown",
      "id": "07103fc0",
      "metadata": {
        "id": "07103fc0"
      },
      "source": [
        "前の章では、コードのパフォーマンスを測定する方法について学びました。この章では、データ構造の選択がコードのパフォーマンスにどのように影響するかを示し、取り組んでいる問題に最適なデータ構造を選ぶ方法について説明します。"
      ]
    },
    {
      "cell_type": "markdown",
      "id": "80887cb6",
      "metadata": {
        "id": "80887cb6"
      },
      "source": [
        "データサイエンティストとしてコードを書く際、データを保存するために様々なデータ構造を使用する必要があります。使用するデータ構造については多くの選択肢があり、作業している問題に適したものもあれば、あまり良くない選択もあるでしょう。"
      ]
    },
    {
      "cell_type": "markdown",
      "id": "2c43fad6",
      "metadata": {
        "id": "2c43fad6"
      },
      "source": [
        "...パフォーマントなプログラミングにおいて重要なのは、自分のデータにどんな質問をしようとしているのかを理解し、それらの質問に迅速に答えられるデータ構造を選択することです。"
      ]
    },
    {
      "cell_type": "markdown",
      "id": "2d29df6b",
      "metadata": {
        "id": "2d29df6b"
      },
      "source": [
        "マイケ・ゴレリックとイアン・オズヴァルド、高性能"
      ]
    },
    {
      "cell_type": "markdown",
      "id": "e885e5b6",
      "metadata": {
        "id": "e885e5b6"
      },
      "source": [
        "問題に対して適切なデータ構造を使用することが重要です。その理由は主に二つあります。第一に、そのデータ構造はそのユースケースに最適化されていること、第二に、そのデータ構造には有用なメソッドが関連付けられていることです。したがって、正しいデータ構造を選択すると、コードの性能が向上し、使いやすくなります。また、これによりコードがより予測可能で理解しやすくなることも意味します。"
      ]
    },
    {
      "cell_type": "markdown",
      "id": "172d9589",
      "metadata": {
        "id": "172d9589"
      },
      "source": [
        "この章では、データサイエンスのコードを書く際によく使われるデータ構造について紹介します。具体的には、Pythonのリスト、タプル、辞書、セット、NumPyの配列、pandasのDataFrameです。それぞれの利点と欠点を説明し、時間とメモリの使用量の観点からどれがより良いパフォーマンスを発揮するかを議論します。また、最適なパフォーマンスを得るために異なるデータ構造をどのようにうまく利用するかについても説明します。"
      ]
    },
    {
      "cell_type": "markdown",
      "id": "88fdf575",
      "metadata": {
        "id": "88fdf575"
      },
      "source": [
        "多くの本や記事では、ここで扱わないデータ構造がたくさん紹介されています。例えば、連結リスト、ヒープ、キュー、二分探索木などです。これらは、特にPython以外のプログラミング言語では、ソフトウェアエンジニアリングにおいてより重要な傾向があります。データ構造についてもっと学びたい場合は、私がおすすめします。"
      ]
    },
    {
      "cell_type": "markdown",
      "id": "dc043551",
      "metadata": {
        "id": "dc043551"
      },
      "source": [
        "『Pythonで学ぶデータ構造とアルゴリズムの基礎』"
      ]
    },
    {
      "cell_type": "markdown",
      "id": "bfe645c2",
      "metadata": {
        "id": "bfe645c2"
      },
      "source": [
        "ジェイ・ウェングロウ著（プラグマティック・ブックスヘルフ）。"
      ]
    },
    {
      "cell_type": "markdown",
      "id": "ec85cd50",
      "metadata": {
        "id": "ec85cd50"
      },
      "source": [
        "## 基本的なPythonデータ構造"
      ]
    },
    {
      "cell_type": "markdown",
      "id": "bf933e73",
      "metadata": {
        "id": "bf933e73"
      },
      "source": [
        "このセクションでは、Pythonの4つの基本的なデータ構造であるリスト、タプル、辞書、およびセットについて議論したいと思います。これらはすでにコード内で使用していると思われますが、これらのデータ構造がどのように実装されているか、一般的な操作の時間計算量についての詳細をお伝えします。そのためにビッグO記法を使用します。これにより、これらのデータ構造がどのように素早く動作し、どこで遅くなるかの直感を得ることができます。これは、使用用途に最適なデータ構造を選択する手助けとなり、コードの最適化が必要な場合の焦点を当てるポイントを提供します。"
      ]
    },
    {
      "cell_type": "markdown",
      "id": "a35816a5",
      "metadata": {
        "id": "a35816a5"
      },
      "source": [
        "### リスト Lists\n",
        "\n",
        "リストはPythonの基本的なデータ構造であり、頻繁に目にするでしょう。Pythonのリストは配列の一種で、ある程度の順序を持つデータ構造です。つまり、リストの最初、3番目、または他の任意の要素を参照することができます。"
      ]
    },
    {
      "cell_type": "markdown",
      "id": "19ae9381",
      "metadata": {
        "id": "19ae9381"
      },
      "source": [
        "Pythonのリストは動的配列であり、要素が追加されるとサイズを変更できることを意味します。また、異なる種類の要素を格納することもできるため、例えば、リストには文字列と整数の両方が含まれることがあります。"
      ]
    },
    {
      "cell_type": "markdown",
      "id": "40c90945",
      "metadata": {
        "id": "40c90945"
      },
      "source": [
        "Pythonでは、リストのサイズに応じて連続したメモリ領域が確保され、リストの各要素が次の要素と隣接したメモリ位置に配置されます。これは重要な意味を持ちます：リスト内の要素を簡単に検索できます。Pythonインタプリタはリストの開始位置のメモリ位置を知っているため、たとえばリストの5番目の要素を検索する場合、リストの開始から5番目のメモリ位置にある要素を単純に取得します。"
      ]
    },
    {
      "cell_type": "markdown",
      "id": "6d4922f1",
      "metadata": {
        "id": "6d4922f1"
      },
      "source": [
        "まず、10個の要素を持つリストを作成して、そのリストが成長するにつれて要素を検索するための時間の変化を測定することができます。"
      ]
    },
    {
      "cell_type": "code",
      "execution_count": null,
      "id": "U6Dqo95YAq97",
      "metadata": {
        "id": "U6Dqo95YAq97"
      },
      "outputs": [],
      "source": [
        "small_list = list(range(10))"
      ]
    },
    {
      "cell_type": "code",
      "execution_count": null,
      "id": "BkAN5vZZBSeW",
      "metadata": {
        "id": "BkAN5vZZBSeW"
      },
      "outputs": [],
      "source": [
        "small_list"
      ]
    },
    {
      "cell_type": "markdown",
      "id": "6e36edb3",
      "metadata": {
        "id": "6e36edb3"
      },
      "source": [
        "その後、%%timeit（第２章で説明）を使用できます。"
      ]
    },
    {
      "cell_type": "code",
      "execution_count": null,
      "id": "aal6DwuEAx_4",
      "metadata": {
        "id": "aal6DwuEAx_4"
      },
      "outputs": [],
      "source": [
        "%%timeit\n",
        "last_element = small_list[-1]\n"
      ]
    },
    {
      "cell_type": "markdown",
      "id": "d75d3356",
      "metadata": {
        "id": "d75d3356"
      },
      "source": [
        "リストの最後の要素を検索するのにかかる時間を測定するために:"
      ]
    },
    {
      "cell_type": "markdown",
      "id": "65ee3dcb",
      "metadata": {
        "id": "65ee3dcb"
      },
      "source": [
        "次に、同じ実験を実行するために10,000個の要素を持つリストを作成します。"
      ]
    },
    {
      "cell_type": "code",
      "execution_count": null,
      "id": "NbCpZ0-3BIpI",
      "metadata": {
        "id": "NbCpZ0-3BIpI"
      },
      "outputs": [],
      "source": [
        "large_list = list(range(10_000))\n"
      ]
    },
    {
      "cell_type": "markdown",
      "id": "e05350e0",
      "metadata": {
        "id": "e05350e0"
      },
      "source": [
        "最後に、最後の要素を見つけるのにかかる時間を測定してください。"
      ]
    },
    {
      "cell_type": "code",
      "execution_count": null,
      "id": "hR4KhubCBQ_g",
      "metadata": {
        "id": "hR4KhubCBQ_g"
      },
      "outputs": [],
      "source": [
        "%%timeit\n",
        "last_element = large_list[-1]"
      ]
    },
    {
      "cell_type": "markdown",
      "id": "eb8da142",
      "metadata": {
        "id": "eb8da142"
      },
      "source": [
        "どちらのリストも、時間がかかるのはほぼ同じです。たとえ2番目のリストが最初のリストの1,000倍のサイズであってもです。リストの検索はO(1)（一定時間）です。これはビッグO記法で、以前に説明しました。リストがどれだけ大きくても、その中の要素を検索するのにかかる時間はほぼ同じです。"
      ]
    },
    {
      "cell_type": "markdown",
      "id": "7fd24c6f",
      "metadata": {
        "id": "7fd24c6f"
      },
      "source": [
        "リストに要素を追加するたびに、メモリ内で余分なスペースを占有します。Pythonは元のリストの長さを超える追加のスペースを確保しますが、このスペースがいっぱいになると、連続するスペースを持つ新しいメモリの場所にリスト全体をコピーする必要があります。リストの末尾に要素を追加する操作はO(1)ですが、余分なスペースがいっぱいになったときにリストをコピーするためのオーバーヘッドがあります。"
      ]
    },
    {
      "cell_type": "markdown",
      "id": "26022965",
      "metadata": {
        "id": "26022965"
      },
      "source": [
        "何かをリストの途中に挿入すると、その新しい要素の後のすべての要素が..."
      ]
    },
    {
      "cell_type": "markdown",
      "id": "975f9766",
      "metadata": {
        "id": "975f9766"
      },
      "source": [
        "要素は新しいメモリ位置に移動する必要があります。そのため、オペレーショ"
      ]
    },
    {
      "cell_type": "markdown",
      "id": "f0b3342b",
      "metadata": {
        "id": "f0b3342b"
      },
      "source": [
        "挿入はO(n)です。リストの中央から要素を削除するのもO(n)です。挿入と削除の両方がO(n)である理由は、リストが常に連続したメモリ領域に存在している必要があるためです。"
      ]
    },
    {
      "cell_type": "markdown",
      "id": "69b146f7",
      "metadata": {
        "id": "69b146f7"
      },
      "source": [
        "特定の長さまでリストに要素を追加することがわかっている場合、これは必ずしも最も効率的な方法ではないかもしれません。より良い方法は、"
      ]
    },
    {
      "cell_type": "markdown",
      "id": "2a609296",
      "metadata": {
        "id": "2a609296"
      },
      "source": [
        "正しい長さのゼロのリストを使用するか作成して、その値を更新します。項目をリストの先頭に追加したい場合は、"
      ]
    },
    {
      "cell_type": "markdown",
      "id": "9be34d75",
      "metadata": {
        "id": "9be34d75"
      },
      "source": [
        "リストの終わりに使用できるデータ構造として、deaue(両端キュー)データ構造があります。"
      ]
    },
    {
      "cell_type": "markdown",
      "id": "a3a5c297",
      "metadata": {
        "id": "a3a5c297"
      },
      "source": [
        "モジュールから。"
      ]
    },
    {
      "cell_type": "markdown",
      "id": "6d082bdc",
      "metadata": {
        "id": "6d082bdc"
      },
      "source": [
        "リスト内の要素を検索する必要がある場合、検索対象の要素をリスト内のすべてのアイテムと比較する必要があります。その比較プロセスにかかる時間やステップ数を測定することができます。"
      ]
    },
    {
      "cell_type": "markdown",
      "id": "fecd56ab",
      "metadata": {
        "id": "fecd56ab"
      },
      "source": [
        "このことがリストの拡大に伴ってどのように変化するかを、前のコード例からのリストを用いて説明します。"
      ]
    },
    {
      "cell_type": "markdown",
      "id": "221438a4",
      "metadata": {
        "id": "221438a4"
      },
      "source": [
        "まず、10個の要素を含むリストを検索するのにどれくらいの時間がかかるかを測定します。"
      ]
    },
    {
      "cell_type": "code",
      "execution_count": null,
      "id": "7RSkGqAOBzYR",
      "metadata": {
        "colab": {
          "background_save": true
        },
        "id": "7RSkGqAOBzYR"
      },
      "outputs": [],
      "source": [
        "%%timeit\n",
        "4200 in small_list"
      ]
    },
    {
      "cell_type": "markdown",
      "id": "8510ff27",
      "metadata": {
        "id": "8510ff27"
      },
      "source": [
        "次に、10,000個の要素を持つリストに対して同じことを測定することができます。"
      ]
    },
    {
      "cell_type": "code",
      "execution_count": null,
      "id": "eTquiiv3B4ce",
      "metadata": {
        "id": "eTquiiv3B4ce"
      },
      "outputs": [],
      "source": [
        "%%timeit\n",
        "4200 in large_list"
      ]
    },
    {
      "cell_type": "markdown",
      "id": "85100641",
      "metadata": {
        "id": "85100641"
      },
      "source": [
        "Pythonのリストをこの方法で検索するには、約1,000倍の時間がかかります。リストのこのような検索はO(n)です。リストを検索するより効率的な方法には、O(log n)の2分探索などがあります。しかし、何かが存在するかどうかを頻繁に検索する必要がある場合は、後述するように、辞書やセットを使用する方が良いでしょう。"
      ]
    },
    {
      "cell_type": "markdown",
      "id": "-Ygz1jlxCKVy",
      "metadata": {
        "id": "-Ygz1jlxCKVy"
      },
      "source": [
        "## タプル Tuples"
      ]
    },
    {
      "cell_type": "markdown",
      "id": "17ce92fd",
      "metadata": {
        "id": "17ce92fd"
      },
      "source": [
        "Pythonのタプルは配列でもありますが、そのサイズは固定されています。タプルは不変であり、一度作成すると変更することはできません。例えば、タプルの末尾に要素を追加することはできません。"
      ]
    },
    {
      "cell_type": "code",
      "execution_count": null,
      "id": "aCR3YCzICHqL",
      "metadata": {
        "id": "aCR3YCzICHqL"
      },
      "outputs": [],
      "source": []
    },
    {
      "cell_type": "markdown",
      "id": "e94c7c14",
      "metadata": {
        "id": "e94c7c14"
      },
      "source": [
        "タプルは、データ構造に保存したい項目が少数であり、これらの項目を変更しない場合に便利です。注意すべき点の一つとして、タプルはメモリに格納されるのではなく、Pythonのランタイムにキャッシュされるため、リストよりもタプル内の要素を検索する方がさらに高速です。タプル内の要素を検索するのはO(1)です。"
      ]
    },
    {
      "cell_type": "markdown",
      "id": "4103c966",
      "metadata": {
        "id": "4103c966"
      },
      "source": [
        "## 辞書 Dicitonaries"
      ]
    },
    {
      "cell_type": "markdown",
      "id": "7f613df3",
      "metadata": {
        "id": "7f613df3"
      },
      "source": [
        "辞書はPythonにおけるもう一つの基本的なデータ構造であり、キーと値のペアに基づいています。つまり、あるリンクを持つデータ要素のペアが存在することを意味しており、たとえば人の名前とその住所が該当します。辞書は本質的な順序がないデータに最適です。"
      ]
    },
    {
      "cell_type": "markdown",
      "id": "b6251ec5",
      "metadata": {
        "id": "b6251ec5"
      },
      "source": [
        "Pythonの辞書は、内部ではハッシュテーブルによって動作しています。これらはハッシュ関数を使用して、キーをリストのインデックスに変換します。図3-1はこれがどのように機能するかを示しています。この場合、「Heather Hancock」というキーがハッシュ関数によってインデックス3に変換され、これによりこの人物の名前に関連するアドレスを取得できます。"
      ]
    },
    {
      "cell_type": "markdown",
      "id": "YxCsjyj9Cafn",
      "metadata": {
        "id": "YxCsjyj9Cafn"
      },
      "source": [
        "![seds_0301.png](data:image/png;base64,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)"
      ]
    },
    {
      "cell_type": "markdown",
      "id": "eb8e9e43",
      "metadata": {
        "id": "eb8e9e43"
      },
      "source": [
        "図3-1. ハッシュテーブルを使用した辞書の検索"
      ]
    },
    {
      "cell_type": "markdown",
      "id": "2947ddd8",
      "metadata": {
        "id": "2947ddd8"
      },
      "source": [
        "ハッシュ関数は、文字列や整数などの辞書キーに含まれるものを、値のリスト内の関連するインデックスである整数にマッピングします。ハッシュ関数には多くの異なるタイプがあります。整数の剰余を取ることはシンプルな例です。Pythonの辞書におけるハッシュ関数は、これよりもはるかに複雑です。"
      ]
    },
    {
      "cell_type": "markdown",
      "id": "f323d5db",
      "metadata": {
        "id": "f323d5db"
      },
      "source": [
        "ハッシュ関数は、同じキーに適用されたときに毎回同じ整数を返さなければなりません。辞書内のキーもユニークである必要があり、正しい値を返すことが可能でなければなりません。辞書のキーは、文字列、整数、もしくは浮動小数点数のようにハッシュ可能な型である必要があります。Pythonのリストはハッシュできません。"
      ]
    },
    {
      "cell_type": "markdown",
      "id": "f340a24b",
      "metadata": {
        "id": "f340a24b"
      },
      "source": [
        "ハッシュテーブルは便利な機能を提供します。辞書内で特定のキーに対応する値を検索する操作はO(1)です。リスト内の要素を検索するのと同じ性能を得ることができますが、リストの順番を知る必要はありません。キーと値のペアの挿入、更新、および削除もすべてO(1)です。アイテムはハッシュテーブルに任意の順序で挿入することができます。"
      ]
    },
    {
      "cell_type": "markdown",
      "id": "276fe140",
      "metadata": {
        "id": "276fe140"
      },
      "source": [
        "辞書の検索が一定であることを確認するために実験を行うことができます。\n",
        "\n",
        "Fakerライブラリは非常に便利で、名前や住所、メールアドレスなどの個人情報を含む、現実的に見える偽のデータを作成します。"
      ]
    },
    {
      "cell_type": "markdown",
      "id": "d6875f2f",
      "metadata": {
        "id": "d6875f2f"
      },
      "source": [
        "以下のコマンドを使用して、フェイカーのジェネレーターを初期化し、偽のデータを生成できます。"
      ]
    },
    {
      "cell_type": "code",
      "execution_count": null,
      "id": "agGFfz_9DaBv",
      "metadata": {
        "id": "agGFfz_9DaBv"
      },
      "outputs": [],
      "source": [
        "!pip install faker"
      ]
    },
    {
      "cell_type": "code",
      "execution_count": null,
      "id": "Q9ZyXInsC0-8",
      "metadata": {
        "id": "Q9ZyXInsC0-8"
      },
      "outputs": [],
      "source": [
        "from faker import Faker\n",
        "\n",
        "fake = Faker()"
      ]
    },
    {
      "cell_type": "markdown",
      "id": "5045d1e1",
      "metadata": {
        "id": "5045d1e1"
      },
      "source": [
        "それでは、実験を実行するためにこれを使用して辞書を作成します。"
      ]
    },
    {
      "cell_type": "code",
      "execution_count": null,
      "id": "nGEIFmxQDqKl",
      "metadata": {
        "id": "nGEIFmxQDqKl"
      },
      "outputs": [],
      "source": [
        "small_dict = {}\n",
        "\n",
        "for i in range(10):\n",
        "    small_dict[fake.name()] = fake.address()\n"
      ]
    },
    {
      "cell_type": "code",
      "execution_count": null,
      "id": "Tcz6OsY8DuRj",
      "metadata": {
        "id": "Tcz6OsY8DuRj"
      },
      "outputs": [],
      "source": [
        "print(small_dict)"
      ]
    },
    {
      "cell_type": "markdown",
      "id": "301b4e93",
      "metadata": {
        "id": "301b4e93"
      },
      "source": [
        "以下の10個のキーと値のペアを持つ小さな辞書における検索時間を測定できます："
      ]
    },
    {
      "cell_type": "code",
      "execution_count": null,
      "id": "sTFbDFJzD7_t",
      "metadata": {
        "id": "sTFbDFJzD7_t"
      },
      "outputs": [],
      "source": [
        "%%timeit\n",
        "small_dict['Wendy Ray']\n"
      ]
    },
    {
      "cell_type": "markdown",
      "id": "4b59f0fb",
      "metadata": {
        "id": "4b59f0fb"
      },
      "source": [
        "10000 個のキーと値のペアをもつ辞書も作れます。"
      ]
    },
    {
      "cell_type": "code",
      "execution_count": null,
      "id": "oE8t4Z2MEnBU",
      "metadata": {
        "id": "oE8t4Z2MEnBU"
      },
      "outputs": [],
      "source": [
        "large_dict = {}\n",
        "\n",
        "for i in range(10_000):\n",
        "    large_dict[fake.name()] = fake.address()"
      ]
    },
    {
      "cell_type": "code",
      "execution_count": null,
      "id": "yGpsXrQpE1ER",
      "metadata": {
        "id": "yGpsXrQpE1ER"
      },
      "outputs": [],
      "source": [
        "print(large_dict)"
      ]
    },
    {
      "cell_type": "markdown",
      "id": "6ee550e9",
      "metadata": {
        "id": "6ee550e9"
      },
      "source": [
        "この辞書は以前のものの1000倍の大きさですが、必要なものを探すのにかかる時間はほぼ同じです。辞書で探し物をするのは非常に効率的です。しかし、その欠点はしばしばメモリの使用量が大きいことです。"
      ]
    },
    {
      "cell_type": "code",
      "execution_count": null,
      "id": "OTmRlFusEvzV",
      "metadata": {
        "id": "OTmRlFusEvzV"
      },
      "outputs": [],
      "source": [
        "%%timeit\n",
        "large_dict['Timothy Romero']"
      ]
    },
    {
      "cell_type": "markdown",
      "id": "vz22e4gNFND9",
      "metadata": {
        "id": "vz22e4gNFND9"
      },
      "source": [
        "## 集合 Sets"
      ]
    },
    {
      "cell_type": "markdown",
      "id": "d7d8f9c1",
      "metadata": {
        "id": "d7d8f9c1"
      },
      "source": [
        "集合は、固有の順序を持たないデータに対して有用なデータ構造です。Pythonでは、集合は辞書と同様にハッシュテーブルを使用して実装されています。"
      ]
    },
    {
      "cell_type": "markdown",
      "id": "e55d3faf",
      "metadata": {
        "id": "e55d3faf"
      },
      "source": [
        "ナリーズ。ただし、キーと値のペアの代わりに、一意のキーのセットのみを持っています。つまり、セット内のすべての要素は一意でなければなりません。"
      ]
    },
    {
      "cell_type": "markdown",
      "id": "98269491",
      "metadata": {
        "id": "98269491"
      },
      "source": [
        "セットは辞書と同様に、要素の追加、削除、更新がすべてO(1)であるという特性を共有しています。セット内の要素を検索することもO(1)です。"
      ]
    },
    {
      "cell_type": "markdown",
      "id": "6e0cf303",
      "metadata": {
        "id": "6e0cf303"
      },
      "source": [
        "リストをセットに変換してからその長さを調べることは、リスト内のユニークな要素の数を数えるための効率的な方法です。"
      ]
    },
    {
      "cell_type": "markdown",
      "id": "7eadf054",
      "metadata": {
        "id": "7eadf054"
      },
      "source": [
        "セットの検索は平均して O(1) であり、リストの検索は O(n) になるため、リストをセットに変換してから検索を行う方が効率的かどうかを実験して調べてみましょう。"
      ]
    },
    {
      "cell_type": "markdown",
      "id": "c2d9a173",
      "metadata": {
        "id": "c2d9a173"
      },
      "source": [
        "以前の10,000要素の大きなリストを使用して、リストのルックアップにかかる時間を測定できます："
      ]
    },
    {
      "cell_type": "code",
      "execution_count": null,
      "id": "PpXHv4_NHVCY",
      "metadata": {
        "id": "PpXHv4_NHVCY"
      },
      "outputs": [],
      "source": [
        "%%timeit\n",
        "4200 in large_list\n"
      ]
    },
    {
      "cell_type": "markdown",
      "id": "1ba6cf8c",
      "metadata": {
        "id": "1ba6cf8c"
      },
      "source": [
        "次に、そのリストをセットに変換し、ルックアップを実行するのにかかった時間を測定できます。"
      ]
    },
    {
      "cell_type": "code",
      "execution_count": null,
      "id": "Scof8to6IHUX",
      "metadata": {
        "id": "Scof8to6IHUX"
      },
      "outputs": [],
      "source": [
        "%%timeit\n",
        "large_set = set(large_list)\n",
        "4200 in large_set\n"
      ]
    },
    {
      "cell_type": "markdown",
      "id": "8ed64afb",
      "metadata": {
        "id": "8ed64afb"
      },
      "source": [
        "リストをセットに変換してから検索を行うと、リスト検索に比べて3倍以上の時間がかかります。これは、リストをセットに変換するための時間を要するためです。しかし、一度リストをセットに変換してしまえば、その後の検索は高速です。"
      ]
    },
    {
      "cell_type": "code",
      "execution_count": null,
      "id": "XCxY-tRLIOOR",
      "metadata": {
        "id": "XCxY-tRLIOOR"
      },
      "outputs": [],
      "source": [
        "%%timeit\n",
        "4592 in large_set\n"
      ]
    },
    {
      "cell_type": "markdown",
      "id": "d0a1bf61",
      "metadata": {
        "id": "d0a1bf61"
      },
      "source": [
        "セットの検索はリストの検索よりも1,000倍速いです。何度もリスト内のアイテムが存在するか確認したい場合、セットへの変換は素晴らしい選択肢ですが、ほんの少しの回数しかそれを行わないのであれば、それほど価値はありません。この章の他のすべてと同様に、検討する価値がありますが…。"
      ]
    },
    {
      "cell_type": "markdown",
      "id": "3d916a1b",
      "metadata": {
        "id": "3d916a1b"
      },
      "source": [
        "特定の問題に対してどちらが速いかを実験し、測定することです。"
      ]
    },
    {
      "cell_type": "markdown",
      "id": "1a2c3bd6",
      "metadata": {
        "id": "1a2c3bd6"
      },
      "source": [
        "辞書やセットの内部構造についてもっと学びたい場合は、お勧めします。"
      ]
    },
    {
      "cell_type": "markdown",
      "id": "2bb22058",
      "metadata": {
        "id": "2bb22058"
      },
      "source": [
        "ここで取り上げていない他のネイティブなPythonデータ構造もいくつかあり、使用ケースによっては役立つかもしれません。要素を位置ではなく、割り当てられた名前で検索できるタプルがあります。また、データの保存に最適化されたクラス（について説明します）の一種もあります。"
      ]
    },
    {
      "cell_type": "markdown",
      "id": "f1893f09",
      "metadata": {
        "id": "f1893f09"
      },
      "source": [
        "## NumPyArray  (NumPy の配列）"
      ]
    },
    {
      "cell_type": "markdown",
      "id": "c95e22ea",
      "metadata": {
        "id": "c95e22ea"
      },
      "source": [
        "このセクションでは、ネイティブなPythonデータ構造から離れて、NumPyの配列を見ていきたいと思います。NumPyはデータサイエンスで広く使用されるPythonライブラリの1つです。\n",
        "その理由は、基本のデータ構造\n",
        "NumPy配列 (ndarray, n-dimentional array, n次元配列）です。"
      ]
    },
    {
      "cell_type": "markdown",
      "id": "c7150d6e",
      "metadata": {
        "id": "c7150d6e"
      },
      "source": [
        "NumPy配列の作成方法や使用方法、またそれを用いて行うすべての操作についての詳細はここでは説明しません。それについては、Wes McKinneyによる「Python for Data Analysis」（O'Reilly, 2021）をお勧めします。この本にはNumPyの使い方についての詳細なリファレンスガイドがあります。"
      ]
    },
    {
      "cell_type": "markdown",
      "id": "32fe3bf9",
      "metadata": {
        "id": "32fe3bf9"
      },
      "source": [
        "これから NumPy配列が、データサイエンスで人気の理由についての詳しくお伝えします。また、NumPy配列でできることの概要と、いくつかのパフォーマンスに関する考慮点についても見ていきます。"
      ]
    },
    {
      "cell_type": "markdown",
      "id": "e8b3ec64",
      "metadata": {
        "id": "e8b3ec64"
      },
      "source": [
        "NumPy 配列の機能"
      ]
    },
    {
      "cell_type": "markdown",
      "id": "2513f6a3",
      "metadata": {
        "id": "2513f6a3"
      },
      "source": [
        "NumPy配列はn次元の配列であり、これは使用するのに適切な場面を示す重要な手がかりとなります。\n",
        "つまり、データが多次元の場合が多くあるからです。\n",
        "機械学習では、データが行列や二次元配列の構造にある場合に多くあります。\n",
        "NumPy配列を使用することで、ネイティブのPythonリストと比較してこのデータを扱うのがはるかに簡単になり、多くの機械学習ライブラリはNumPy配列と非常にスムーズに連携します。"
      ]
    },
    {
      "cell_type": "markdown",
      "id": "94ecb939",
      "metadata": {
        "id": "94ecb939"
      },
      "source": [
        "ネストされたPythonリストから多次元データ構造を作成することは可能ですが、それに対して計算を行うのはすぐに難しくなります。これを例で説明します。2次元配列があるときに、最初の列の値をどのようにして参照することができるでしょうか？"
      ]
    },
    {
      "cell_type": "markdown",
      "id": "f2da6823",
      "metadata": {
        "id": "f2da6823"
      },
      "source": [
        "これをネストされたリストを使って行うためには、全ての行を通過して最初の値を抽出するコードを書かなければなりません。リスト内包表記を使用した一例を以下に示します。"
      ]
    },
    {
      "cell_type": "code",
      "execution_count": null,
      "id": "6aUp9e5GM3oD",
      "metadata": {
        "id": "6aUp9e5GM3oD"
      },
      "outputs": [],
      "source": [
        "python_2d_list =[[1, 3, 5], [2, 4, 6], [7, 9, 11]]\n",
        "\n",
        "first_column = [python_2d_list[i][0] for i in range(len(python_2d_list))]"
      ]
    },
    {
      "cell_type": "markdown",
      "id": "4f532641",
      "metadata": {
        "id": "4f532641"
      },
      "source": [
        "ただし、NumPy配列を持っている場合、NumPyの配列スライシング構文を使用して、最初の列の値を簡単に参照することができます。"
      ]
    },
    {
      "cell_type": "code",
      "execution_count": null,
      "id": "tlmYVq5TM7dp",
      "metadata": {
        "id": "tlmYVq5TM7dp"
      },
      "outputs": [],
      "source": [
        "import numpy as np\n",
        "\n",
        "np_2d_array = np.array([[1, 3, 5], [2, 4, 6], [7, 9, 11]])\n",
        "\n",
        "first_column = np_2d_array[:, 0]"
      ]
    },
    {
      "cell_type": "markdown",
      "id": "de0725bd",
      "metadata": {
        "id": "de0725bd"
      },
      "source": [
        "リスト内の要素を検索して新しい変数名を選択した場合、それはその要素の新しいコピーを作成します。しかし、NumPy配列で同じ操作を行うと、これは元の配列のビューになります。ビュー内の値を変更すると、元の配列の値も変更されます。"
      ]
    },
    {
      "cell_type": "markdown",
      "id": "2ce2b281",
      "metadata": {
        "id": "2ce2b281"
      },
      "source": [
        "上の例のnp_2d_array オブジェクトを変更すると、対応する first_columnの値も変更されます。"
      ]
    },
    {
      "cell_type": "markdown",
      "id": "d9ff870f",
      "metadata": {
        "id": "d9ff870f"
      },
      "source": [
        "オブジェクト内の値を変更することなくビューを作成する方法です。ビューを作成することは、より高速でメモリ効率が良くなります。"
      ]
    },
    {
      "cell_type": "markdown",
      "id": "cdefea8a",
      "metadata": {
        "id": "cdefea8a"
      },
      "source": [
        "コピーを作成するよりも効率的であり、これがNumPy配列がリストよりも優れたパフォーマンスを提供するもう一つの理由です。"
      ]
    },
    {
      "cell_type": "markdown",
      "id": "7526c629",
      "metadata": {
        "id": "7526c629"
      },
      "source": [
        "同様に、多次元データに対する他の多くの操作も、ネストされたリストよりもNumPy配列を使用する方がはるかに簡単です。これには、行列の積、配列の結合、配列の転置、配列の形状変更などが含まれます。"
      ]
    },
    {
      "cell_type": "markdown",
      "id": "147251e7",
      "metadata": {
        "id": "147251e7"
      },
      "source": [
        "しかし、NumPy配列に関する注意すべき点の一つ（次のセクションでさらに詳しく述べます）は、配列が一種類のデータ型しか含むことができないという点です。そのため、データが混合型（例えば、データ構造に文字列と整数の両方を含める必要がある場合）の場合、NumPy配列は適切な選択ではありません。"
      ]
    },
    {
      "cell_type": "code",
      "execution_count": null,
      "id": "92bcvAtGOQP6",
      "metadata": {
        "id": "92bcvAtGOQP6"
      },
      "outputs": [],
      "source": []
    },
    {
      "cell_type": "markdown",
      "id": "63aba4cd",
      "metadata": {
        "id": "63aba4cd"
      },
      "source": [
        "## NumPy配列のパフォーマンスに関する考慮事項"
      ]
    },
    {
      "cell_type": "markdown",
      "id": "7f0c345d",
      "metadata": {
        "id": "7f0c345d"
      },
      "source": [
        "前のセクションで述べたように、NumPy配列は単一のデータ型のみを許可します。これは制限のように見えるかもしれませんが、実際には大きな性能向上の利点があります。これは、以下のコードが有効な選択肢であるPythonのリストとは対照的です:"
      ]
    },
    {
      "cell_type": "code",
      "execution_count": null,
      "id": "8om4SY6XORDu",
      "metadata": {
        "id": "8om4SY6XORDu"
      },
      "outputs": [],
      "source": [
        "mixed_type_list = [\"one\", 2, 3.14]"
      ]
    },
    {
      "cell_type": "markdown",
      "id": "c5625720",
      "metadata": {
        "id": "c5625720"
      },
      "source": [
        "Pythonのリストは、同じデータ構造内に文字列、整数、浮動小数点数を含むことができます。同じデータを保存するためにNumPy配列を作成してみることもできます。例えば、以下のようにします。"
      ]
    },
    {
      "cell_type": "code",
      "execution_count": null,
      "id": "SPXngF9ZOY63",
      "metadata": {
        "id": "SPXngF9ZOY63"
      },
      "outputs": [],
      "source": [
        "mixed_type_array = np.array([\"one\", 2, 3.14])"
      ]
    },
    {
      "cell_type": "markdown",
      "id": "dbfb5797",
      "metadata": {
        "id": "dbfb5797"
      },
      "source": [
        "このコード行はエラーなしで実行されます。しかし、この配列を見てみると、すべての要素が文字列に変換されていることがわかります。"
      ]
    },
    {
      "cell_type": "code",
      "execution_count": null,
      "id": "ILwUFmU4Ocjr",
      "metadata": {
        "id": "ILwUFmU4Ocjr"
      },
      "outputs": [],
      "source": [
        "print(mixed_type_array)"
      ]
    },
    {
      "cell_type": "markdown",
      "id": "73f472a0",
      "metadata": {
        "id": "73f472a0"
      },
      "source": [
        "NumPyはすべての要素を同じ型に変換しました。NumPy配列内の要素の型は配列と共に保存されており、それは以下の方法で確認できます。"
      ]
    },
    {
      "cell_type": "code",
      "execution_count": null,
      "id": "AJCruqCGO0Ro",
      "metadata": {
        "id": "AJCruqCGO0Ro"
      },
      "outputs": [],
      "source": [
        "integer_array = np.array([1, 2, 3])\n",
        "\n",
        "print(integer_array.dtype)"
      ]
    },
    {
      "cell_type": "markdown",
      "id": "2016d378",
      "metadata": {
        "id": "2016d378"
      },
      "source": [
        "NumPyは、Python の標準のintではなく、int64を使用します。"
      ]
    },
    {
      "cell_type": "markdown",
      "id": "3285d468",
      "metadata": {
        "id": "3285d468"
      },
      "source": [
        "標準のデータ型とは異なる型であることが、性能向上につながることもあります。この点については、このセクションの後半で説明します。"
      ]
    },
    {
      "cell_type": "markdown",
      "id": "2083ec6f",
      "metadata": {
        "id": "2083ec6f"
      },
      "source": [
        "NumPy配列のすべての要素が同じ型であることが、特に「ベクトル化」として知られる処理において大きなパフォーマンス向上をもたらします。"
      ]
    },
    {
      "cell_type": "markdown",
      "id": "ee44f7d1",
      "metadata": {
        "id": "ee44f7d1"
      },
      "source": [
        "こちらは、NumPy配列を使用することでPythonリストに比べて得られるパフォーマンス向上の例です。まず、NumPyを使用して100,000個のランダムな整数からなる配列を生成し、それを通常のPythonリストに変換します。"
      ]
    },
    {
      "cell_type": "code",
      "execution_count": null,
      "id": "g_OjoTQLP8M_",
      "metadata": {
        "id": "g_OjoTQLP8M_"
      },
      "outputs": [],
      "source": [
        "random_int_array = np.random.randint(1, 100_000, 100_000)\n",
        "random_int_list = list(random_int_array)"
      ]
    },
    {
      "cell_type": "markdown",
      "id": "4175e772",
      "metadata": {
        "id": "4175e772"
      },
      "source": [
        "次に、通常のPythonのsum()を使用してリストを合計することができます。そして、使用してください。"
      ]
    },
    {
      "cell_type": "code",
      "execution_count": null,
      "id": "Lah96ZUEQCha",
      "metadata": {
        "id": "Lah96ZUEQCha"
      },
      "outputs": [],
      "source": [
        "%%timeit -r 7 -n 100\n",
        "sum(random_int_list)\n"
      ]
    },
    {
      "cell_type": "markdown",
      "id": "a8768742",
      "metadata": {
        "id": "a8768742"
      },
      "source": [
        "次に、ベクトル化された操作である np.sum() を使用して同じ操作を実行し、再度その所要時間を計測します。"
      ]
    },
    {
      "cell_type": "code",
      "execution_count": null,
      "id": "FTVr8_9JQOO4",
      "metadata": {
        "id": "FTVr8_9JQOO4"
      },
      "outputs": [],
      "source": [
        "%%timeit -r 7 -n 100\n",
        "np.sum(random_int_array)\n"
      ]
    },
    {
      "cell_type": "markdown",
      "id": "0d52c013",
      "metadata": {
        "id": "0d52c013"
      },
      "source": [
        "それは約100倍速くなります！ これは非常に大きなパフォーマンス向上です。実行したい操作がベクトル化されたNumPyのメソッドとして利用可能であれば、ネイティブのPythonメソッドや自作のコードを書くのではなく、絶対にそれを使用するべきです。操作が利用可能かどうか確認することができます。"
      ]
    },
    {
      "cell_type": "markdown",
      "id": "d291d2b7",
      "metadata": {
        "id": "d291d2b7"
      },
      "source": [
        "NumPy配列を使用する際には、後で配列に要素を追加する必要があるかどうかを考慮する必要があります。通常のPythonリストとは異なり、NumPyが配列のためにメモリを割り当てるとき、追加の余裕はありません。そのため、NumPy配列に要素を追加すると、その都度配列全体を新しいメモリ位置に移動する必要があります。これにより、NumPy配列への追加はO(n)となります。したがって、初めから正しい容量で配列を初期化することが重要です。そして、その簡単な方法としてnp.zerosを使用することができます。例えば、次のようにします："
      ]
    },
    {
      "cell_type": "code",
      "execution_count": null,
      "id": "jhuipWORQjgG",
      "metadata": {
        "id": "jhuipWORQjgG"
      },
      "outputs": [],
      "source": [
        "array_to_fill = np.zeros(1000)"
      ]
    },
    {
      "cell_type": "markdown",
      "id": "cee656e4",
      "metadata": {
        "id": "cee656e4"
      },
      "source": [
        "その後、配列に要素を追加するのではなく、ゼロを新しい要素で置き換えることができます。"
      ]
    },
    {
      "cell_type": "markdown",
      "id": "2b912efa",
      "metadata": {
        "id": "2b912efa"
      },
      "source": [
        "NumPyのさまざまな型を利用することで、NumPy配列を使ってメモリスペースを大幅に節約することもできます。NumPy配列はメモリにロードされるため、大きな配列を扱う場合にはそのサイズを小さくすることが役立ちます。"
      ]
    },
    {
      "cell_type": "markdown",
      "id": "930b5137",
      "metadata": {
        "id": "930b5137"
      },
      "source": [
        "以前と同様にランダムな整数の配列を生成できます。"
      ]
    },
    {
      "cell_type": "code",
      "execution_count": null,
      "id": "qRjc_D4YQweR",
      "metadata": {
        "id": "qRjc_D4YQweR"
      },
      "outputs": [],
      "source": [
        "random_int_array = np.random.randint(1, 100_000, 100_000)"
      ]
    },
    {
      "cell_type": "markdown",
      "id": "f5d5489b",
      "metadata": {
        "id": "f5d5489b"
      },
      "source": [
        "属性を調べることで、これが占有するバイト数を確認できます。"
      ]
    },
    {
      "cell_type": "code",
      "execution_count": null,
      "id": "rOY0uQmcQzuH",
      "metadata": {
        "id": "rOY0uQmcQzuH"
      },
      "outputs": [],
      "source": [
        "random_int_array.nbytes"
      ]
    },
    {
      "cell_type": "markdown",
      "id": "fc190338",
      "metadata": {
        "id": "fc190338"
      },
      "source": [
        "この配列は800,000バイトのスペースを占有しています。"
      ]
    },
    {
      "cell_type": "markdown",
      "id": "c2c8b72f",
      "metadata": {
        "id": "c2c8b72f"
      },
      "source": [
        "属性からタイプを見つけることができます。"
      ]
    },
    {
      "cell_type": "code",
      "execution_count": null,
      "id": "WlXiOIn_Q6Wk",
      "metadata": {
        "id": "WlXiOIn_Q6Wk"
      },
      "outputs": [],
      "source": [
        "random_int_array.dtype"
      ]
    },
    {
      "cell_type": "markdown",
      "id": "e98a76fd",
      "metadata": {
        "id": "e98a76fd"
      },
      "source": [
        "この場合、int64です。これは64ビットの整数で、許可される範囲は-9,223,372,036,854,775,808から9,223,372,036,854,775,808までです。"
      ]
    },
    {
      "cell_type": "markdown",
      "id": "b55f24f0",
      "metadata": {
        "id": "b55f24f0"
      },
      "source": [
        "この範囲全体の整数が必要でない場合は、配列を32ビット整数型に変換することができます。32ビット整数型の許容範囲は次の通りです。"
      ]
    },
    {
      "cell_type": "markdown",
      "id": "cf048ae8",
      "metadata": {
        "id": "cf048ae8"
      },
      "source": [
        "-2,147,483,648から2,147,483,648まで。また、データ範囲が十分に小さい場合は16ビット整数を使用することもできます。"
      ]
    },
    {
      "cell_type": "markdown",
      "id": "bba0de1d",
      "metadata": {
        "id": "bba0de1d"
      },
      "source": [
        "配列を変換するには、次のメソッドを使用できます。"
      ]
    },
    {
      "cell_type": "code",
      "execution_count": null,
      "id": "w0rFaUI3REKb",
      "metadata": {
        "id": "w0rFaUI3REKb"
      },
      "outputs": [],
      "source": [
        "random_int_array_32 = random_int_array.astype(np.int32)"
      ]
    },
    {
      "cell_type": "markdown",
      "id": "2b0bf943",
      "metadata": {
        "id": "2b0bf943"
      },
      "source": [
        "バイト数を調べると、スペースが半分で済むことがわかります。"
      ]
    },
    {
      "cell_type": "code",
      "execution_count": null,
      "id": "mu-L3FaRRMeM",
      "metadata": {
        "id": "mu-L3FaRRMeM"
      },
      "outputs": [],
      "source": [
        "random_int_array_32.nbytes"
      ]
    },
    {
      "cell_type": "markdown",
      "id": "2a74d94e",
      "metadata": {
        "id": "2a74d94e"
      },
      "source": [
        "NumPy 配列を作る際に、dtype を指定すれば、最初からスペースを小さくすることができます。"
      ]
    },
    {
      "cell_type": "code",
      "execution_count": null,
      "id": "LKgY2BXvRVnn",
      "metadata": {
        "id": "LKgY2BXvRVnn"
      },
      "outputs": [],
      "source": [
        "small_array = np.array([1, 3, 5], dtype=np.int16)"
      ]
    },
    {
      "cell_type": "code",
      "execution_count": null,
      "id": "DQVbNRlKR0YW",
      "metadata": {
        "id": "DQVbNRlKR0YW"
      },
      "outputs": [],
      "source": [
        "small_array.nbytes"
      ]
    },
    {
      "cell_type": "markdown",
      "id": "5038bbdc",
      "metadata": {
        "id": "5038bbdc"
      },
      "source": [
        "## Daskを使用した配列操作"
      ]
    },
    {
      "cell_type": "markdown",
      "id": "101f49b0",
      "metadata": {
        "id": "101f49b0"
      },
      "source": [
        "前のセクションで紹介したNumPy配列を使ったコードのパフォーマンス向上のための戦略を試してみても、まださらに最適化が必要な場合、このライブラリは素晴らしい選択肢です。それは配列操作を並行して実行することができ、計算を速くし、コンピュータのメモリに収まらないデータにも対応します。Daskは標準のNumPy配列に非常に似たインターフェースを提供しますが、少しだけ複雑さが加わります。そのため、パフォーマンス向上が必要な場合にのみ使用する価値があります。これにより、ノートパソコンや分散システム（クラスター）で複数のコアを使って同時に計算を実行することができます。"
      ]
    },
    {
      "cell_type": "markdown",
      "id": "8085cf9f",
      "metadata": {
        "id": "8085cf9f"
      },
      "source": [
        "Daskは、配列をチャンクに分割し、一度に1つまたは複数のチャンクで計算を実行し、その結果を組み合わせることで動作します。例えば、非常に大きな配列の最大値を見つけたい場合、その配列をいくつかのチャンクに分割し、各チャンクの最大値を求めてから、それらの結果を組み合わせて全体の最大値を求めることができます。このように並列化できる操作はすべてではありませんが、もしその問題に適用できる場合は、コードをより効率的にすることができます。"
      ]
    },
    {
      "cell_type": "markdown",
      "id": "15363305",
      "metadata": {
        "id": "15363305"
      },
      "source": [
        "Daskは、システムのメモリよりも大きなデータに対して計算を実行することも可能です。全てのチャンクが一度にロードおよび評価されるわけではないため、配列全体をメモリにロードする必要はありません。それぞれのチャンクを順次評価することができます。"
      ]
    },
    {
      "cell_type": "markdown",
      "id": "16f12372",
      "metadata": {
        "id": "16f12372"
      },
      "source": [
        "以下のコマンドでDaskをインストールできます:"
      ]
    },
    {
      "cell_type": "code",
      "execution_count": null,
      "id": "cG8nMs_ZSPXd",
      "metadata": {
        "id": "cG8nMs_ZSPXd"
      },
      "outputs": [],
      "source": [
        "!pip install dask[complete]"
      ]
    },
    {
      "cell_type": "markdown",
      "id": "51ac8423",
      "metadata": {
        "id": "51ac8423"
      },
      "source": [
        "NumPyとDaskを使用して同じ操作を実行し、かかる時間を比較することができます。"
      ]
    },
    {
      "cell_type": "markdown",
      "id": "642330fc",
      "metadata": {
        "id": "642330fc"
      },
      "source": [
        "1つの実験として、大きな配列の最大値を見つけることができます。`np.random.randint()`を使用してランダムな整数で埋められたNumPy配列を作成できます。以下のコードは、10億個の整数を持つ配列を作成します："
      ]
    },
    {
      "cell_type": "code",
      "execution_count": null,
      "id": "FzOS43IuSl0q",
      "metadata": {
        "id": "FzOS43IuSl0q"
      },
      "outputs": [],
      "source": [
        "import numpy as np\n",
        "#large_np_array = np.random.randint(1, 100000, 1_000_000_000)\n",
        "large_np_array = np.random.randint(1, 100000, 1_000_000_00)\n"
      ]
    },
    {
      "cell_type": "markdown",
      "id": "hyh-Fug0VL2K",
      "metadata": {
        "id": "hyh-Fug0VL2K"
      },
      "source": [
        " (訳注)\n",
        " Google Colab で10億個の整数を扱うのは、無料枠ではできないので、10分の1、1億個の整数にしています。\n"
      ]
    },
    {
      "cell_type": "markdown",
      "id": "68091e00",
      "metadata": {
        "id": "68091e00"
      },
      "source": [
        "この計算を標準的なNumPy配列で行うのにかかる時間を測定することができます。"
      ]
    },
    {
      "cell_type": "code",
      "execution_count": null,
      "id": "lU7Do4xqTh0f",
      "metadata": {
        "id": "lU7Do4xqTh0f"
      },
      "outputs": [],
      "source": [
        "%%timeit -r 1 -n 7\n",
        "np.max(large_np_array)"
      ]
    },
    {
      "cell_type": "markdown",
      "id": "cee0f10e",
      "metadata": {
        "id": "cee0f10e"
      },
      "source": [
        "Dask配列は、NumPy配列とは異なるデータ構造です。Daskには多くのNumPyメソッドが再現されているため、以下のコードでランダムな整数のDask配列を作成することができます。"
      ]
    },
    {
      "cell_type": "code",
      "execution_count": null,
      "id": "AfKMeehcTwDL",
      "metadata": {
        "id": "AfKMeehcTwDL"
      },
      "outputs": [],
      "source": [
        "import dask.array as da\n",
        "#large_dask_array = da.random.randint(1, 100_000, 1_000_000_000)\n",
        "large_dask_array = da.random.randint(1, 100_000, 1_000_000_00)"
      ]
    },
    {
      "cell_type": "markdown",
      "id": "277b49aa",
      "metadata": {
        "id": "277b49aa"
      },
      "source": [
        "NumPy配列からDask配列を作成することもできます。このように行います："
      ]
    },
    {
      "cell_type": "code",
      "execution_count": null,
      "id": "FROIEw99T43w",
      "metadata": {
        "id": "FROIEw99T43w"
      },
      "outputs": [],
      "source": [
        "large_dask_array = da.from_array(large_np_array)"
      ]
    },
    {
      "cell_type": "markdown",
      "id": "87b512c5",
      "metadata": {
        "id": "87b512c5"
      },
      "source": [
        "Daskを使用するときには、NumPyと比べて追加のステップがあります。まず、操作を初期化する必要があります。この場合、.max() メソッドを使用します。その後、.compute() メソッドを使って計算を実行する必要があります。このステップの処理時間を計測することで、NumPy配列と比較することができます。"
      ]
    },
    {
      "cell_type": "code",
      "execution_count": null,
      "id": "v4X4sfYwUDgv",
      "metadata": {
        "id": "v4X4sfYwUDgv"
      },
      "outputs": [],
      "source": [
        "%%timeit -r 1 -n 7\n",
        "array_max = large_dask_array.max()\n",
        "array_max.compute()"
      ]
    },
    {
      "cell_type": "markdown",
      "id": "71985138",
      "metadata": {
        "id": "71985138"
      },
      "source": [
        "Dask配列での最大値の検索は、NumPy配列よりも約20倍高速です！"
      ]
    },
    {
      "cell_type": "markdown",
      "id": "EM0Nsvu5WoPG",
      "metadata": {
        "id": "EM0Nsvu5WoPG"
      },
      "source": [
        "（訳注）\n",
        "10分の1の個数のデータでは、NumPy もDaskも同じ程度の実行時間になります。"
      ]
    },
    {
      "cell_type": "markdown",
      "id": "9d1e3399",
      "metadata": {
        "id": "9d1e3399"
      },
      "source": [
        "Daskは、分散処理を別のコアやマシンで行うことができます。\n",
        "Daskは処理の「タスク」のスケジュールもします。次のコードがその例です。\n",
        "\n",
        "（訳注）が、Google Colab ではエラーになります。後日、自分のPCで試しましょう。\n",
        "\n",
        "```python\n",
        "from dask.distributed import Client\n",
        "\n",
        "client = Client(n_workers=4)\n",
        "client\n",
        "````\n"
      ]
    },
    {
      "cell_type": "markdown",
      "id": "50abcfc0",
      "metadata": {
        "id": "50abcfc0"
      },
      "source": [
        "図3-2は、ノートパソコン上の全てのコアを使用する準備が整ったローカルクライアントを示しています。"
      ]
    },
    {
      "cell_type": "markdown",
      "id": "pJxI3yPNYZQu",
      "metadata": {
        "id": "pJxI3yPNYZQu"
      },
      "source": [
        "![seds_0302.png](data:image/png;base64,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)"
      ]
    },
    {
      "cell_type": "markdown",
      "id": "9cf4b750",
      "metadata": {
        "id": "9cf4b750"
      },
      "source": [
        "図3-2. Daskローカルクラスターのダッシュボード"
      ]
    },
    {
      "cell_type": "markdown",
      "id": "e4e62a5a",
      "metadata": {
        "id": "e4e62a5a"
      },
      "source": [
        "このクライアントの準備ができたら、上記のようにDask配列を使用することができ、計算は指定した数のワーカーに分散されます。"
      ]
    },
    {
      "cell_type": "markdown",
      "id": "9fcb5590",
      "metadata": {
        "id": "9fcb5590"
      },
      "source": [
        "Daskについてもっと知りたい場合は、いくつかの優れた例を参照してください。"
      ]
    },
    {
      "cell_type": "markdown",
      "id": "a0c5df16",
      "metadata": {
        "id": "a0c5df16"
      },
      "source": [
        "## 機械学習における配列 (省略予定）"
      ]
    },
    {
      "cell_type": "markdown",
      "id": "f5f45014",
      "metadata": {
        "id": "f5f45014"
      },
      "source": [
        "配列の乗算は、多くの機械学習アルゴリズムの重要な部分を占めています。ML（機械学習）のデータは、カテゴリデータ、画像データ、テキストデータなど、しばしば行列（二次元配列）やテンソル（高次元配列）として保存されます。MLモデルが大規模化するにつれ、配列操作をより効率的にし、モデルのトレーニングを迅速化するための多くの努力がなされてきました。"
      ]
    },
    {
      "cell_type": "markdown",
      "id": "8e64cf81",
      "metadata": {
        "id": "8e64cf81"
      },
      "source": [
        "MLモデルのための2つの最も人気のあるトレーニングフレームワークであるTensorFlowとPyTorchは、GPUでのトレーニングによるスピードアップを活用した最適化されたデータ構造を提供しています。これらのフレームワークのいずれにもNumPy配列を簡単に変換できます。"
      ]
    },
    {
      "cell_type": "code",
      "execution_count": null,
      "id": "BX6NczSoY6Ec",
      "metadata": {
        "id": "BX6NczSoY6Ec"
      },
      "outputs": [],
      "source": [
        "np_tensor = np.random.rand(4,4)"
      ]
    },
    {
      "cell_type": "markdown",
      "id": "88a40db2",
      "metadata": {
        "id": "88a40db2"
      },
      "source": [
        "それを次のようにTensorFlow形式に変換してください。"
      ]
    },
    {
      "cell_type": "code",
      "execution_count": null,
      "id": "hgyHNQ_1ZHOn",
      "metadata": {
        "id": "hgyHNQ_1ZHOn"
      },
      "outputs": [],
      "source": [
        "!pip install tensorflow"
      ]
    },
    {
      "cell_type": "code",
      "execution_count": null,
      "id": "yZhCw9MeY_-E",
      "metadata": {
        "id": "yZhCw9MeY_-E"
      },
      "outputs": [],
      "source": [
        "import tensorflow as tf\n",
        "\n",
        "tf_tensor = tf.convert_to_tensor(tensor_numpy)"
      ]
    },
    {
      "cell_type": "markdown",
      "id": "31aca2eb",
      "metadata": {
        "id": "31aca2eb"
      },
      "source": [
        "またはPyTorch形式に変換："
      ]
    },
    {
      "cell_type": "code",
      "execution_count": null,
      "id": "cPWnpXDxZgdM",
      "metadata": {
        "id": "cPWnpXDxZgdM"
      },
      "outputs": [],
      "source": [
        "import torch\n",
        "\n",
        "pytorch_tensor = torch.from_numpy(np_tensor)"
      ]
    },
    {
      "cell_type": "markdown",
      "id": "b9ba10de",
      "metadata": {
        "id": "b9ba10de"
      },
      "source": [
        "MLのデータ構造は、GPU向けに最適化されています。これは、GPUが多くのテンソル演算を並行して実行できるためです。多くのMLアルゴリズムは並列化が非常に容易であり、ニューラルネットワークの逆伝播もその一例です。"
      ]
    },
    {
      "cell_type": "markdown",
      "id": "fdde2b0f",
      "metadata": {
        "id": "fdde2b0f"
      },
      "source": [
        "また、スパース行列についても触れておきたいと思います。これらは、ゼロが大半を占める行列を格納するためのメモリ効率が良いデータ構造です。これが役立つ一般的な例としては、テキストデータ内の異なる単語の出現頻度をカウントすることが挙げられます。テキストの任意のブロックに対して使用する語彙が大きい場合、ほとんどの特徴量がゼロになります。scikit-learnでは、"
      ]
    },
    {
      "cell_type": "markdown",
      "id": "7dfcc302",
      "metadata": {
        "id": "7dfcc302"
      },
      "source": [
        "SciPyの疎行列を使用します。これをNumPy配列に変換したり、その逆を行ったりすることができますが、疎行列の方がメモリ効率がはるかに良いです。"
      ]
    },
    {
      "cell_type": "markdown",
      "id": "8fb57834",
      "metadata": {
        "id": "8fb57834"
      },
      "source": [
        "機械学習モデルのトレーニングを最適化することは非常に大きなテーマであり、ここでは詳しく説明しません。これに取り組み始めたい場合、どちらもトレーニングコードでボトルネックを特定するためのプロファイラーを提供しています。"
      ]
    },
    {
      "cell_type": "markdown",
      "id": "37613747",
      "metadata": {
        "id": "37613747"
      },
      "source": [
        "## pandasデータフレーム"
      ]
    },
    {
      "cell_type": "markdown",
      "id": "232363e7",
      "metadata": {
        "id": "232363e7"
      },
      "source": [
        "pandasは、Pythonでデータサイエンスを行うための最も人気のあるライブラリの1つです。データの操作と分析のための重要なライブラリです。pandasは、遅くてメモリを多く消費するという評判がありますが、このセクションでは、その性能を向上させるためのさまざまな方法を紹介します。"
      ]
    },
    {
      "cell_type": "markdown",
      "id": "7342c3ce",
      "metadata": {
        "id": "7342c3ce"
      },
      "source": [
        "pandasは元々NumPyの上に構築されており、これを扱う際にはこの点を覚えておくことが重要です。NumPy配列に適用される多くの原則は、pandasのDataFrameにも適用されますが、pandasに特有の機能もあります。2023年4月にリリースされたpandas 2.0では、バックエンドとしてデータ構造を使用するオプションが追加されました。"
      ]
    },
    {
      "cell_type": "markdown",
      "id": "dc85acf9",
      "metadata": {
        "id": "dc85acf9"
      },
      "source": [
        "NumPy配列の場合と同様に、pandasのDataFrameに関連するすべての関数を取り上げるわけではありません。詳細については、Wes McKinneyによる『Python for Data Analysis』（オライリー、2021年）を再びお勧めします。"
      ]
    },
    {
      "cell_type": "markdown",
      "id": "a12a3954",
      "metadata": {
        "id": "a12a3954"
      },
      "source": [
        "## DataFrame の機能"
      ]
    },
    {
      "cell_type": "markdown",
      "id": "81ce5b94",
      "metadata": {
        "id": "81ce5b94"
      },
      "source": [
        "pandasには2つの重要なデータ構造があります：DataFrameとSeriesです。DataFrameは1つ以上のSeriesから構成されています。Seriesは1次元のNumPy配列に似ていますが、インデックスが追加されている点が重要です。これにより、Series内の項目をインデックスやその位置で検索することができます。"
      ]
    },
    {
      "cell_type": "markdown",
      "id": "c42ce50d",
      "metadata": {
        "id": "c42ce50d"
      },
      "source": [
        "Series を作成するには、次のようにします："
      ]
    },
    {
      "cell_type": "code",
      "source": [],
      "metadata": {
        "id": "upB849Bu6bjr"
      },
      "id": "upB849Bu6bjr",
      "execution_count": null,
      "outputs": []
    },
    {
      "cell_type": "code",
      "execution_count": 1,
      "metadata": {
        "id": "lsUHqkhC6XuP"
      },
      "outputs": [],
      "source": [
        "import pandas as pd"
      ],
      "id": "lsUHqkhC6XuP"
    },
    {
      "cell_type": "code",
      "source": [
        "usa_data = pd.Series(\n",
        "    [13.33, 14.02, 14.02, 14.25], index=[\"2000\", \"2001\", \"2002\", \"2003\"]\n",
        ")"
      ],
      "metadata": {
        "id": "HPBKOWdJ6HAz"
      },
      "id": "HPBKOWdJ6HAz",
      "execution_count": 2,
      "outputs": []
    },
    {
      "cell_type": "markdown",
      "id": "b1b59f6e",
      "metadata": {
        "id": "b1b59f6e"
      },
      "source": [
        "これは、年をインデックスとする次のような構造を提供します。"
      ]
    },
    {
      "cell_type": "code",
      "source": [
        "usa_data"
      ],
      "metadata": {
        "colab": {
          "base_uri": "https://localhost:8080/",
          "height": 209
        },
        "id": "eziQyxmA6i4s",
        "outputId": "a5b86491-a267-460c-b323-6f4ff0ae5045"
      },
      "id": "eziQyxmA6i4s",
      "execution_count": 3,
      "outputs": [
        {
          "output_type": "execute_result",
          "data": {
            "text/plain": [
              "2000    13.33\n",
              "2001    14.02\n",
              "2002    14.02\n",
              "2003    14.25\n",
              "dtype: float64"
            ],
            "text/html": [
              "<div>\n",
              "<style scoped>\n",
              "    .dataframe tbody tr th:only-of-type {\n",
              "        vertical-align: middle;\n",
              "    }\n",
              "\n",
              "    .dataframe tbody tr th {\n",
              "        vertical-align: top;\n",
              "    }\n",
              "\n",
              "    .dataframe thead th {\n",
              "        text-align: right;\n",
              "    }\n",
              "</style>\n",
              "<table border=\"1\" class=\"dataframe\">\n",
              "  <thead>\n",
              "    <tr style=\"text-align: right;\">\n",
              "      <th></th>\n",
              "      <th>0</th>\n",
              "    </tr>\n",
              "  </thead>\n",
              "  <tbody>\n",
              "    <tr>\n",
              "      <th>2000</th>\n",
              "      <td>13.33</td>\n",
              "    </tr>\n",
              "    <tr>\n",
              "      <th>2001</th>\n",
              "      <td>14.02</td>\n",
              "    </tr>\n",
              "    <tr>\n",
              "      <th>2002</th>\n",
              "      <td>14.02</td>\n",
              "    </tr>\n",
              "    <tr>\n",
              "      <th>2003</th>\n",
              "      <td>14.25</td>\n",
              "    </tr>\n",
              "  </tbody>\n",
              "</table>\n",
              "</div><br><label><b>dtype:</b> float64</label>"
            ]
          },
          "metadata": {},
          "execution_count": 3
        }
      ]
    },
    {
      "cell_type": "markdown",
      "id": "c8595ed5",
      "metadata": {
        "id": "c8595ed5"
      },
      "source": [
        "NumPyの配列と同様に、Seriesも連続したメモリブロックとして作成されます。つまり、いくつかの同じパフォーマンスに関する考慮事項が適用されます。たとえば、Seriesの末尾に新しいアイテムを追加するのは遅いです。これは、構造全体を新しいメモリ位置に移動しなければならないからです。パフォーマンスに関する考慮事項については、次のセクションで詳しく説明します。"
      ]
    },
    {
      "cell_type": "markdown",
      "id": "d2548581",
      "metadata": {
        "id": "d2548581"
      },
      "source": [
        "Pandas DataFrameは、2次元のPandas Series構造の配列であり、列インデックスも持ちます。Pandas Seriesから次のようにして構築することができます。"
      ]
    },
    {
      "cell_type": "code",
      "execution_count": 6,
      "metadata": {
        "id": "AX9AZsHT7BQc"
      },
      "outputs": [],
      "source": [
        "india_data = pd.Series([9.02, 9.01, 8.84, 8.84], index=[\"2000\", \"2001\", \"2002\", \"2003\"])"
      ],
      "id": "AX9AZsHT7BQc"
    },
    {
      "cell_type": "code",
      "source": [
        "df = pd.DataFrame({\"USA\": usa_data, \"India\": india_data})"
      ],
      "metadata": {
        "id": "KZItACx57eXC"
      },
      "id": "KZItACx57eXC",
      "execution_count": 7,
      "outputs": []
    },
    {
      "cell_type": "markdown",
      "id": "aae3b58f",
      "metadata": {
        "id": "aae3b58f"
      },
      "source": [
        "これは次のようなDataFrameを提供します。"
      ]
    },
    {
      "cell_type": "code",
      "source": [
        "df"
      ],
      "metadata": {
        "colab": {
          "base_uri": "https://localhost:8080/",
          "height": 175
        },
        "id": "WgRkNuOk7bxp",
        "outputId": "c228bc1e-341f-4358-84f6-6e1ebad446c6"
      },
      "id": "WgRkNuOk7bxp",
      "execution_count": 8,
      "outputs": [
        {
          "output_type": "execute_result",
          "data": {
            "text/plain": [
              "        USA  India\n",
              "2000  13.33   9.02\n",
              "2001  14.02   9.01\n",
              "2002  14.02   8.84\n",
              "2003  14.25   8.84"
            ],
            "text/html": [
              "\n",
              "  <div id=\"df-fcf850a6-16e5-4dbd-af94-daa2ece6a9fa\" class=\"colab-df-container\">\n",
              "    <div>\n",
              "<style scoped>\n",
              "    .dataframe tbody tr th:only-of-type {\n",
              "        vertical-align: middle;\n",
              "    }\n",
              "\n",
              "    .dataframe tbody tr th {\n",
              "        vertical-align: top;\n",
              "    }\n",
              "\n",
              "    .dataframe thead th {\n",
              "        text-align: right;\n",
              "    }\n",
              "</style>\n",
              "<table border=\"1\" class=\"dataframe\">\n",
              "  <thead>\n",
              "    <tr style=\"text-align: right;\">\n",
              "      <th></th>\n",
              "      <th>USA</th>\n",
              "      <th>India</th>\n",
              "    </tr>\n",
              "  </thead>\n",
              "  <tbody>\n",
              "    <tr>\n",
              "      <th>2000</th>\n",
              "      <td>13.33</td>\n",
              "      <td>9.02</td>\n",
              "    </tr>\n",
              "    <tr>\n",
              "      <th>2001</th>\n",
              "      <td>14.02</td>\n",
              "      <td>9.01</td>\n",
              "    </tr>\n",
              "    <tr>\n",
              "      <th>2002</th>\n",
              "      <td>14.02</td>\n",
              "      <td>8.84</td>\n",
              "    </tr>\n",
              "    <tr>\n",
              "      <th>2003</th>\n",
              "      <td>14.25</td>\n",
              "      <td>8.84</td>\n",
              "    </tr>\n",
              "  </tbody>\n",
              "</table>\n",
              "</div>\n",
              "    <div class=\"colab-df-buttons\">\n",
              "\n",
              "  <div class=\"colab-df-container\">\n",
              "    <button class=\"colab-df-convert\" onclick=\"convertToInteractive('df-fcf850a6-16e5-4dbd-af94-daa2ece6a9fa')\"\n",
              "            title=\"Convert this dataframe to an interactive table.\"\n",
              "            style=\"display:none;\">\n",
              "\n",
              "  <svg xmlns=\"http://www.w3.org/2000/svg\" height=\"24px\" viewBox=\"0 -960 960 960\">\n",
              "    <path d=\"M120-120v-720h720v720H120Zm60-500h600v-160H180v160Zm220 220h160v-160H400v160Zm0 220h160v-160H400v160ZM180-400h160v-160H180v160Zm440 0h160v-160H620v160ZM180-180h160v-160H180v160Zm440 0h160v-160H620v160Z\"/>\n",
              "  </svg>\n",
              "    </button>\n",
              "\n",
              "  <style>\n",
              "    .colab-df-container {\n",
              "      display:flex;\n",
              "      gap: 12px;\n",
              "    }\n",
              "\n",
              "    .colab-df-convert {\n",
              "      background-color: #E8F0FE;\n",
              "      border: none;\n",
              "      border-radius: 50%;\n",
              "      cursor: pointer;\n",
              "      display: none;\n",
              "      fill: #1967D2;\n",
              "      height: 32px;\n",
              "      padding: 0 0 0 0;\n",
              "      width: 32px;\n",
              "    }\n",
              "\n",
              "    .colab-df-convert:hover {\n",
              "      background-color: #E2EBFA;\n",
              "      box-shadow: 0px 1px 2px rgba(60, 64, 67, 0.3), 0px 1px 3px 1px rgba(60, 64, 67, 0.15);\n",
              "      fill: #174EA6;\n",
              "    }\n",
              "\n",
              "    .colab-df-buttons div {\n",
              "      margin-bottom: 4px;\n",
              "    }\n",
              "\n",
              "    [theme=dark] .colab-df-convert {\n",
              "      background-color: #3B4455;\n",
              "      fill: #D2E3FC;\n",
              "    }\n",
              "\n",
              "    [theme=dark] .colab-df-convert:hover {\n",
              "      background-color: #434B5C;\n",
              "      box-shadow: 0px 1px 3px 1px rgba(0, 0, 0, 0.15);\n",
              "      filter: drop-shadow(0px 1px 2px rgba(0, 0, 0, 0.3));\n",
              "      fill: #FFFFFF;\n",
              "    }\n",
              "  </style>\n",
              "\n",
              "    <script>\n",
              "      const buttonEl =\n",
              "        document.querySelector('#df-fcf850a6-16e5-4dbd-af94-daa2ece6a9fa button.colab-df-convert');\n",
              "      buttonEl.style.display =\n",
              "        google.colab.kernel.accessAllowed ? 'block' : 'none';\n",
              "\n",
              "      async function convertToInteractive(key) {\n",
              "        const element = document.querySelector('#df-fcf850a6-16e5-4dbd-af94-daa2ece6a9fa');\n",
              "        const dataTable =\n",
              "          await google.colab.kernel.invokeFunction('convertToInteractive',\n",
              "                                                    [key], {});\n",
              "        if (!dataTable) return;\n",
              "\n",
              "        const docLinkHtml = 'Like what you see? Visit the ' +\n",
              "          '<a target=\"_blank\" href=https://colab.research.google.com/notebooks/data_table.ipynb>data table notebook</a>'\n",
              "          + ' to learn more about interactive tables.';\n",
              "        element.innerHTML = '';\n",
              "        dataTable['output_type'] = 'display_data';\n",
              "        await google.colab.output.renderOutput(dataTable, element);\n",
              "        const docLink = document.createElement('div');\n",
              "        docLink.innerHTML = docLinkHtml;\n",
              "        element.appendChild(docLink);\n",
              "      }\n",
              "    </script>\n",
              "  </div>\n",
              "\n",
              "\n",
              "    <div id=\"df-199e5d63-fb75-439a-b91e-b50a048279fb\">\n",
              "      <button class=\"colab-df-quickchart\" onclick=\"quickchart('df-199e5d63-fb75-439a-b91e-b50a048279fb')\"\n",
              "                title=\"Suggest charts\"\n",
              "                style=\"display:none;\">\n",
              "\n",
              "<svg xmlns=\"http://www.w3.org/2000/svg\" height=\"24px\"viewBox=\"0 0 24 24\"\n",
              "     width=\"24px\">\n",
              "    <g>\n",
              "        <path d=\"M19 3H5c-1.1 0-2 .9-2 2v14c0 1.1.9 2 2 2h14c1.1 0 2-.9 2-2V5c0-1.1-.9-2-2-2zM9 17H7v-7h2v7zm4 0h-2V7h2v10zm4 0h-2v-4h2v4z\"/>\n",
              "    </g>\n",
              "</svg>\n",
              "      </button>\n",
              "\n",
              "<style>\n",
              "  .colab-df-quickchart {\n",
              "      --bg-color: #E8F0FE;\n",
              "      --fill-color: #1967D2;\n",
              "      --hover-bg-color: #E2EBFA;\n",
              "      --hover-fill-color: #174EA6;\n",
              "      --disabled-fill-color: #AAA;\n",
              "      --disabled-bg-color: #DDD;\n",
              "  }\n",
              "\n",
              "  [theme=dark] .colab-df-quickchart {\n",
              "      --bg-color: #3B4455;\n",
              "      --fill-color: #D2E3FC;\n",
              "      --hover-bg-color: #434B5C;\n",
              "      --hover-fill-color: #FFFFFF;\n",
              "      --disabled-bg-color: #3B4455;\n",
              "      --disabled-fill-color: #666;\n",
              "  }\n",
              "\n",
              "  .colab-df-quickchart {\n",
              "    background-color: var(--bg-color);\n",
              "    border: none;\n",
              "    border-radius: 50%;\n",
              "    cursor: pointer;\n",
              "    display: none;\n",
              "    fill: var(--fill-color);\n",
              "    height: 32px;\n",
              "    padding: 0;\n",
              "    width: 32px;\n",
              "  }\n",
              "\n",
              "  .colab-df-quickchart:hover {\n",
              "    background-color: var(--hover-bg-color);\n",
              "    box-shadow: 0 1px 2px rgba(60, 64, 67, 0.3), 0 1px 3px 1px rgba(60, 64, 67, 0.15);\n",
              "    fill: var(--button-hover-fill-color);\n",
              "  }\n",
              "\n",
              "  .colab-df-quickchart-complete:disabled,\n",
              "  .colab-df-quickchart-complete:disabled:hover {\n",
              "    background-color: var(--disabled-bg-color);\n",
              "    fill: var(--disabled-fill-color);\n",
              "    box-shadow: none;\n",
              "  }\n",
              "\n",
              "  .colab-df-spinner {\n",
              "    border: 2px solid var(--fill-color);\n",
              "    border-color: transparent;\n",
              "    border-bottom-color: var(--fill-color);\n",
              "    animation:\n",
              "      spin 1s steps(1) infinite;\n",
              "  }\n",
              "\n",
              "  @keyframes spin {\n",
              "    0% {\n",
              "      border-color: transparent;\n",
              "      border-bottom-color: var(--fill-color);\n",
              "      border-left-color: var(--fill-color);\n",
              "    }\n",
              "    20% {\n",
              "      border-color: transparent;\n",
              "      border-left-color: var(--fill-color);\n",
              "      border-top-color: var(--fill-color);\n",
              "    }\n",
              "    30% {\n",
              "      border-color: transparent;\n",
              "      border-left-color: var(--fill-color);\n",
              "      border-top-color: var(--fill-color);\n",
              "      border-right-color: var(--fill-color);\n",
              "    }\n",
              "    40% {\n",
              "      border-color: transparent;\n",
              "      border-right-color: var(--fill-color);\n",
              "      border-top-color: var(--fill-color);\n",
              "    }\n",
              "    60% {\n",
              "      border-color: transparent;\n",
              "      border-right-color: var(--fill-color);\n",
              "    }\n",
              "    80% {\n",
              "      border-color: transparent;\n",
              "      border-right-color: var(--fill-color);\n",
              "      border-bottom-color: var(--fill-color);\n",
              "    }\n",
              "    90% {\n",
              "      border-color: transparent;\n",
              "      border-bottom-color: var(--fill-color);\n",
              "    }\n",
              "  }\n",
              "</style>\n",
              "\n",
              "      <script>\n",
              "        async function quickchart(key) {\n",
              "          const quickchartButtonEl =\n",
              "            document.querySelector('#' + key + ' button');\n",
              "          quickchartButtonEl.disabled = true;  // To prevent multiple clicks.\n",
              "          quickchartButtonEl.classList.add('colab-df-spinner');\n",
              "          try {\n",
              "            const charts = await google.colab.kernel.invokeFunction(\n",
              "                'suggestCharts', [key], {});\n",
              "          } catch (error) {\n",
              "            console.error('Error during call to suggestCharts:', error);\n",
              "          }\n",
              "          quickchartButtonEl.classList.remove('colab-df-spinner');\n",
              "          quickchartButtonEl.classList.add('colab-df-quickchart-complete');\n",
              "        }\n",
              "        (() => {\n",
              "          let quickchartButtonEl =\n",
              "            document.querySelector('#df-199e5d63-fb75-439a-b91e-b50a048279fb button');\n",
              "          quickchartButtonEl.style.display =\n",
              "            google.colab.kernel.accessAllowed ? 'block' : 'none';\n",
              "        })();\n",
              "      </script>\n",
              "    </div>\n",
              "\n",
              "  <div id=\"id_d3603b40-21ad-438e-af0c-37f6e0b88b04\">\n",
              "    <style>\n",
              "      .colab-df-generate {\n",
              "        background-color: #E8F0FE;\n",
              "        border: none;\n",
              "        border-radius: 50%;\n",
              "        cursor: pointer;\n",
              "        display: none;\n",
              "        fill: #1967D2;\n",
              "        height: 32px;\n",
              "        padding: 0 0 0 0;\n",
              "        width: 32px;\n",
              "      }\n",
              "\n",
              "      .colab-df-generate:hover {\n",
              "        background-color: #E2EBFA;\n",
              "        box-shadow: 0px 1px 2px rgba(60, 64, 67, 0.3), 0px 1px 3px 1px rgba(60, 64, 67, 0.15);\n",
              "        fill: #174EA6;\n",
              "      }\n",
              "\n",
              "      [theme=dark] .colab-df-generate {\n",
              "        background-color: #3B4455;\n",
              "        fill: #D2E3FC;\n",
              "      }\n",
              "\n",
              "      [theme=dark] .colab-df-generate:hover {\n",
              "        background-color: #434B5C;\n",
              "        box-shadow: 0px 1px 3px 1px rgba(0, 0, 0, 0.15);\n",
              "        filter: drop-shadow(0px 1px 2px rgba(0, 0, 0, 0.3));\n",
              "        fill: #FFFFFF;\n",
              "      }\n",
              "    </style>\n",
              "    <button class=\"colab-df-generate\" onclick=\"generateWithVariable('df')\"\n",
              "            title=\"Generate code using this dataframe.\"\n",
              "            style=\"display:none;\">\n",
              "\n",
              "  <svg xmlns=\"http://www.w3.org/2000/svg\" height=\"24px\"viewBox=\"0 0 24 24\"\n",
              "       width=\"24px\">\n",
              "    <path d=\"M7,19H8.4L18.45,9,17,7.55,7,17.6ZM5,21V16.75L18.45,3.32a2,2,0,0,1,2.83,0l1.4,1.43a1.91,1.91,0,0,1,.58,1.4,1.91,1.91,0,0,1-.58,1.4L9.25,21ZM18.45,9,17,7.55Zm-12,3A5.31,5.31,0,0,0,4.9,8.1,5.31,5.31,0,0,0,1,6.5,5.31,5.31,0,0,0,4.9,4.9,5.31,5.31,0,0,0,6.5,1,5.31,5.31,0,0,0,8.1,4.9,5.31,5.31,0,0,0,12,6.5,5.46,5.46,0,0,0,6.5,12Z\"/>\n",
              "  </svg>\n",
              "    </button>\n",
              "    <script>\n",
              "      (() => {\n",
              "      const buttonEl =\n",
              "        document.querySelector('#id_d3603b40-21ad-438e-af0c-37f6e0b88b04 button.colab-df-generate');\n",
              "      buttonEl.style.display =\n",
              "        google.colab.kernel.accessAllowed ? 'block' : 'none';\n",
              "\n",
              "      buttonEl.onclick = () => {\n",
              "        google.colab.notebook.generateWithVariable('df');\n",
              "      }\n",
              "      })();\n",
              "    </script>\n",
              "  </div>\n",
              "\n",
              "    </div>\n",
              "  </div>\n"
            ],
            "application/vnd.google.colaboratory.intrinsic+json": {
              "type": "dataframe",
              "variable_name": "df",
              "summary": "{\n  \"name\": \"df\",\n  \"rows\": 4,\n  \"fields\": [\n    {\n      \"column\": \"USA\",\n      \"properties\": {\n        \"dtype\": \"number\",\n        \"std\": 0.3983716857408417,\n        \"min\": 13.33,\n        \"max\": 14.25,\n        \"num_unique_values\": 3,\n        \"samples\": [\n          13.33,\n          14.02,\n          14.25\n        ],\n        \"semantic_type\": \"\",\n        \"description\": \"\"\n      }\n    },\n    {\n      \"column\": \"India\",\n      \"properties\": {\n        \"dtype\": \"number\",\n        \"std\": 0.10111874208078332,\n        \"min\": 8.84,\n        \"max\": 9.02,\n        \"num_unique_values\": 3,\n        \"samples\": [\n          9.02,\n          9.01,\n          8.84\n        ],\n        \"semantic_type\": \"\",\n        \"description\": \"\"\n      }\n    }\n  ]\n}"
            }
          },
          "metadata": {},
          "execution_count": 8
        }
      ]
    },
    {
      "cell_type": "markdown",
      "id": "fec0fd09",
      "metadata": {
        "id": "fec0fd09"
      },
      "source": [
        "NumPy配列とは異なり、DataFrame内の各列は異なるデータ型にすることができます。"
      ]
    },
    {
      "cell_type": "markdown",
      "id": "4078f6cc",
      "metadata": {
        "id": "4078f6cc"
      },
      "source": [
        "pandasには、データを混在させることができるカラムタイプも用意されています。"
      ]
    },
    {
      "cell_type": "markdown",
      "id": "11dd070a",
      "metadata": {
        "id": "11dd070a"
      },
      "source": [
        "シリーズ内で異なるタイプのデータを扱うことができます。pandasには、NumPyよりも多くの欠損データを処理するための関数があります。"
      ]
    },
    {
      "cell_type": "markdown",
      "id": "8cb9c75e",
      "metadata": {
        "id": "8cb9c75e"
      },
      "source": [
        "pandasのデータ構造は、行と列の情報を持つ2次元の表形式のデータに特に有用です。また、スプレッドシート形式のデータにも最適です。データベースのテーブルと同様に使用することもでき、データの結合やクエリを行うオプションを提供しますが、これはプロジェクトが小さすぎて本格的なデータベースを設定する価値がない場合に最適です。さらにpandasは、時系列データを扱うための多くの特殊な関数も提供しています。"
      ]
    },
    {
      "cell_type": "markdown",
      "id": "0ab5b766",
      "metadata": {
        "id": "0ab5b766"
      },
      "source": [
        "## DataFrame のパフォーマンス考慮事項"
      ]
    },
    {
      "cell_type": "markdown",
      "id": "4c510b4f",
      "metadata": {
        "id": "4c510b4f"
      },
      "source": [
        "NumPyと同様に、pandasライブラリには、配列のすべての要素に対して一度に計算を行う多くのベクトル化操作があります。これらの多くは内部でNumPyを使用しています。ベクトル化された操作が利用可能な場合、それを使用することでほぼ間違いなく最高のパフォーマンスを得ることができます。"
      ]
    },
    {
      "cell_type": "markdown",
      "id": "46470013",
      "metadata": {
        "id": "46470013"
      },
      "source": [
        "たとえば、算術演算はベクトル化されています。"
      ]
    },
    {
      "cell_type": "code",
      "source": [
        "%%timeit\n",
        "df[\"India_fraction\"] = df[\"India\"] / 100"
      ],
      "metadata": {
        "colab": {
          "base_uri": "https://localhost:8080/"
        },
        "id": "CRQHpN3J8TNI",
        "outputId": "85f5cb37-5f82-4413-ed28-020a13aa9373"
      },
      "id": "CRQHpN3J8TNI",
      "execution_count": 11,
      "outputs": [
        {
          "output_type": "stream",
          "name": "stdout",
          "text": [
            "119 µs ± 19.4 µs per loop (mean ± std. dev. of 7 runs, 10000 loops each)\n"
          ]
        }
      ]
    },
    {
      "cell_type": "code",
      "source": [
        "df"
      ],
      "metadata": {
        "colab": {
          "base_uri": "https://localhost:8080/",
          "height": 175
        },
        "id": "Ev6jNfz-8dkg",
        "outputId": "d0eae923-e13f-47da-9009-951cc827b226"
      },
      "id": "Ev6jNfz-8dkg",
      "execution_count": 10,
      "outputs": [
        {
          "output_type": "execute_result",
          "data": {
            "text/plain": [
              "        USA  India  India_fraction\n",
              "2000  13.33   9.02          0.0902\n",
              "2001  14.02   9.01          0.0901\n",
              "2002  14.02   8.84          0.0884\n",
              "2003  14.25   8.84          0.0884"
            ],
            "text/html": [
              "\n",
              "  <div id=\"df-7f5a7d76-5d29-4b64-84ca-bf3f18454fc8\" class=\"colab-df-container\">\n",
              "    <div>\n",
              "<style scoped>\n",
              "    .dataframe tbody tr th:only-of-type {\n",
              "        vertical-align: middle;\n",
              "    }\n",
              "\n",
              "    .dataframe tbody tr th {\n",
              "        vertical-align: top;\n",
              "    }\n",
              "\n",
              "    .dataframe thead th {\n",
              "        text-align: right;\n",
              "    }\n",
              "</style>\n",
              "<table border=\"1\" class=\"dataframe\">\n",
              "  <thead>\n",
              "    <tr style=\"text-align: right;\">\n",
              "      <th></th>\n",
              "      <th>USA</th>\n",
              "      <th>India</th>\n",
              "      <th>India_fraction</th>\n",
              "    </tr>\n",
              "  </thead>\n",
              "  <tbody>\n",
              "    <tr>\n",
              "      <th>2000</th>\n",
              "      <td>13.33</td>\n",
              "      <td>9.02</td>\n",
              "      <td>0.0902</td>\n",
              "    </tr>\n",
              "    <tr>\n",
              "      <th>2001</th>\n",
              "      <td>14.02</td>\n",
              "      <td>9.01</td>\n",
              "      <td>0.0901</td>\n",
              "    </tr>\n",
              "    <tr>\n",
              "      <th>2002</th>\n",
              "      <td>14.02</td>\n",
              "      <td>8.84</td>\n",
              "      <td>0.0884</td>\n",
              "    </tr>\n",
              "    <tr>\n",
              "      <th>2003</th>\n",
              "      <td>14.25</td>\n",
              "      <td>8.84</td>\n",
              "      <td>0.0884</td>\n",
              "    </tr>\n",
              "  </tbody>\n",
              "</table>\n",
              "</div>\n",
              "    <div class=\"colab-df-buttons\">\n",
              "\n",
              "  <div class=\"colab-df-container\">\n",
              "    <button class=\"colab-df-convert\" onclick=\"convertToInteractive('df-7f5a7d76-5d29-4b64-84ca-bf3f18454fc8')\"\n",
              "            title=\"Convert this dataframe to an interactive table.\"\n",
              "            style=\"display:none;\">\n",
              "\n",
              "  <svg xmlns=\"http://www.w3.org/2000/svg\" height=\"24px\" viewBox=\"0 -960 960 960\">\n",
              "    <path d=\"M120-120v-720h720v720H120Zm60-500h600v-160H180v160Zm220 220h160v-160H400v160Zm0 220h160v-160H400v160ZM180-400h160v-160H180v160Zm440 0h160v-160H620v160ZM180-180h160v-160H180v160Zm440 0h160v-160H620v160Z\"/>\n",
              "  </svg>\n",
              "    </button>\n",
              "\n",
              "  <style>\n",
              "    .colab-df-container {\n",
              "      display:flex;\n",
              "      gap: 12px;\n",
              "    }\n",
              "\n",
              "    .colab-df-convert {\n",
              "      background-color: #E8F0FE;\n",
              "      border: none;\n",
              "      border-radius: 50%;\n",
              "      cursor: pointer;\n",
              "      display: none;\n",
              "      fill: #1967D2;\n",
              "      height: 32px;\n",
              "      padding: 0 0 0 0;\n",
              "      width: 32px;\n",
              "    }\n",
              "\n",
              "    .colab-df-convert:hover {\n",
              "      background-color: #E2EBFA;\n",
              "      box-shadow: 0px 1px 2px rgba(60, 64, 67, 0.3), 0px 1px 3px 1px rgba(60, 64, 67, 0.15);\n",
              "      fill: #174EA6;\n",
              "    }\n",
              "\n",
              "    .colab-df-buttons div {\n",
              "      margin-bottom: 4px;\n",
              "    }\n",
              "\n",
              "    [theme=dark] .colab-df-convert {\n",
              "      background-color: #3B4455;\n",
              "      fill: #D2E3FC;\n",
              "    }\n",
              "\n",
              "    [theme=dark] .colab-df-convert:hover {\n",
              "      background-color: #434B5C;\n",
              "      box-shadow: 0px 1px 3px 1px rgba(0, 0, 0, 0.15);\n",
              "      filter: drop-shadow(0px 1px 2px rgba(0, 0, 0, 0.3));\n",
              "      fill: #FFFFFF;\n",
              "    }\n",
              "  </style>\n",
              "\n",
              "    <script>\n",
              "      const buttonEl =\n",
              "        document.querySelector('#df-7f5a7d76-5d29-4b64-84ca-bf3f18454fc8 button.colab-df-convert');\n",
              "      buttonEl.style.display =\n",
              "        google.colab.kernel.accessAllowed ? 'block' : 'none';\n",
              "\n",
              "      async function convertToInteractive(key) {\n",
              "        const element = document.querySelector('#df-7f5a7d76-5d29-4b64-84ca-bf3f18454fc8');\n",
              "        const dataTable =\n",
              "          await google.colab.kernel.invokeFunction('convertToInteractive',\n",
              "                                                    [key], {});\n",
              "        if (!dataTable) return;\n",
              "\n",
              "        const docLinkHtml = 'Like what you see? Visit the ' +\n",
              "          '<a target=\"_blank\" href=https://colab.research.google.com/notebooks/data_table.ipynb>data table notebook</a>'\n",
              "          + ' to learn more about interactive tables.';\n",
              "        element.innerHTML = '';\n",
              "        dataTable['output_type'] = 'display_data';\n",
              "        await google.colab.output.renderOutput(dataTable, element);\n",
              "        const docLink = document.createElement('div');\n",
              "        docLink.innerHTML = docLinkHtml;\n",
              "        element.appendChild(docLink);\n",
              "      }\n",
              "    </script>\n",
              "  </div>\n",
              "\n",
              "\n",
              "    <div id=\"df-f12cff7e-47d3-4cdd-a058-56ed64585269\">\n",
              "      <button class=\"colab-df-quickchart\" onclick=\"quickchart('df-f12cff7e-47d3-4cdd-a058-56ed64585269')\"\n",
              "                title=\"Suggest charts\"\n",
              "                style=\"display:none;\">\n",
              "\n",
              "<svg xmlns=\"http://www.w3.org/2000/svg\" height=\"24px\"viewBox=\"0 0 24 24\"\n",
              "     width=\"24px\">\n",
              "    <g>\n",
              "        <path d=\"M19 3H5c-1.1 0-2 .9-2 2v14c0 1.1.9 2 2 2h14c1.1 0 2-.9 2-2V5c0-1.1-.9-2-2-2zM9 17H7v-7h2v7zm4 0h-2V7h2v10zm4 0h-2v-4h2v4z\"/>\n",
              "    </g>\n",
              "</svg>\n",
              "      </button>\n",
              "\n",
              "<style>\n",
              "  .colab-df-quickchart {\n",
              "      --bg-color: #E8F0FE;\n",
              "      --fill-color: #1967D2;\n",
              "      --hover-bg-color: #E2EBFA;\n",
              "      --hover-fill-color: #174EA6;\n",
              "      --disabled-fill-color: #AAA;\n",
              "      --disabled-bg-color: #DDD;\n",
              "  }\n",
              "\n",
              "  [theme=dark] .colab-df-quickchart {\n",
              "      --bg-color: #3B4455;\n",
              "      --fill-color: #D2E3FC;\n",
              "      --hover-bg-color: #434B5C;\n",
              "      --hover-fill-color: #FFFFFF;\n",
              "      --disabled-bg-color: #3B4455;\n",
              "      --disabled-fill-color: #666;\n",
              "  }\n",
              "\n",
              "  .colab-df-quickchart {\n",
              "    background-color: var(--bg-color);\n",
              "    border: none;\n",
              "    border-radius: 50%;\n",
              "    cursor: pointer;\n",
              "    display: none;\n",
              "    fill: var(--fill-color);\n",
              "    height: 32px;\n",
              "    padding: 0;\n",
              "    width: 32px;\n",
              "  }\n",
              "\n",
              "  .colab-df-quickchart:hover {\n",
              "    background-color: var(--hover-bg-color);\n",
              "    box-shadow: 0 1px 2px rgba(60, 64, 67, 0.3), 0 1px 3px 1px rgba(60, 64, 67, 0.15);\n",
              "    fill: var(--button-hover-fill-color);\n",
              "  }\n",
              "\n",
              "  .colab-df-quickchart-complete:disabled,\n",
              "  .colab-df-quickchart-complete:disabled:hover {\n",
              "    background-color: var(--disabled-bg-color);\n",
              "    fill: var(--disabled-fill-color);\n",
              "    box-shadow: none;\n",
              "  }\n",
              "\n",
              "  .colab-df-spinner {\n",
              "    border: 2px solid var(--fill-color);\n",
              "    border-color: transparent;\n",
              "    border-bottom-color: var(--fill-color);\n",
              "    animation:\n",
              "      spin 1s steps(1) infinite;\n",
              "  }\n",
              "\n",
              "  @keyframes spin {\n",
              "    0% {\n",
              "      border-color: transparent;\n",
              "      border-bottom-color: var(--fill-color);\n",
              "      border-left-color: var(--fill-color);\n",
              "    }\n",
              "    20% {\n",
              "      border-color: transparent;\n",
              "      border-left-color: var(--fill-color);\n",
              "      border-top-color: var(--fill-color);\n",
              "    }\n",
              "    30% {\n",
              "      border-color: transparent;\n",
              "      border-left-color: var(--fill-color);\n",
              "      border-top-color: var(--fill-color);\n",
              "      border-right-color: var(--fill-color);\n",
              "    }\n",
              "    40% {\n",
              "      border-color: transparent;\n",
              "      border-right-color: var(--fill-color);\n",
              "      border-top-color: var(--fill-color);\n",
              "    }\n",
              "    60% {\n",
              "      border-color: transparent;\n",
              "      border-right-color: var(--fill-color);\n",
              "    }\n",
              "    80% {\n",
              "      border-color: transparent;\n",
              "      border-right-color: var(--fill-color);\n",
              "      border-bottom-color: var(--fill-color);\n",
              "    }\n",
              "    90% {\n",
              "      border-color: transparent;\n",
              "      border-bottom-color: var(--fill-color);\n",
              "    }\n",
              "  }\n",
              "</style>\n",
              "\n",
              "      <script>\n",
              "        async function quickchart(key) {\n",
              "          const quickchartButtonEl =\n",
              "            document.querySelector('#' + key + ' button');\n",
              "          quickchartButtonEl.disabled = true;  // To prevent multiple clicks.\n",
              "          quickchartButtonEl.classList.add('colab-df-spinner');\n",
              "          try {\n",
              "            const charts = await google.colab.kernel.invokeFunction(\n",
              "                'suggestCharts', [key], {});\n",
              "          } catch (error) {\n",
              "            console.error('Error during call to suggestCharts:', error);\n",
              "          }\n",
              "          quickchartButtonEl.classList.remove('colab-df-spinner');\n",
              "          quickchartButtonEl.classList.add('colab-df-quickchart-complete');\n",
              "        }\n",
              "        (() => {\n",
              "          let quickchartButtonEl =\n",
              "            document.querySelector('#df-f12cff7e-47d3-4cdd-a058-56ed64585269 button');\n",
              "          quickchartButtonEl.style.display =\n",
              "            google.colab.kernel.accessAllowed ? 'block' : 'none';\n",
              "        })();\n",
              "      </script>\n",
              "    </div>\n",
              "\n",
              "  <div id=\"id_1827475b-e169-4cc4-8489-0b824dcc0d31\">\n",
              "    <style>\n",
              "      .colab-df-generate {\n",
              "        background-color: #E8F0FE;\n",
              "        border: none;\n",
              "        border-radius: 50%;\n",
              "        cursor: pointer;\n",
              "        display: none;\n",
              "        fill: #1967D2;\n",
              "        height: 32px;\n",
              "        padding: 0 0 0 0;\n",
              "        width: 32px;\n",
              "      }\n",
              "\n",
              "      .colab-df-generate:hover {\n",
              "        background-color: #E2EBFA;\n",
              "        box-shadow: 0px 1px 2px rgba(60, 64, 67, 0.3), 0px 1px 3px 1px rgba(60, 64, 67, 0.15);\n",
              "        fill: #174EA6;\n",
              "      }\n",
              "\n",
              "      [theme=dark] .colab-df-generate {\n",
              "        background-color: #3B4455;\n",
              "        fill: #D2E3FC;\n",
              "      }\n",
              "\n",
              "      [theme=dark] .colab-df-generate:hover {\n",
              "        background-color: #434B5C;\n",
              "        box-shadow: 0px 1px 3px 1px rgba(0, 0, 0, 0.15);\n",
              "        filter: drop-shadow(0px 1px 2px rgba(0, 0, 0, 0.3));\n",
              "        fill: #FFFFFF;\n",
              "      }\n",
              "    </style>\n",
              "    <button class=\"colab-df-generate\" onclick=\"generateWithVariable('df')\"\n",
              "            title=\"Generate code using this dataframe.\"\n",
              "            style=\"display:none;\">\n",
              "\n",
              "  <svg xmlns=\"http://www.w3.org/2000/svg\" height=\"24px\"viewBox=\"0 0 24 24\"\n",
              "       width=\"24px\">\n",
              "    <path d=\"M7,19H8.4L18.45,9,17,7.55,7,17.6ZM5,21V16.75L18.45,3.32a2,2,0,0,1,2.83,0l1.4,1.43a1.91,1.91,0,0,1,.58,1.4,1.91,1.91,0,0,1-.58,1.4L9.25,21ZM18.45,9,17,7.55Zm-12,3A5.31,5.31,0,0,0,4.9,8.1,5.31,5.31,0,0,0,1,6.5,5.31,5.31,0,0,0,4.9,4.9,5.31,5.31,0,0,0,6.5,1,5.31,5.31,0,0,0,8.1,4.9,5.31,5.31,0,0,0,12,6.5,5.46,5.46,0,0,0,6.5,12Z\"/>\n",
              "  </svg>\n",
              "    </button>\n",
              "    <script>\n",
              "      (() => {\n",
              "      const buttonEl =\n",
              "        document.querySelector('#id_1827475b-e169-4cc4-8489-0b824dcc0d31 button.colab-df-generate');\n",
              "      buttonEl.style.display =\n",
              "        google.colab.kernel.accessAllowed ? 'block' : 'none';\n",
              "\n",
              "      buttonEl.onclick = () => {\n",
              "        google.colab.notebook.generateWithVariable('df');\n",
              "      }\n",
              "      })();\n",
              "    </script>\n",
              "  </div>\n",
              "\n",
              "    </div>\n",
              "  </div>\n"
            ],
            "application/vnd.google.colaboratory.intrinsic+json": {
              "type": "dataframe",
              "variable_name": "df",
              "summary": "{\n  \"name\": \"df\",\n  \"rows\": 4,\n  \"fields\": [\n    {\n      \"column\": \"USA\",\n      \"properties\": {\n        \"dtype\": \"number\",\n        \"std\": 0.3983716857408417,\n        \"min\": 13.33,\n        \"max\": 14.25,\n        \"num_unique_values\": 3,\n        \"samples\": [\n          13.33,\n          14.02,\n          14.25\n        ],\n        \"semantic_type\": \"\",\n        \"description\": \"\"\n      }\n    },\n    {\n      \"column\": \"India\",\n      \"properties\": {\n        \"dtype\": \"number\",\n        \"std\": 0.10111874208078332,\n        \"min\": 8.84,\n        \"max\": 9.02,\n        \"num_unique_values\": 3,\n        \"samples\": [\n          9.02,\n          9.01,\n          8.84\n        ],\n        \"semantic_type\": \"\",\n        \"description\": \"\"\n      }\n    },\n    {\n      \"column\": \"India_fraction\",\n      \"properties\": {\n        \"dtype\": \"number\",\n        \"std\": 0.001011187420807839,\n        \"min\": 0.08839999999999999,\n        \"max\": 0.0902,\n        \"num_unique_values\": 3,\n        \"samples\": [\n          0.0902,\n          0.0901,\n          0.08839999999999999\n        ],\n        \"semantic_type\": \"\",\n        \"description\": \"\"\n      }\n    }\n  ]\n}"
            }
          },
          "metadata": {},
          "execution_count": 10
        }
      ]
    },
    {
      "cell_type": "markdown",
      "id": "6185ac35",
      "metadata": {
        "id": "6185ac35"
      },
      "source": [
        "NumPyで利用できるベクトル化された操作に加えて、pandasには、lower、strip、splitなどが含まれています。通常のPythonの.lower()メソッドを使用するよりも、df['column_name'].str.lower()を使用する方が高速です。"
      ]
    },
    {
      "cell_type": "markdown",
      "id": "bc8421bd",
      "metadata": {
        "id": "bc8421bd"
      },
      "source": [
        "試していることが組み込み関数として利用できない場合は、あなた自身で関数を作成したり、外部ライブラリを使って実装することができます。"
      ]
    },
    {
      "cell_type": "code",
      "source": [],
      "metadata": {
        "id": "y_2c3deV8wUf"
      },
      "id": "y_2c3deV8wUf",
      "execution_count": null,
      "outputs": []
    },
    {
      "cell_type": "markdown",
      "id": "0fb99960",
      "metadata": {
        "id": "0fb99960"
      },
      "source": [
        "任意の関数を定義し、apply（詳細については、次章　関数プログラミングで説明）で使用すると、以下のように、計算の時間が少し長くなります。："
      ]
    },
    {
      "cell_type": "code",
      "source": [
        "%%timeit\n",
        "df[\"India_fraction\"] = df[\"India\"] .apply(lambda x: x / 100)\n"
      ],
      "metadata": {
        "colab": {
          "base_uri": "https://localhost:8080/"
        },
        "id": "5zY8RGnf88gy",
        "outputId": "14f9057d-59be-40c1-eb8f-9fcce837f288"
      },
      "id": "5zY8RGnf88gy",
      "execution_count": 12,
      "outputs": [
        {
          "output_type": "stream",
          "name": "stdout",
          "text": [
            "125 µs ± 22.8 µs per loop (mean ± std. dev. of 7 runs, 10000 loops each)\n"
          ]
        }
      ]
    },
    {
      "cell_type": "markdown",
      "id": "2132c145",
      "metadata": {
        "id": "2132c145"
      },
      "source": [
        "DataFrameの各行に対して何らかの操作を実行したい場合、すべての行を反復処理するのが直感的に見えるかもしれません。\n",
        "Pandas には、iterrows という機能があります。\n",
        "しかし、大規模なデータセットでは非効率的になる可能性があります。このため、ベクトル化された操作や applyの使用が推奨されることがよくあります。"
      ]
    },
    {
      "cell_type": "markdown",
      "source": [],
      "metadata": {
        "id": "hZq62Pib_EOG"
      },
      "id": "hZq62Pib_EOG"
    },
    {
      "cell_type": "markdown",
      "source": [
        "以下の例は、iterrowsの使用例を示しています。しかし、これは、ベクター操作や apply関数よりも\n",
        "遅いため避けるべきです。\n"
      ],
      "metadata": {
        "id": "Uj0VydoA_EJX"
      },
      "id": "Uj0VydoA_EJX"
    },
    {
      "cell_type": "code",
      "source": [
        "\n",
        "%%timeit\n",
        "df[\"India_fraction\"] = [row[\"India\"] / 100 for index, row in df.iterrows()]"
      ],
      "metadata": {
        "colab": {
          "base_uri": "https://localhost:8080/"
        },
        "id": "Bb0NCfsZ-n1d",
        "outputId": "929749ae-c059-4282-da99-b3d0b773225c"
      },
      "id": "Bb0NCfsZ-n1d",
      "execution_count": 13,
      "outputs": [
        {
          "output_type": "stream",
          "name": "stdout",
          "text": [
            "217 µs ± 18.9 µs per loop (mean ± std. dev. of 7 runs, 1000 loops each)\n"
          ]
        }
      ]
    },
    {
      "cell_type": "markdown",
      "id": "5bf71d62",
      "metadata": {
        "id": "5bf71d62"
      },
      "source": [
        "デフォルトでは、pandasのDataFrameはメモリに読み込まれます。そのため、もしDataFrameがコンピュータのメモリよりも大きければ、問題が発生します。"
      ]
    },
    {
      "cell_type": "markdown",
      "id": "93e0a168",
      "metadata": {
        "id": "93e0a168"
      },
      "source": [
        "データ処理がどれくらいメモリを消費するかを見積もるのも難しいため、たとえDataFrameがコンピュータのメモリより小さくても問題が発生する可能性があります。pandasのメモリ管理は急速に改善されていますが、DataFrameがコンピュータのメモリより大きい場合にできる基本的なことがいくつかあります。まず、作業したいカラムだけを読み込むことができます。たとえば、指定することで…"
      ]
    },
    {
      "cell_type": "markdown",
      "source": [
        "たとえば、CSV ファイルを読み込みたいとき、read_csv 関数では、usecols 引数を使うと、読みたい列（カラム）を指定できます。\n"
      ],
      "metadata": {
        "id": "69clhIJx_qaZ"
      },
      "id": "69clhIJx_qaZ"
    },
    {
      "cell_type": "markdown",
      "id": "16c75d18",
      "metadata": {
        "id": "16c75d18"
      },
      "source": [
        "CSVファイルで読み込みたい列は、`read_csv`関数を使用して指定できます。次に、あなたは"
      ]
    },
    {
      "cell_type": "markdown",
      "source": [
        "さらに、chunksize 引数を使用すると、イテレータを使って、列の一部を少しずつ,\n",
        "chunk_size ずつ読み込むことができます。\n"
      ],
      "metadata": {
        "id": "rQKuo-QKAFlS"
      },
      "id": "rQKuo-QKAFlS"
    },
    {
      "cell_type": "markdown",
      "id": "acd06570",
      "metadata": {
        "id": "acd06570"
      },
      "source": [
        "最近、使われ始めたPyArrowでは、より効率的なメモリ管理が提供されています。\n"
      ]
    },
    {
      "cell_type": "markdown",
      "id": "476d7d92",
      "metadata": {
        "id": "476d7d92"
      },
      "source": [
        "より大きなデータ量の別の選択肢として、Daskライブラリを使用することができます。NumPyの場合と同様に、データがメモリに収まりきらないほど大きい場合、Daskはそれを分割することができます。また、データ処理が遅く、複数のコアやマシンで並列化したい場合にも優れた選択肢です。Daskには独自のデータ構造があり、データから直接、または既存のpandas DataFrameから作成することができます。"
      ]
    },
    {
      "cell_type": "markdown",
      "id": "225c0245",
      "metadata": {
        "id": "225c0245"
      },
      "source": [
        "パフォーマンス向上のためにDataFramesを使用するライブラリをpandas から Polars に切り替えることも検討できます。\n",
        "\n",
        "Polarsはpandasよりも成熟していないプロジェクトですが、より高速でメモリ効率が高いです。基礎となるコードはRustで書かれており、Apache Arrowを使用していますが、インターフェースはpandasに非常に似ています。"
      ]
    },
    {
      "cell_type": "markdown",
      "id": "6be65c95",
      "metadata": {
        "id": "6be65c95"
      },
      "source": [
        "この章の主なポイント"
      ]
    },
    {
      "cell_type": "markdown",
      "id": "3f016802",
      "metadata": {
        "id": "3f016802"
      },
      "source": [
        "この章では、さまざまなユースケースに対してデータ構造を効果的に使用する方法を見てきました。これらのデータ構造から得られる期待されるパフォーマンスを考えることに加えて、実際に書いているコードでそのパフォーマンスを測定し、異なるオプションを試してみて、自分が取り組んでいる問題に最適な方法を見つけることが重要です。"
      ]
    },
    {
      "cell_type": "markdown",
      "id": "d3dd0608",
      "metadata": {
        "id": "d3dd0608"
      },
      "source": [
        "多くの場合、Pythonの組み込みデータ構造だけで問題を解決することができます。リストは、インデックスによって項目を検索する必要がある場合に効率的な選択肢ですが、リスト内で項目を検索するのは比較的遅いです。辞書はキーを使用した頻繁な検索に適しており、セットは項目が存在するかどうかを確認する効率的な方法となることがあります。"
      ]
    },
    {
      "cell_type": "markdown",
      "id": "8658c4fe",
      "metadata": {
        "id": "8658c4fe"
      },
      "source": [
        "NumPy配列は多次元データに最適です。これらの配列は1種類のデータのみを含んでいるため、NumPyはベクトル化された演算のために高速なコンパイル済みCコードに直接アクセスできます。これにより非常に高速化されるので、もしあなたが行いたい計算に対してベクトル化されたメソッドが利用可能なら、ぜひそれを使用してください。"
      ]
    },
    {
      "cell_type": "markdown",
      "id": "4bfaa071",
      "metadata": {
        "id": "4bfaa071"
      },
      "source": [
        "また、NumPyの型を活用してメモリの使用量を削減したり、Daskを使用して大規模なメモリアレイや並列計算を行うことができます。機械学習プロジェクトでは、GPUに最適化されたデータ構造を使用することが有利である場合があり、疎行列も役立ちます。"
      ]
    },
    {
      "cell_type": "markdown",
      "id": "161a3a7c",
      "metadata": {
        "id": "161a3a7c"
      },
      "source": [
        "pandasのDataFrameは、表形式のデータや基本的なデータ分析に最適です。NumPy配列と同様のパフォーマンス上の考慮事項があり、利用可能な場合は常にベクトル化された操作を使用すべきです。DataFrameの行をイテレーションするのは非常に非効率です。標準的なpandasよりも効率的なパフォーマンスが必要な場合は、DaskライブラリやPolarsライブラリを検討してみてください。"
      ]
    },
    {
      "cell_type": "markdown",
      "id": "a9eb8716",
      "metadata": {
        "id": "a9eb8716"
      },
      "source": [
        "この章の概念についてさらに学びたい場合は、これらのリソースをお勧めします。"
      ]
    },
    {
      "cell_type": "markdown",
      "id": "1f0574f2",
      "metadata": {
        "id": "1f0574f2"
      },
      "source": [
        "アレックス・マルテッリ、アンナ・マルテッリ・レイヴンズクロフト、スティーブ・ホールデン、ポール・マグワイアによる「Python in a Nutshell」（オライリー、2023）は、Pythonのデータ構造に関する優れた概要を提供します。"
      ]
    },
    {
      "cell_type": "markdown",
      "id": "8e7299bd",
      "metadata": {
        "id": "8e7299bd"
      },
      "source": [
        "NumPy配列やpandasのDataFrameに関する詳細は、Wes McKinney著の『Python for Data Analysis』（オライリー、2021年）を参照してください。"
      ]
    },
    {
      "cell_type": "markdown",
      "id": "977b6be8",
      "metadata": {
        "id": "977b6be8"
      },
      "source": [
        "より詳細なPythonのパフォーマンス最適化については、『High Performance Python』ミハ・ゴレリックとイアン・オズヴァルド著（オライリー、2020年）をご参照ください。"
      ]
    },
    {
      "cell_type": "markdown",
      "id": "095b75a3",
      "metadata": {
        "id": "095b75a3"
      },
      "source": [
        "「Scaling Python with Dask」著者はホールデン・カロウとミカ・キミンズ（オライリー 2023年）は、Daskをデータサイエンスに活用する方法について詳しく解説しています。データサイエンスに関する記事もぜひご確認ください。"
      ]
    }
  ],
  "metadata": {
    "colab": {
      "provenance": [],
      "include_colab_link": true
    },
    "kernelspec": {
      "display_name": "Python 3",
      "name": "python3"
    },
    "language_info": {
      "name": "python"
    }
  },
  "nbformat": 4,
  "nbformat_minor": 5
}