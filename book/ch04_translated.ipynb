{
  "cells": [
    {
      "cell_type": "markdown",
      "metadata": {
        "id": "view-in-github",
        "colab_type": "text"
      },
      "source": [
        "<a href=\"https://colab.research.google.com/github/kooll/25t2/blob/main/book/ch04_translated.ipynb\" target=\"_parent\"><img src=\"https://colab.research.google.com/assets/colab-badge.svg\" alt=\"Open In Colab\"/></a>"
      ]
    },
    {
      "cell_type": "markdown",
      "id": "059fcc07",
      "metadata": {
        "id": "059fcc07"
      },
      "source": [
        "# 第4章 オブジェクト指向プログラミングと関数型プログラミング"
      ]
    },
    {
      "cell_type": "markdown",
      "id": "37a58abc",
      "metadata": {
        "id": "37a58abc"
      },
      "source": [
        "この章では、データサイエンスのキャリアでおそらく出会う2つのプログラミングスタイルである、オブジェクト指向プログラミング（OOP）と関数型プログラミング（FP）を紹介したいと思います。これらのスタイルについての認識を持つことは非常に役立ちます。実際にこれらのスタイルでコードを書くことがなくても、どちらかが広く使われているパッケージに出会うことは避けられません。これには、pandasやMatplotlibといった標準的なPythonのデータサイエンスパッケージが含まれます。出会うコードをより効果的に使えるように、OOPとFPについての理解を深めるお手伝いができればと思います。"
      ]
    },
    {
      "cell_type": "markdown",
      "id": "26822e87",
      "metadata": {
        "id": "26822e87"
      },
      "source": [
        "OOPとFPは、基礎となる計算機科学の原則に基づいたプログラミングパラダイムです。いくつかのプログラミング言語はそのうちの一方のみをサポートしていたり、一方を強く支持していたりします。たとえば、Javaはオブジェクト指向言語です。Pythonは両方をサポートしていますが、Pythonでは全体的なスタイルとしてOOPがより人気があり、FPが時折使用されることもあります。"
      ]
    },
    {
      "cell_type": "markdown",
      "id": "2a90b4ef",
      "metadata": {
        "id": "2a90b4ef"
      },
      "source": [
        "これらのスタイルは、コードを分解する方法のフレームワークも提供します。コードを書くときに、やりたいことを一つの長いスクリプトとしてすべて書くこともできます。それでも正常に動作しますが、メンテナンスやデバッグが難しいです。前述のように、コードをより小さなチャンクに分けることが重要であり、OOP（オブジェクト指向プログラミング）とFP（関数型プログラミング）はこれを行う良い方法を提案できます。"
      ]
    },
    {
      "cell_type": "markdown",
      "id": "b9ed8163",
      "metadata": {
        "id": "b9ed8163"
      },
      "source": [
        "私のコードでは、関数型プログラミング（FP）やオブジェクト指向プログラミング（OOP）の原則に厳密に従っているわけではありません。時にはOOPの原則に従って独自のクラスを定義することもあれば、FPの原則に則った関数を書くこともあります。ほとんどの現代的なPythonプログラムは、この両方のパラダイムを組み合わせた中間地点に位置しています。この章では、両方のスタイルの概要を説明し、どちらの基本も理解できるようにします。"
      ]
    },
    {
      "cell_type": "markdown",
      "id": "eb944400",
      "metadata": {
        "id": "eb944400"
      },
      "source": [
        "## オブジェクト指向プログラミング"
      ]
    },
    {
      "cell_type": "markdown",
      "id": "fdda1856",
      "metadata": {
        "id": "fdda1856"
      },
      "source": [
        "オブジェクト指向プログラミングはPythonで非常に一般的です。しかし、この文脈での「オブジェクト」とは何でしょうか？オブジェクトは名詞で表現できる「もの」と考えることができます。データサイエンスのコードでは、よく使われるオブジェクトとしては、pandasのDataFrame、NumPyの配列、Matplotlibのfigure、またはscikit-learnの推定器などがあります。"
      ]
    },
    {
      "cell_type": "markdown",
      "id": "daa9af94",
      "metadata": {
        "id": "daa9af94"
      },
      "source": [
        "オブジェクトはデータを保持することができ、それに関連するいくつかのアクションを持っており、他のオブジェクトと相互作用することができます。例えば、pandasのDataFrameオブジェクトは列名のリストを含んでいます。DataFrameオブジェクトに関連するアクションの一つは、列名の変更です。DataFrameは、pandasのSeriesオブジェクトと相互作用し、Seriesを新しい列として追加することができます。"
      ]
    },
    {
      "cell_type": "markdown",
      "id": "855886cb",
      "metadata": {
        "id": "855886cb"
      },
      "source": [
        "オブジェクトを、自分で設計できるデータ構造として考えることもできます。保持したいデータをそこに配置し、後で何か処理を行えるように設計します。"
      ]
    },
    {
      "cell_type": "markdown",
      "id": "673b24da",
      "metadata": {
        "id": "673b24da"
      },
      "source": [
        "再びpandasのDataFrameを例に挙げると、pandasの設計者はデータを表形式で保持できる構造を考案しました。それによって、データを行や列でアクセスし、その形式でデータを操作することができます。"
      ]
    },
    {
      "cell_type": "markdown",
      "id": "53833350",
      "metadata": {
        "id": "53833350"
      },
      "source": [
        "次のセクションでは、OOP（オブジェクト指向プログラミング）の主要な用語を紹介し、どのようにそれを既に使用しているかの例を示します。"
      ]
    },
    {
      "cell_type": "markdown",
      "id": "5370e20e",
      "metadata": {
        "id": "5370e20e"
      },
      "source": [
        "## クラス、メソッド、属性"
      ]
    },
    {
      "cell_type": "markdown",
      "id": "a717b7e6",
      "metadata": {
        "id": "a717b7e6"
      },
      "source": [
        "クラス、メソッド、属性は、オブジェクト指向プログラミング（OOP）で重要な用語です。それぞれの概要を以下に示します。"
      ]
    },
    {
      "cell_type": "markdown",
      "id": "f61a7726",
      "metadata": {
        "id": "f61a7726"
      },
      "source": [
        "クラスはオブジェクトを定義し、その種類のオブジェクトを作成するための青写真と考えることができます。個々のオブジェクトはそのクラスのインスタンスであり、各オブジェクトは個々の「もの」です。"
      ]
    },
    {
      "cell_type": "markdown",
      "id": "cf64756e",
      "metadata": {
        "id": "cf64756e"
      },
      "source": [
        "メソッドは、そのクラスのオブジェクトに対して実行できるものです。メソッドはそのオブジェクトの動作を定義し、その属性を変更することがあります。"
      ]
    },
    {
      "cell_type": "markdown",
      "id": "32252a00",
      "metadata": {
        "id": "32252a00"
      },
      "source": [
        "属性は、そのクラスの特性を表す変数であり、各オブジェクトはそれぞれの属性に異なるデータを保持することができます。"
      ]
    },
    {
      "cell_type": "markdown",
      "id": "b87aae84",
      "metadata": {
        "id": "b87aae84"
      },
      "source": [
        "それはすべて非常に抽象的なものなので、より具体的な例を挙げます。オブジェクト指向の用語を現実世界に適応させる方法の1つです。あなたが現在読んでいる本、「データサイエンティストのためのソフトウェアエンジニアリング」は、「本」というクラスのオブジェクトです。このオブジェクトの属性の1つはページ数であり、別の属性は著者の名前です。このオブジェクトに対して呼び出すことができるメソッドの1つは「読む」ことです。「本」クラスのインスタンスは多数ありますが、それらはすべて一定のページ数を持ち、すべて読むことができます。"
      ]
    },
    {
      "cell_type": "markdown",
      "id": "22484856",
      "metadata": {
        "id": "22484856"
      },
      "source": [
        "Pythonでは、クラス名は通常CamelCaseを使用して命名されます。たとえば、以下のようになります："
      ]
    },
    {
      "cell_type": "markdown",
      "id": "175ee6a3",
      "metadata": {
        "id": "175ee6a3"
      },
      "source": [
        "```python"
      ]
    },
    {
      "cell_type": "markdown",
      "id": "45678e25",
      "metadata": {
        "id": "45678e25"
      },
      "source": [
        "class MyClassName:"
      ]
    },
    {
      "cell_type": "markdown",
      "id": "de4de4ec",
      "metadata": {
        "id": "de4de4ec"
      },
      "source": [
        "pass"
      ]
    },
    {
      "cell_type": "markdown",
      "id": "9e582c8e",
      "metadata": {
        "id": "9e582c8e"
      },
      "source": [
        "```"
      ]
    },
    {
      "cell_type": "markdown",
      "id": "8a30b770",
      "metadata": {
        "id": "8a30b770"
      },
      "source": [
        "CamelCaseでは、単語の最初の文字を大文字にし、単語をつなげて書きます。"
      ]
    },
    {
      "cell_type": "markdown",
      "id": "dd152d92",
      "metadata": {
        "id": "dd152d92"
      },
      "source": [
        "クラスを命名する際は、`my_class`ではなく、より具体的で意味を持つ名前にするのが一般的です。この命名規則は、コードの可読性と理解しやすさを向上させ、クラスが何の役割を果たすのかを一目で理解できるようにするために役立ちます。たとえば、`Animal`や`InvoiceProcessor`のような名前は、そのクラスが何を表しているのかを明確に伝えます。"
      ]
    },
    {
      "cell_type": "markdown",
      "id": "9cbc91f1",
      "metadata": {
        "id": "9cbc91f1"
      },
      "source": [
        "クラスをより簡単に識別することができます。属性を調べるには、class_instance.attribute という形式を使用します。メソッドを呼び出すには、"
      ]
    },
    {
      "cell_type": "markdown",
      "id": "138fc3be",
      "metadata": {
        "id": "138fc3be"
      },
      "source": [
        "（これには括弧が含まれます）。"
      ]
    },
    {
      "cell_type": "markdown",
      "id": "7e8bd573",
      "metadata": {
        "id": "7e8bd573"
      },
      "source": [
        "メソッドは引数を取ることはできますが、属性はできません。"
      ]
    },
    {
      "cell_type": "markdown",
      "id": "d1a176ce",
      "metadata": {
        "id": "d1a176ce"
      },
      "source": [
        "例えば、pandas DataFrameを考えてみましょう。新しいDataFrameを作成するための構文には、次のようにおなじみかもしれません。"
      ]
    },
    {
      "cell_type": "code",
      "source": [
        "import pandas as pd\n",
        "\n",
        "my_dict = {\"column_1\": [1, 2], \"column_2\": [\"a\", \"b\"]}\n",
        "\n",
        "df = pd.DataFrame(data=my_dict)"
      ],
      "metadata": {
        "id": "_y9v_aRhkQou"
      },
      "id": "_y9v_aRhkQou",
      "execution_count": 1,
      "outputs": []
    },
    {
      "cell_type": "markdown",
      "id": "b2d437de",
      "metadata": {
        "id": "b2d437de"
      },
      "source": [
        "オブジェクト指向の視点からこれを見ると、コードdf = pd.DataFrame(data=my_dict)を実行したときに新しいオブジェクト作成しました。\n"
      ]
    },
    {
      "cell_type": "markdown",
      "source": [],
      "metadata": {
        "id": "0_TPhhhh3-zf"
      },
      "id": "0_TPhhhh3-zf"
    },
    {
      "cell_type": "markdown",
      "id": "3d70ab37",
      "metadata": {
        "id": "3d70ab37"
      },
      "source": [
        "型「DataFrame」のオブジェクトを作成し、DataFrameの属性を設定するために使用されるデータを渡しました。"
      ]
    },
    {
      "cell_type": "markdown",
      "id": "24d8aac5",
      "metadata": {
        "id": "24d8aac5"
      },
      "source": [
        "そのDataFrameのいくつかの属性を次のように確認することができます。"
      ]
    },
    {
      "cell_type": "code",
      "source": [
        "df.columns"
      ],
      "metadata": {
        "colab": {
          "base_uri": "https://localhost:8080/"
        },
        "id": "uiU-SveZ4DKZ",
        "outputId": "323f6b61-48ea-41ff-9e5b-d241e83b9811"
      },
      "id": "uiU-SveZ4DKZ",
      "execution_count": 2,
      "outputs": [
        {
          "output_type": "execute_result",
          "data": {
            "text/plain": [
              "Index(['column_1', 'column_2'], dtype='object')"
            ]
          },
          "metadata": {},
          "execution_count": 2
        }
      ]
    },
    {
      "cell_type": "code",
      "source": [
        "df.shape"
      ],
      "metadata": {
        "colab": {
          "base_uri": "https://localhost:8080/"
        },
        "id": "ddfNwyti4J9C",
        "outputId": "ae68801d-cc46-4cb2-8fce-853d6dc6a8ba"
      },
      "id": "ddfNwyti4J9C",
      "execution_count": 4,
      "outputs": [
        {
          "output_type": "execute_result",
          "data": {
            "text/plain": [
              "(2, 2)"
            ]
          },
          "metadata": {},
          "execution_count": 4
        }
      ]
    },
    {
      "cell_type": "markdown",
      "id": "728671e7",
      "metadata": {
        "id": "728671e7"
      },
      "source": [
        ".columns と .shape は、dfの属性(インスタンス変数）です。"
      ]
    },
    {
      "cell_type": "markdown",
      "id": "8cf98b2d",
      "metadata": {
        "id": "8cf98b2d"
      },
      "source": [
        "そのDataFrameオブジェクトに対して、多くのメソッドを呼び出すことができます。例えば, .to_csv() は、csv ファイルに出力するメソッドです。\n"
      ]
    },
    {
      "cell_type": "code",
      "source": [
        "df.to_csv(\"filepath\",index=False)\n"
      ],
      "metadata": {
        "id": "kXthrGDL4nkW"
      },
      "id": "kXthrGDL4nkW",
      "execution_count": null,
      "outputs": []
    },
    {
      "cell_type": "markdown",
      "id": "acf3a81f",
      "metadata": {
        "id": "acf3a81f"
      },
      "source": [
        "(訳注） sklearn  の例は　　省略"
      ]
    },
    {
      "cell_type": "markdown",
      "id": "9ef8a3fd",
      "metadata": {
        "id": "9ef8a3fd"
      },
      "source": [
        "この例では、新しい分類器を初期化しています。"
      ]
    },
    {
      "cell_type": "markdown",
      "id": "60a7bf77",
      "metadata": {
        "id": "60a7bf77"
      },
      "source": [
        "オブジェクトを作成し、そのメソッドを呼び出します。"
      ]
    },
    {
      "cell_type": "markdown",
      "id": "0782f355",
      "metadata": {
        "id": "0782f355"
      },
      "source": [
        "Matplotの例を紹介します。ここでは、2つのオブジェクトが作成されるコードがあります。"
      ]
    },
    {
      "cell_type": "code",
      "source": [
        "import matplotlib.pyplot as plt\n",
        "import numpy as np\n",
        "\n",
        "n = np.linspace(1, 10, 1000)\n",
        "line_names = [\n",
        "    \"Constant\",\n",
        "    \"Linear\",\n",
        "    \"Quadratic\",\n",
        "    \"Exponential\",\n",
        "    \"Logarithmic\",\n",
        "    \"n log n\",\n",
        "]\n",
        "\n",
        "big_o = [np.ones(n.shape), n, n**2, 2**n, np.log(n), n * np.log(n)]\n",
        "\n",
        "fig, ax = plt.subplots()\n",
        "fig.set_facecolor(\"white\")\n",
        "\n",
        "ax.set_ylim(0, 50)\n",
        "for i in range(len(big_o)):\n",
        "    ax.plot(n, big_o[i], label=line_names[i])\n",
        "\n",
        "ax.set_ylabel(\"Relative Runtime\")\n",
        "ax.set_xlabel(\"Input Size\")\n",
        "ax.legend()\n",
        "\n",
        "fig.savefig(\"save_path.png\", bbox_inches=\"tight\")\n"
      ],
      "metadata": {
        "colab": {
          "base_uri": "https://localhost:8080/",
          "height": 455
        },
        "id": "nkQWiKE97g_x",
        "outputId": "c160021c-5022-4b9e-b820-70057690861f"
      },
      "id": "nkQWiKE97g_x",
      "execution_count": 5,
      "outputs": [
        {
          "output_type": "display_data",
          "data": {
            "text/plain": [
              "<Figure size 640x480 with 1 Axes>"
            ],
            "image/png": "[encoded data removed]"
          },
          "metadata": {}
        }
      ]
    },
    {
      "cell_type": "markdown",
      "id": "35b0b361",
      "metadata": {
        "id": "35b0b361"
      },
      "source": [
        "1. MatplotlibのFigureオブジェクトfigと、Axオブジェクト axの初期化。\n",
        "1. オブジェクトfigに対してset_facecolor()メソッドを、引数 white で呼ぶ。\n",
        "1. オブジェクトax に対して、いくつかのメソッドが呼び出されます。\n",
        "1. savefig メソッドを使って、fig の画像を保存。"
      ]
    },
    {
      "cell_type": "markdown",
      "id": "7789f175",
      "metadata": {
        "id": "7789f175"
      },
      "source": [
        "初期化"
      ]
    },
    {
      "cell_type": "markdown",
      "id": "da35dd42",
      "metadata": {
        "id": "da35dd42"
      },
      "source": [
        "（注釈、Note)Matplotlibは時々混乱を感じさせることがあります。なぜなら、2種類のインターフェースが存在するからです。一つはオブジェクト指向のインターフェースで、もう一つはMATLABでのプロットを模倣するように設計されています。Matplotlibは2003年に初めてリリースされ、その開発者たちはMATLABを使い慣れた人々に親しみを感じてもらいたいと考えていました。現在では、前述のコード例で示したように、オブジェクト指向のインターフェースを使用することがはるかに一般的です。しかし、人々のコードが両方のインターフェースに依存しているため、どちらも依然として必要とされています。このトピックに関する詳細は、記事に記載されています。"
      ]
    },
    {
      "cell_type": "markdown",
      "id": "c4edd159",
      "metadata": {
        "id": "c4edd159"
      },
      "source": [
        "たとえOOPに関する用語が馴染みのないものであっても、多くの一般的なデータサイエンスパッケージで頻繁に使用しているでしょう。次のステップは、自分のクラスを定義し、自分のコードでオブジェクト指向のアプローチを使用できるようにすることです。"
      ]
    },
    {
      "cell_type": "markdown",
      "id": "ba23328d",
      "metadata": {
        "id": "ba23328d"
      },
      "source": [
        "## 独自のクラスの定義"
      ]
    },
    {
      "cell_type": "markdown",
      "id": "8665d7e7",
      "metadata": {
        "id": "8665d7e7"
      },
      "source": [
        "独自にオブジェクト指向スタイルでコードを書きたい場合は、自分自身のクラスを定義する必要があります。これを行うための簡単な例をいくつか紹介します。最初の例は、指定された回数だけテキストを繰り返します。2つ目の例は、この本の他の例でも使用した国連の持続可能な開発目標（SDGs）データを使用します。このデータの詳細については、で見つけることができます。"
      ]
    },
    {
      "cell_type": "markdown",
      "id": "1eb59022",
      "metadata": {
        "id": "1eb59022"
      },
      "source": [
        "Pythonで新しいクラスを定義するには、次のような文を使用します。"
      ]
    },
    {
      "cell_type": "markdown",
      "source": [
        "```python\n",
        "class RepeatText():\n",
        "```"
      ],
      "metadata": {
        "id": "gSu0fRgb9mkr"
      },
      "id": "gSu0fRgb9mkr"
    },
    {
      "cell_type": "markdown",
      "id": "8e7c16d8",
      "metadata": {
        "id": "8e7c16d8"
      },
      "source": [
        "新しいオブジェクトのインスタンスが初期化されるたびにいくつかの属性を保存することは非常に一般的です。これを行うために、Pythonは特別なメソッドである`__init__`を使用します。"
      ]
    },
    {
      "cell_type": "code",
      "source": [
        "class RepeatText:\n",
        "\n",
        "    def __init__(self, n_repeats):\n",
        "        self.n_repeats = n_repeats\n",
        "\n",
        "    def multiply_text(self, some_text):\n",
        "        print((some_text + \" \") * self.n_repeats)"
      ],
      "metadata": {
        "id": "lNCT4dxH91ux"
      },
      "id": "lNCT4dxH91ux",
      "execution_count": 6,
      "outputs": []
    },
    {
      "cell_type": "markdown",
      "id": "0bf76cb6",
      "metadata": {
        "id": "0bf76cb6"
      },
      "source": [
        "メソッドの最初の引数 self は新しいインスタンスを指します。"
      ]
    },
    {
      "cell_type": "markdown",
      "id": "64a7a042",
      "metadata": {
        "id": "64a7a042"
      },
      "source": [
        "通常、これは「作成されるオブジェクト」と名付けられます。"
      ]
    },
    {
      "cell_type": "markdown",
      "id": "f43d2373",
      "metadata": {
        "id": "f43d2373"
      },
      "source": [
        "この例では、initメソッドはもう一つの引数としてn_repeatsを取ります。self.n_repeats = n_repeatsという行は、新しいRepeatTextオブジェクトの各インスタンスがn_repeats属性を持ち、新しいオブジェクトが初期化されるたびにこれを提供しなければならないことを意味します。"
      ]
    },
    {
      "cell_type": "markdown",
      "id": "6f86cc5b",
      "metadata": {
        "id": "6f86cc5b"
      },
      "source": [
        "他のメソッドですが、それを通常、好きな名前を付けることができます。"
      ]
    },
    {
      "cell_type": "markdown",
      "id": "3c63badd",
      "metadata": {
        "id": "3c63badd"
      },
      "source": [
        "（注釈、Note)\n",
        "Pythonには、特別なメソッドがあり、それらは通常の引数を取らない場合があります。"
      ]
    },
    {
      "cell_type": "markdown",
      "id": "25293941",
      "metadata": {
        "id": "25293941"
      },
      "source": [
        "\n",
        "クラスメソッド(スタティックメソッド)はクラス全体に適用され、クラスのインスタンスだけでなく、スタティックメソッドはクラスのインスタンスを作成せずに呼び出すことができます。これについて詳しくは、Bill Lubanovicによる「Introducing Python」（O'Reilly, 2019年）で学ぶことができます。"
      ]
    },
    {
      "cell_type": "markdown",
      "id": "75eb4b0e",
      "metadata": {
        "id": "75eb4b0e"
      },
      "source": [
        "新しく作成したメソッドは、次のように呼び出すことができます:"
      ]
    },
    {
      "cell_type": "code",
      "source": [
        "repeat_twice = RepeatText(2)"
      ],
      "metadata": {
        "id": "j_gUwftr_1S0"
      },
      "id": "j_gUwftr_1S0",
      "execution_count": 7,
      "outputs": []
    },
    {
      "cell_type": "code",
      "source": [
        "repeat_twice.multiply_text(\"hello\")"
      ],
      "metadata": {
        "colab": {
          "base_uri": "https://localhost:8080/"
        },
        "id": "Q5v1gODZ_1NA",
        "outputId": "e5a2b217-a744-4bd4-d285-62b815b21250"
      },
      "id": "Q5v1gODZ_1NA",
      "execution_count": 8,
      "outputs": [
        {
          "output_type": "stream",
          "name": "stdout",
          "text": [
            "hello hello \n"
          ]
        }
      ]
    },
    {
      "cell_type": "markdown",
      "id": "43c4511c",
      "metadata": {
        "id": "43c4511c"
      },
      "source": [
        "別の例を見てみましょう。今回は、で紹介された国連の持続可能な開発目標（SDGs）のデータを使用します。"
      ]
    },
    {
      "cell_type": "markdown",
      "id": "4165025e",
      "metadata": {
        "id": "4165025e"
      },
      "source": [
        "「ジェンダー平等を達成し、すべての女性と女児をエンパワーメントする。」この特定の目標は、この目標に関連するターゲット、ターゲット5.5に関するデータを保持します。「政治的、経済的および公的生活のすべてのレベルでの意思決定において、女性の完全で効果的な参加とリーダーシップのための平等な機会を確保する。」"
      ]
    },
    {
      "cell_type": "markdown",
      "id": "bd84561b",
      "metadata": {
        "id": "bd84561b"
      },
      "source": [
        "国ごとにデータを保存し、簡単に操作できるようにするためのオブジェクトを作成したいということですね。以下は、そのための新しいクラスを作成し、データを保持するコードの例です："
      ]
    },
    {
      "cell_type": "code",
      "source": [
        "class Goal5Data:\n",
        "\n",
        "    def __init__(self, name, population, women_in_parliament):\n",
        "        self.name = name\n",
        "        self.population = population\n",
        "        self.women_in_parliament = women_in_parliament\n",
        "\n",
        "    def print_summary(self):\n",
        "        null_women_in_parliament = len(self.women_in_parliament) - np.count_nonzero(\n",
        "            self.women_in_parliament\n",
        "        )\n",
        "        print(\n",
        "            f\"There are {len(self.women_in_parliament)} data points for Indicator 5.1.1, 'Proportion of seats held by women in national parliaments'.\"\n",
        "        )\n",
        "        print(f\"{null_women_in_parliament} are nulls.\")"
      ],
      "metadata": {
        "id": "4PLnt0v_Aa0D"
      },
      "id": "4PLnt0v_Aa0D",
      "execution_count": 9,
      "outputs": []
    },
    {
      "cell_type": "code",
      "source": [
        "usa = Goal5Data(\n",
        "    name=\"USA\",\n",
        "    population=336262544,\n",
        "    women_in_parliament=[\n",
        "        13.33,\n",
        "        14.02,\n",
        "        14.02,\n",
        "        14.25,\n",
        "        14.25,\n",
        "        14.94,\n",
        "        15.17,\n",
        "        16.32,\n",
        "        16.78,\n",
        "        17.01,\n",
        "        16.78,\n",
        "        16.78,\n",
        "        16.82,\n",
        "        17.78,\n",
        "        18.29,\n",
        "        19.35,\n",
        "        19.35,\n",
        "        19.08,\n",
        "        19.49,\n",
        "        23.56,\n",
        "        23.43,\n",
        "        27.25,\n",
        "        27.71,\n",
        "        29.43,\n",
        "    ],\n",
        ")"
      ],
      "metadata": {
        "id": "AtR4KDB7AsWs"
      },
      "id": "AtR4KDB7AsWs",
      "execution_count": 10,
      "outputs": []
    },
    {
      "cell_type": "code",
      "source": [
        "usa.population"
      ],
      "metadata": {
        "colab": {
          "base_uri": "https://localhost:8080/"
        },
        "id": "xikpx8IIAuMq",
        "outputId": "233d30c7-1691-4e64-f85b-93295ba5dfb4"
      },
      "id": "xikpx8IIAuMq",
      "execution_count": 11,
      "outputs": [
        {
          "output_type": "execute_result",
          "data": {
            "text/plain": [
              "336262544"
            ]
          },
          "metadata": {},
          "execution_count": 11
        }
      ]
    },
    {
      "cell_type": "code",
      "source": [
        "usa.print_summary()"
      ],
      "metadata": {
        "colab": {
          "base_uri": "https://localhost:8080/"
        },
        "id": "cRtXCaEOAyxF",
        "outputId": "93c04e13-b98c-4149-ab81-fe31c3ab2a98"
      },
      "id": "cRtXCaEOAyxF",
      "execution_count": 12,
      "outputs": [
        {
          "output_type": "stream",
          "name": "stdout",
          "text": [
            "There are 24 data points for Indicator 5.1.1, 'Proportion of seats held by women in national parliaments'.\n",
            "0 are nulls.\n"
          ]
        }
      ]
    },
    {
      "cell_type": "markdown",
      "id": "79ee909c",
      "metadata": {
        "id": "79ee909c"
      },
      "source": [
        "このコードでは、`CountryData` というクラスを定義し、コンストラクタで国名、人口、面積、GDP を受け取ってオブジェクトを初期化します。また、`display_info` メソッドを使って、データを簡単に表示できるようにしています。このクラスを使用することで、各国ごとにデータを保存し、操作することができます。"
      ]
    },
    {
      "cell_type": "markdown",
      "id": "7902f4fc",
      "metadata": {
        "id": "7902f4fc"
      },
      "source": [
        "この属性は、各年におけるその国の統治機関内で女性が占める議席の割合のリストを保持しています。"
      ]
    },
    {
      "cell_type": "markdown",
      "id": "2faaa6f1",
      "metadata": {
        "id": "2faaa6f1"
      },
      "source": [
        "こちらは、このデータの概要を表示するメソッドです。"
      ]
    },
    {
      "cell_type": "markdown",
      "id": "e03ebd47",
      "metadata": {
        "id": "e03ebd47"
      },
      "source": [
        "前の例と同様に、このクラスの新しいインスタンスを次のように作成できます："
      ]
    },
    {
      "cell_type": "markdown",
      "id": "4f99e9f7",
      "metadata": {
        "id": "4f99e9f7"
      },
      "source": [
        "メソッドを呼び出すと、次の結果が得られます。"
      ]
    },
    {
      "cell_type": "markdown",
      "id": "12be65a4",
      "metadata": {
        "id": "12be65a4"
      },
      "source": [
        "これをメソッドとして書くことで、コードがモジュール化され、整理され、再利用が容易になります。また、何をしているのかが非常に明確であり、これが誰にとっても役に立つでしょう。"
      ]
    },
    {
      "cell_type": "markdown",
      "id": "ca38f5c4",
      "metadata": {
        "id": "ca38f5c4"
      },
      "source": [
        "## オブジェクト指向プログラミングの原則"
      ]
    },
    {
      "cell_type": "markdown",
      "id": "c998594c",
      "metadata": {
        "id": "c998594c"
      },
      "source": [
        "OOP（オブジェクト指向プログラミング）においては、カプセル化、抽象化、継承、ポリモーフィズムといった用語によく出会います。このセクションでは、これらすべてを定義し、継承がどのように役立つかの例をいくつか示します。"
      ]
    },
    {
      "cell_type": "markdown",
      "id": "26d0aa43",
      "metadata": {
        "id": "26d0aa43"
      },
      "source": [
        "### 継承(inheritance)"
      ]
    },
    {
      "cell_type": "markdown",
      "id": "e9563eab",
      "metadata": {
        "id": "e9563eab"
      },
      "source": [
        "継承とは、あるクラスを基にして別のクラスを作成し、それを拡張することを意味します。これにより、重複を減らすことができます。なぜなら、既に書かれたクラスと密接に関連した新しいクラスが必要な場合、わずかな変更を加えるためにそのクラスを重複させる必要がないからです。"
      ]
    },
    {
      "cell_type": "markdown",
      "id": "7bf611b8",
      "metadata": {
        "id": "7bf611b8"
      },
      "source": [
        "独自のクラスを定義する際に継承を使用する必要がないかもしれませんが、外部ライブラリのクラスでは使用する必要があるかもしれません。本書の後の章では、データ検証のための継承の例をいくつか見ることができます。このセクションでは、継承を見かけたときにそれを識別し理解する手助けをしたいと思います。"
      ]
    },
    {
      "cell_type": "markdown",
      "id": "10c0c7eb",
      "metadata": {
        "id": "10c0c7eb"
      },
      "source": [
        "継承を使用しているクラスは、次のような構文を持つため、識別することができます。\n",
        "```python\n",
        "class NewClass(OrignalClass):\n",
        "  ...\n",
        "```"
      ]
    },
    {
      "cell_type": "markdown",
      "id": "4e2e8ac8",
      "metadata": {
        "id": "4e2e8ac8"
      },
      "source": [
        "NewClassクラスは、OriginalClassのすべての属性とメソッドを使用できますが、変更したいものは任意にオーバーライドできます。オリジナルのクラスは「親」と呼ばれることが多く、それから継承する新しいクラスは「子」クラスと呼ばれることが一般的です。"
      ]
    },
    {
      "cell_type": "code",
      "source": [
        "from scipy.stats import linregress\n",
        "\n",
        "\n",
        "class Goal5TimeSeries(Goal5Data):\n",
        "    def __init__(self, name, population, women_in_parliament, timestamps):\n",
        "        super().__init__(name, population, women_in_parliament)\n",
        "        self.timestamps = timestamps\n",
        "\n",
        "    def fit_trendline(self):\n",
        "        result = linregress(self.timestamps, self.women_in_parliament)\n",
        "        slope = round(result.slope, 3)\n",
        "        r_squared = round(result.rvalue**2, 3)\n",
        "        return slope, r_squared"
      ],
      "metadata": {
        "id": "iUXG6sGGB2IC"
      },
      "id": "iUXG6sGGB2IC",
      "execution_count": 14,
      "outputs": []
    },
    {
      "cell_type": "markdown",
      "id": "f72f33bc",
      "metadata": {
        "id": "f72f33bc"
      },
      "source": [
        "こちらは、あるクラスから継承した新しいクラスの例です。"
      ]
    },
    {
      "cell_type": "code",
      "source": [
        "india = Goal5TimeSeries(\n",
        "    name=\"India\",\n",
        "    population=1417242151,\n",
        "       women_in_parliament=[\n",
        "        9.02,\n",
        "        9.01,\n",
        "        8.84,\n",
        "        8.84,\n",
        "        8.84,\n",
        "        8.29,\n",
        "        8.26,\n",
        "        8.26,\n",
        "        9.06,\n",
        "        9.06,\n",
        "        10.83,\n",
        "        10.83,\n",
        "        11.01,\n",
        "        11.01,\n",
        "        11.38,\n",
        "        11.97,\n",
        "        11.97,\n",
        "        11.81,\n",
        "        11.81,\n",
        "        12.6,\n",
        "        14.36,\n",
        "        14.44,\n",
        "        14.94,\n",
        "        15.13,\n",
        "    ],\n",
        "     timestamps=[\n",
        "        2000,\n",
        "        2001,\n",
        "        2002,\n",
        "        2003,\n",
        "        2004,\n",
        "        2005,\n",
        "        2006,\n",
        "        2007,\n",
        "        2008,\n",
        "        2009,\n",
        "        2010,\n",
        "        2011,\n",
        "        2012,\n",
        "        2013,\n",
        "        2014,\n",
        "        2015,\n",
        "        2016,\n",
        "        2017,\n",
        "        2018,\n",
        "        2019,\n",
        "        2020,\n",
        "        2021,\n",
        "        2022,\n",
        "        2023,\n",
        "    ],\n",
        ")"
      ],
      "metadata": {
        "id": "lHMaRQfsC06P"
      },
      "id": "lHMaRQfsC06P",
      "execution_count": 15,
      "outputs": []
    },
    {
      "cell_type": "markdown",
      "id": "80139d24",
      "metadata": {
        "id": "80139d24"
      },
      "source": [
        "前のセクションのクラスを、それをクラスに変えることで"
      ]
    },
    {
      "cell_type": "markdown",
      "id": "340cbbb1",
      "metadata": {
        "id": "340cbbb1"
      },
      "source": [
        "時系列データと作業できます："
      ]
    },
    {
      "cell_type": "markdown",
      "id": "b2a31c14",
      "metadata": {
        "id": "b2a31c14"
      },
      "source": [
        "親クラスのinitメソッドが呼び出され、これによってname、population、women_in_parliament属性が初期化されることを意味します。"
      ]
    },
    {
      "cell_type": "markdown",
      "id": "b385952e",
      "metadata": {
        "id": "b385952e"
      },
      "source": [
        "このようにして新しいオブジェクトを作成できます。"
      ]
    },
    {
      "cell_type": "markdown",
      "id": "a7933142",
      "metadata": {
        "id": "a7933142"
      },
      "source": [
        "回帰直線の当てはまりの良さを判断するための決定係数（R二乗）を計算してください。"
      ]
    },
    {
      "cell_type": "markdown",
      "id": "f822c755",
      "metadata": {
        "id": "f822c755"
      },
      "source": [
        "新しいメソッドを呼び出すと、トレンドラインの傾きと、データに対するラインの適合の正規化された二乗平均平方根誤差が返されます。"
      ]
    },
    {
      "cell_type": "markdown",
      "id": "3afe0e98",
      "metadata": {
        "id": "3afe0e98"
      },
      "source": [
        "独自のクラスで継承を使用すると、作成したクラスの機能を拡張できます。これによりコードの重複が減り、コードをモジュール化しやすくなります。また、外部ライブラリのクラスを継承することも非常に有用です。これにより、機能を重複させることなく追加の機能を付け加えることができます。"
      ]
    },
    {
      "cell_type": "code",
      "source": [
        "india.print_summary()"
      ],
      "metadata": {
        "colab": {
          "base_uri": "https://localhost:8080/"
        },
        "id": "jFRW-t2fD8II",
        "outputId": "67212670-9abd-4afd-9e0a-744dde85317f"
      },
      "id": "jFRW-t2fD8II",
      "execution_count": 16,
      "outputs": [
        {
          "output_type": "stream",
          "name": "stdout",
          "text": [
            "There are 24 data points for Indicator 5.1.1, 'Proportion of seats held by women in national parliaments'.\n",
            "0 are nulls.\n"
          ]
        }
      ]
    },
    {
      "cell_type": "code",
      "source": [
        "india.fit_trendline()"
      ],
      "metadata": {
        "colab": {
          "base_uri": "https://localhost:8080/"
        },
        "id": "7ziBvKaLD8A_",
        "outputId": "0f2c1e9e-f202-4a59-ad11-44178e7be3e6"
      },
      "id": "7ziBvKaLD8A_",
      "execution_count": 18,
      "outputs": [
        {
          "output_type": "execute_result",
          "data": {
            "text/plain": [
              "(np.float64(0.292), np.float64(0.869))"
            ]
          },
          "metadata": {},
          "execution_count": 18
        }
      ]
    },
    {
      "cell_type": "markdown",
      "id": "dbadbee5",
      "metadata": {
        "id": "dbadbee5"
      },
      "source": [
        "### カプセル化 Encapsulation"
      ]
    },
    {
      "cell_type": "markdown",
      "id": "42bffcb6",
      "metadata": {
        "id": "42bffcb6"
      },
      "source": [
        "カプセル化とは、クラスがその詳細を外部から隠すことを意味します。クラスのインターフェースだけを見ることができ、その内部で何が起こっているのかの詳細は見えません。インターフェースは、あなたが設計したメソッドと属性で構成されています。Pythonではそれほど一般的ではありませんが、他のプログラミング言語では、非公開またはプライベートなメソッドや属性を持ったクラスが設計されることが多く、それらは外部から変更することができません。"
      ]
    },
    {
      "cell_type": "markdown",
      "id": "0c4e20b1",
      "metadata": {
        "id": "0c4e20b1"
      },
      "source": [
        "しかし、Pythonでもカプセル化の概念は適用され、多くのライブラリやアプリケーションがそれを活用しています。pandasはその良い例です。pandasは、データとのやり取りを可能にするメソッドや属性を提供しながら、基盤となる実装の詳細を隠すことでカプセル化を利用しています。DataFrameオブジェクトはデータをカプセル化し、それをアクセス、フィルタリング、変換するためのさまざまなメソッドを提供します。以前に述べたように、pandasのDataFrameは内部でNumPyを使用していますが、それを知っている必要はありません。pandasのDataFrameインターフェースを使って作業を達成できますが、より深く掘り下げたい場合は、NumPyのメソッドも使用できます。"
      ]
    },
    {
      "cell_type": "markdown",
      "id": "332d07c5",
      "metadata": {
        "id": "332d07c5"
      },
      "source": [
        "インターフェースは非常に重要です。なぜなら、他のコードやクラスがある属性やメソッドの存在に依存することが多いためです。そのため、そのインターフェースを変更すると、他のコードが壊れる可能性があります。クラスの内部の動作を変更すること、例えば、あるメソッド内の計算をより効率的にするために変更することは問題ありません。しかし、インターフェースは最初から使いやすく設計し、変更しないように心がけるべきです。インターフェースについての詳細は、後ほど詳しく説明します。"
      ]
    },
    {
      "cell_type": "markdown",
      "id": "47bc74e1",
      "metadata": {
        "id": "47bc74e1"
      },
      "source": [
        "### 抽象 Abstraction"
      ]
    },
    {
      "cell_type": "markdown",
      "id": "e9e7c3ae",
      "metadata": {
        "id": "e9e7c3ae"
      },
      "source": [
        "抽象化はカプセル化と密接に関連しています。これは、クラスを適切な詳細レベルで扱うべきであることを意味します。したがって、ある計算の詳細をメソッド内部に留めるか、インターフェースを通じてアクセス可能にするかを選択するかもしれません。このような概念は、他のプログラミング言語においてより一般的です。"
      ]
    },
    {
      "cell_type": "markdown",
      "id": "416e0220",
      "metadata": {
        "id": "416e0220"
      },
      "source": [
        "### ポリモーフィズム 多態性"
      ]
    },
    {
      "cell_type": "markdown",
      "id": "adde3147",
      "metadata": {
        "id": "adde3147"
      },
      "source": [
        "ポリモーフィズムとは、異なるクラスで同じインターフェースを持つことができ、それによってコードが簡素化され、繰り返しが減ることを意味します。つまり、2つのクラスは同じ名前のメソッドを持ち、同様の結果を生み出すことができますが、その内部動作は異なります。これら2つのクラスは親クラスと子クラスである場合もあれば、無関係である場合もあります。"
      ]
    },
    {
      "cell_type": "markdown",
      "id": "513cf1bc",
      "metadata": {
        "id": "513cf1bc"
      },
      "source": [
        "scikit-learnには、多態性の優れた例があります。\n",
        "\n",
        "（訳注）以下は省略"
      ]
    },
    {
      "cell_type": "markdown",
      "id": "ab90f611",
      "metadata": {
        "id": "ab90f611"
      },
      "source": [
        "これがオブジェクト指向プログラミングの主な特徴の簡単な概要でした。このトピックは非常に広範であり、もっと学びたい場合にはBill Lubanovicによる「Introducing Python」（O'Reilly, 2019）をお勧めします。"
      ]
    },
    {
      "cell_type": "markdown",
      "id": "810d1b96",
      "metadata": {
        "id": "810d1b96"
      },
      "source": [
        "## 関数型プログラミング"
      ]
    },
    {
      "cell_type": "markdown",
      "id": "681d5d43",
      "metadata": {
        "id": "681d5d43"
      },
      "source": [
        "Pythonは関数型プログラミング（FP）パラダイムをサポートしていますが、純粋なFPスタイルでPythonを書くことは一般的ではありません。多くのソフトウェアエンジニアは、Scalaのような他の言語の方がFPに適していると考えています。しかし、Pythonで利用可能な便利なFPの機能は非常に知っておく価値がありますので、以下でそれについて説明します。"
      ]
    },
    {
      "cell_type": "markdown",
      "id": "88ca0422",
      "metadata": {
        "id": "88ca0422"
      },
      "source": [
        "関数型プログラミングは、その名の通り、変更しない関数についてのものです。これらの関数は、関数の外に存在するデータやグローバル変数を変更してはいけません。正しい用語を使うと、これらの関数は不変であり、「純粋」であり、副作用がありません。関数が返すものに反映されていないことには影響を与えません。例えば、あるアイテムをリストに追加する関数があるとしますが、その関数は"
      ]
    },
    {
      "cell_type": "markdown",
      "id": "01ca87ab",
      "metadata": {
        "id": "01ca87ab"
      },
      "source": [
        "リストを変更するのではなく、新しいリストのコピーを返すべきです。厳密な関数型プログラミング（FP）では、プログラムは関数を評価することだけで構成されます。これらの関数はネストされることがあり（1つの関数が別の関数内で定義される場合）、または他の関数への引数として渡されることもあります。"
      ]
    },
    {
      "cell_type": "markdown",
      "id": "8637170c",
      "metadata": {
        "id": "8637170c"
      },
      "source": [
        "FP の利点のいくつかには、以下が含まれます。"
      ]
    },
    {
      "cell_type": "markdown",
      "id": "6ce4eb9b",
      "metadata": {
        "id": "6ce4eb9b"
      },
      "source": [
        "関数は、特定の入力に対して常に同じ出力を返すため、テストが容易です。関数の外部は何も変更されません。"
      ]
    },
    {
      "cell_type": "markdown",
      "id": "ca014365",
      "metadata": {
        "id": "ca014365"
      },
      "source": [
        "データが変更されないため、並列化が容易です。モジュール式のコードを書くことを促進します。"
      ]
    },
    {
      "cell_type": "markdown",
      "id": "0556c5e7",
      "metadata": {
        "id": "0556c5e7"
      },
      "source": [
        "それはもっと簡潔で効率的にできます。"
      ]
    },
    {
      "cell_type": "markdown",
      "id": "f502199d",
      "metadata": {
        "id": "f502199d"
      },
      "source": [
        "関数型スタイルでの一般的なPythonの概念には、ラムダ関数が含まれます。"
      ]
    },
    {
      "cell_type": "markdown",
      "id": "e69e7851",
      "metadata": {
        "id": "e69e7851"
      },
      "source": [
        "組み込み関数に加えて、ジェネレーターは"
      ]
    },
    {
      "cell_type": "markdown",
      "id": "abb9ba65",
      "metadata": {
        "id": "abb9ba65"
      },
      "source": [
        "このスタイルで書かれることが多く、リスト内包表記もFPの一形態と考えることができます。他にもFPで知っておく価値のあるライブラリには 、 などがあります。次のセクションでラムダ関数とmap()を詳しく見ていきます。"
      ]
    },
    {
      "cell_type": "markdown",
      "id": "592868f9",
      "metadata": {
        "id": "592868f9"
      },
      "source": [
        "ラムダ関数とmap()"
      ]
    },
    {
      "cell_type": "markdown",
      "id": "13631af1",
      "metadata": {
        "id": "13631af1"
      },
      "source": [
        "ラムダ関数は、小さな無名のPython関数で、迅速な一度限りのタスクに使用できます。「無名」と呼ばれるのは、通常のPython関数のように名前を付けて定義されていないためです。"
      ]
    },
    {
      "cell_type": "markdown",
      "id": "7ce3b092",
      "metadata": {
        "id": "7ce3b092"
      },
      "source": [
        "ラムダ関数の構文は以下の通りです：\n",
        "```python\n",
        "lambda argument: expression\n",
        "```"
      ]
    },
    {
      "cell_type": "markdown",
      "id": "5046331f",
      "metadata": {
        "id": "5046331f"
      },
      "source": [
        "この構文では、「lambda」の後に引数を指定し、その後にコロンを付けてから、返したい式を書きます。ラムダ関数は一度に1つの式しか記述できず、その式の結果が関数の戻り値となります。"
      ]
    },
    {
      "cell_type": "markdown",
      "id": "e53064d3",
      "metadata": {
        "id": "e53064d3"
      },
      "source": [
        "ラムダ関数は引数を取ることができますが、1つの式しか持つことができません。\n",
        "\n",
        "mapやfilterなどのイテラブル（リストなど）を引数とする組み込み関数で、ラムダ関数は頻繁に使用されます。"
      ]
    },
    {
      "cell_type": "markdown",
      "id": "d64673a3",
      "metadata": {
        "id": "d64673a3"
      },
      "source": [
        "mapやfilter は、lambda 関数を、イテラブル（リストなど）の各要素に適用します。"
      ]
    },
    {
      "cell_type": "code",
      "source": [
        "integer_list = [1, 2, 3, 4, 5, 6, 7, 8, 9, 10]\n",
        "\n",
        "squared_integers = list(map(lambda x: x**2, integer_list))\n",
        "\n",
        "squared_integers\n",
        "\n"
      ],
      "metadata": {
        "colab": {
          "base_uri": "https://localhost:8080/"
        },
        "id": "diEAr9KwIiXc",
        "outputId": "4d4b0099-3d6d-4728-a666-489e20f42d77"
      },
      "id": "diEAr9KwIiXc",
      "execution_count": 22,
      "outputs": [
        {
          "output_type": "execute_result",
          "data": {
            "text/plain": [
              "[1, 4, 9, 16, 25, 36, 49, 64, 81, 100]"
            ]
          },
          "metadata": {},
          "execution_count": 22
        }
      ]
    },
    {
      "cell_type": "markdown",
      "id": "18709039",
      "metadata": {
        "id": "18709039"
      },
      "source": [
        "以下は「自分のクラスを定義する」のGoal 5データを使用した簡単な例です。女性の政府職における割合のリストを0から1の範囲の比率のリストに変換するために、次の関数を使用できます。"
      ]
    },
    {
      "cell_type": "code",
      "execution_count": 19,
      "metadata": {
        "id": "P0Ksfoct5w8W"
      },
      "outputs": [],
      "source": [
        "usa_govt_percentages = [\n",
        "    13.33,\n",
        "    14.02,\n",
        "    14.02,\n",
        "    14.25,\n",
        "    14.25,\n",
        "    14.94,\n",
        "    15.17,\n",
        "    16.32,\n",
        "    16.78,\n",
        "    17.01,\n",
        "    16.78,\n",
        "    16.78,\n",
        "    16.82,\n",
        "    17.78,\n",
        "    18.29,\n",
        "    19.35,\n",
        "    19.35,\n",
        "    19.08,\n",
        "    19.49,\n",
        "    23.56,\n",
        "    23.43,\n",
        "    27.25,\n",
        "    27.71,\n",
        "    29.43,\n",
        "]"
      ],
      "id": "P0Ksfoct5w8W"
    },
    {
      "cell_type": "code",
      "source": [
        "usa_govt_proportions = list(map(lambda x: x / 100, usa_govt_percentages))\n"
      ],
      "metadata": {
        "id": "KCvoh5KVHYcw"
      },
      "id": "KCvoh5KVHYcw",
      "execution_count": 20,
      "outputs": []
    },
    {
      "cell_type": "markdown",
      "id": "e9911683",
      "metadata": {
        "id": "e9911683"
      },
      "source": [
        "この場合、1行で多くのことが行われています。ラムダ関数は"
      ]
    },
    {
      "cell_type": "markdown",
      "id": "93d90bc0",
      "metadata": {
        "id": "93d90bc0"
      },
      "source": [
        "この関数におけるラムダ式は、一時的な変数 `x` を使用しており、その内容は関数が評価されるまで実際には定義されません。"
      ]
    },
    {
      "cell_type": "markdown",
      "id": "4ab2a2f6",
      "metadata": {
        "id": "4ab2a2f6"
      },
      "source": [
        "関数の外で使用されます。`map()`はリスト内の各要素にラムダ関数を適用します。そして最後に、`list()`が`map`に基づいて新しいリストを作成します。"
      ]
    },
    {
      "cell_type": "markdown",
      "id": "539c71e8",
      "metadata": {
        "id": "539c71e8"
      },
      "source": [
        "これは次の結果をもたらします。"
      ]
    },
    {
      "cell_type": "code",
      "source": [
        "usa_govt_proportions"
      ],
      "metadata": {
        "colab": {
          "base_uri": "https://localhost:8080/"
        },
        "id": "ekNRpD-5IA5A",
        "outputId": "fac09ee8-037b-4538-b50f-ce3aef7b1916"
      },
      "id": "ekNRpD-5IA5A",
      "execution_count": 21,
      "outputs": [
        {
          "output_type": "execute_result",
          "data": {
            "text/plain": [
              "[0.1333,\n",
              " 0.1402,\n",
              " 0.1402,\n",
              " 0.1425,\n",
              " 0.1425,\n",
              " 0.1494,\n",
              " 0.1517,\n",
              " 0.1632,\n",
              " 0.1678,\n",
              " 0.17010000000000003,\n",
              " 0.1678,\n",
              " 0.1678,\n",
              " 0.16820000000000002,\n",
              " 0.1778,\n",
              " 0.18289999999999998,\n",
              " 0.1935,\n",
              " 0.1935,\n",
              " 0.19079999999999997,\n",
              " 0.1949,\n",
              " 0.23559999999999998,\n",
              " 0.2343,\n",
              " 0.2725,\n",
              " 0.2771,\n",
              " 0.2943]"
            ]
          },
          "metadata": {},
          "execution_count": 21
        }
      ]
    },
    {
      "cell_type": "markdown",
      "id": "3651dd7d",
      "metadata": {
        "id": "3651dd7d"
      },
      "source": [
        "この関数を適用しても元のデータは変更されていないことに注意してください。変更されたデータを含む新しいリストが作成されました。"
      ]
    },
    {
      "cell_type": "code",
      "source": [
        "\n"
      ],
      "metadata": {
        "id": "BQAw5QoKIarB"
      },
      "id": "BQAw5QoKIarB",
      "execution_count": null,
      "outputs": []
    },
    {
      "cell_type": "markdown",
      "id": "0658a684",
      "metadata": {
        "id": "0658a684"
      },
      "source": [
        "データフレームへの関数の適用"
      ]
    },
    {
      "cell_type": "markdown",
      "id": "4c8d1891",
      "metadata": {
        "id": "4c8d1891"
      },
      "source": [
        "上記の組み込み関数と同様に、以下の方法でも適用できます。"
      ]
    },
    {
      "cell_type": "markdown",
      "id": "92aec176",
      "metadata": {
        "id": "92aec176"
      },
      "source": [
        "関数をDataFrameに適用することは、既存の列に基づいて新しい列を作成したい場合に特に便利です。再び、別の関数を入力として受け取る関数を使用することができます。pandasでは、これは次のように行います。"
      ]
    },
    {
      "cell_type": "markdown",
      "id": "7ae51454",
      "metadata": {
        "id": "7ae51454"
      },
      "source": [
        "以下は、DataFrameの列にラムダ関数を適用する例です："
      ]
    },
    {
      "cell_type": "markdown",
      "id": "4635dd92",
      "metadata": {
        "id": "4635dd92"
      },
      "source": [
        "この例では、その列はデータに関するものです。"
      ]
    },
    {
      "cell_type": "markdown",
      "id": "15d7dd4c",
      "metadata": {
        "id": "15d7dd4c"
      },
      "source": [
        "政府職における女性について章全体で使用しているデータ。ラムダ関数は政府内の女性の割合を取ります。"
      ]
    },
    {
      "cell_type": "markdown",
      "id": "25a2193e",
      "metadata": {
        "id": "25a2193e"
      },
      "source": [
        "役職の割合が50%未満であれば返します。"
      ]
    },
    {
      "cell_type": "markdown",
      "id": "325cf057",
      "metadata": {
        "id": "325cf057"
      },
      "source": [
        "または、それが50％以上の場合。"
      ]
    },
    {
      "cell_type": "markdown",
      "id": "7b281987",
      "metadata": {
        "id": "7b281987"
      },
      "source": [
        "他の場所で定義された名前付き関数と一緒に使用することもできます。"
      ]
    },
    {
      "cell_type": "markdown",
      "id": "28819c50",
      "metadata": {
        "id": "28819c50"
      },
      "source": [
        "同様に、以前の関数を名前付き関数として以下に示します。"
      ]
    },
    {
      "cell_type": "markdown",
      "id": "d23dff7e",
      "metadata": {
        "id": "d23dff7e"
      },
      "source": [
        "関数をカラム内の各行に適用するには、その関数を渡してください。"
      ]
    },
    {
      "cell_type": "markdown",
      "id": "80af3b78",
      "metadata": {
        "id": "80af3b78"
      },
      "source": [
        "関数への引数として名前を指定します。"
      ]
    },
    {
      "cell_type": "markdown",
      "id": "0880a664",
      "metadata": {
        "id": "0880a664"
      },
      "source": [
        "これは、ラムダ関数を書くよりも良い解決策です。というのも、将来的に関数を再利用したい場合があるためです。また、テストやデバッグを個別に行うこともできますし、ラムダ関数よりも複雑な機能を含めることができます。"
      ]
    },
    {
      "cell_type": "markdown",
      "id": "5a629743",
      "metadata": {
        "id": "5a629743"
      },
      "source": [
        "Pandasの関数は、組み込みのベクトル化された関数に比べて遅いです。"
      ]
    },
    {
      "cell_type": "markdown",
      "id": "972b483f",
      "metadata": {
        "id": "972b483f"
      },
      "source": [
        "それはDataFrameのすべての行を反復するためです。したがって、ベストプラクティスは使用することです。"
      ]
    },
    {
      "cell_type": "markdown",
      "id": "5f098509",
      "metadata": {
        "id": "5f098509"
      },
      "source": [
        "すでに実装されていないものに対してのみ。リストの最大値を取得するような単純な数値操作や、ある文字列を別の文字列に置換するような単純な文字列操作は、すでに高速なベクトル化された関数として利用可能なので、可能な限りこれらの組み込み関数を使用すべきです。"
      ]
    },
    {
      "cell_type": "markdown",
      "id": "4bd1c37b",
      "metadata": {
        "id": "4bd1c37b"
      },
      "source": [
        "どのパラダイムを使用すべきですか?"
      ]
    },
    {
      "cell_type": "markdown",
      "id": "30202e34",
      "metadata": {
        "id": "30202e34"
      },
      "source": [
        "正直に言うと、自分で小さなスクリプトを書いたり短いプロジェクトに取り組んだりしている場合、これらのパラダイムのどちらかを完全に受け入れる必要はありません。動作するモジュール式のスクリプトにとどめておけば十分です。"
      ]
    },
    {
      "cell_type": "markdown",
      "id": "cc910919",
      "metadata": {
        "id": "cc910919"
      },
      "source": [
        "ただし、より大規模なプロジェクトにおいては、取り扱っている問題の種類や、これらのパラダイムのいずれが適しているかを考えることがおすすめです。処理を必要とする一連の物事について考えている場合、OOP（オブジェクト指向プログラミング）を選択するかもしれません。問題空間を、同様の振る舞いを持ちながら異なる属性やデータを持つインスタンスに変えることができます。ここで重要な点は、あるクラスのインスタンスが多く存在するべきだということです。もしそのクラスのインスタンスが1つしかないのであれば、新しいクラスを書く価値はほとんどありません。それは単に不要な複雑さを追加することになります。"
      ]
    },
    {
      "cell_type": "markdown",
      "id": "5ecd06cc",
      "metadata": {
        "id": "5ecd06cc"
      },
      "source": [
        "データが固定されていて新しい操作をしたくなった場合、関数型プログラミング（FP）は良い選択肢かもしれません。大量のデータを扱っており、それに対する操作を並列化したい場合も、FPを検討する価値があります。"
      ]
    },
    {
      "cell_type": "markdown",
      "id": "06dcb429",
      "metadata": {
        "id": "06dcb429"
      },
      "source": [
        "しかし、ここに正解や不正解があるわけではありません。もし一人で作業しているなら、自分の好みに従えばよいですし、チームで作業しているのであれば、標準化を維持するためにチームで主に使用されているものに従えばよいでしょう。これらのパラダイムが使用されていることを認識し、他の人のコードでそれを活用し、あなたの特定の問題に対して最も効果的なものを判断することが重要です。"
      ]
    },
    {
      "cell_type": "markdown",
      "id": "bf6ce227",
      "metadata": {
        "id": "bf6ce227"
      },
      "source": [
        "重要なポイント"
      ]
    },
    {
      "cell_type": "markdown",
      "id": "0c8ef61a",
      "metadata": {
        "id": "0c8ef61a"
      },
      "source": [
        "OOPとFPは、コードを読む際に出会うプログラミングパラダイムです。OOPはカスタムデータ構造であるオブジェクトを扱い、FPは基礎となるデータを変更しない関数を扱います。"
      ]
    },
    {
      "cell_type": "markdown",
      "id": "caf98655",
      "metadata": {
        "id": "caf98655"
      },
      "source": [
        "OOP（オブジェクト指向プログラミング）では、クラスは新しいオブジェクトを定義し、これに属性やメソッドを持たせることができます。関連するメソッドとデータをまとめるために独自のクラスを定義することができ、類似したオブジェクトのインスタンスが多い場合には非常に有効なアプローチです。コードの繰り返しを避けるためには継承を使用でき、インターフェースを標準化するためにはポリモーフィズム（多態性）を利用できます。"
      ]
    },
    {
      "cell_type": "markdown",
      "id": "149d5bcd",
      "metadata": {
        "id": "149d5bcd"
      },
      "source": [
        "FPでは、理想的にはすべてが関数の中に含まれています。これは、変更されないデータに対して多くの処理を行いたい場合や、データに対する処理を並列化したい場合に便利です。PythonにおけるFPの最も一般的な例として、ラムダ関数があります。"
      ]
    },
    {
      "cell_type": "markdown",
      "id": "e6a37aa3",
      "metadata": {
        "id": "e6a37aa3"
      },
      "source": [
        "使用するパラダイムの選択は取り組んでいる問題によって変わりますが、両方の認識を持っていると便利です。"
      ]
    }
  ],
  "metadata": {
    "colab": {
      "provenance": [],
      "include_colab_link": true
    },
    "language_info": {
      "name": "python"
    },
    "kernelspec": {
      "name": "python3",
      "display_name": "Python 3"
    }
  },
  "nbformat": 4,
  "nbformat_minor": 5
}